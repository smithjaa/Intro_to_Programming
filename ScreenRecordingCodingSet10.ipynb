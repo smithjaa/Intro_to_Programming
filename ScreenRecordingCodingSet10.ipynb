{
 "cells": [
  {
   "cell_type": "markdown",
   "metadata": {
    "colab_type": "text",
    "id": "view-in-github"
   },
   "source": [
    "<a href=\"https://colab.research.google.com/github/smithjaa/Intro_to_Programming/blob/main/ScreenRecordingCodingSet10.ipynb\" target=\"_parent\"><img src=\"https://colab.research.google.com/assets/colab-badge.svg\" alt=\"Open In Colab\"/></a>"
   ]
  },
  {
   "cell_type": "markdown",
   "metadata": {
    "id": "V_9gU-dva4Xx"
   },
   "source": [
    "# Chapter **10** Coding Set\n",
    "\n",
    "\n",
    "\n",
    "Work completed by Jacob Smith\n",
    "\n",
    "IMPORTANT: Remember to screen record ALL of your work on at least one problem. You must turn off the generative AI code-completion for this problem, as this problem is preparation for our final exam practical. You can turn off generative AI code-completion within Colab by tapping/clicking the settings icon in the upper right, tapping/clicking the AI Assistance section, and then deselecting \"Consented to use generative AI features\" and selecting \"Hide generative AI features\" (these settings may be returned to their previous states once you've completed this problem).\n",
    "\n",
    "If you start to struggle with a problem for an extended period of time, remember you can go comment on two other submissions now (seeing other student work helps), or you can post in our discussion forum for questions, which can also earn you extra credit."
   ]
  },
  {
   "cell_type": "markdown",
   "metadata": {
    "id": "jW9S_3jcOdYt"
   },
   "source": [
    "## Imports\n",
    "\n",
    "**If your program requires additional modules, external resources, or files, use this cell to set them up**"
   ]
  },
  {
   "cell_type": "code",
   "execution_count": null,
   "metadata": {
    "id": "mYW-OioYOu3g"
   },
   "outputs": [],
   "source": [
    "# configure your environment\n",
    "\n",
    "# you can uncomment this code to make use of files stored in your Google Drive\n",
    "# from google.colab import drive\n",
    "# drive.mount('/content/drive')\n",
    "\n",
    "# you can uncomment the following line of code to use the pandas library\n",
    "# import pandas as pd"
   ]
  },
  {
   "cell_type": "markdown",
   "metadata": {
    "id": "2b2z_elQf2qP"
   },
   "source": [
    "## Programming Exercises"
   ]
  },
  {
   "cell_type": "markdown",
   "metadata": {
    "id": "klCvdzHvf74V"
   },
   "source": [
    "### Problem **1**\n",
    "\n",
    "#### Question Text\n",
    "\n",
    "Write a class named Pet, which should have the following data attributes:\n",
    "\n",
    "_ _name (for the name of a pet)\n",
    "\n",
    "_ _animal_type (for the type of animal that a pet is. Example values are ‘Dog’, ‘Cat’, and ‘Bird’)\n",
    "\n",
    "_ _age (for the pet’s age)\n",
    "\n",
    "The Pet class should have an _ _init_ _ method that creates these attributes. It should also have the following methods:\n",
    "\n",
    "set_name\n",
    "\n",
    "This method assigns a value to the _ _name field.\n",
    "\n",
    "set_animal_type\n",
    "\n",
    "This method assigns a value to the _ _animal_type field.\n",
    "\n",
    "set_age\n",
    "\n",
    "This method assigns a value to the _ _age field.\n",
    "\n",
    "get_name\n",
    "\n",
    "This method returns the value of the _ _ name field.\n",
    "\n",
    "get_animal_type\n",
    "\n",
    "This method returns the value of the _ _animal_type field.\n",
    "\n",
    "get_age\n",
    "\n",
    "This method returns the value of the _ _age field.\n",
    "\n",
    "Once you have written the class, write a program that creates an object of the class and prompts the user to enter the name, type, and age of his or her pet. This data should be stored as the object’s attributes. Use the object’s accessor methods to retrieve the pet’s name, type, and age and display this data on the screen.\n",
    "\n",
    "#### High-Level Overview\n",
    "\n",
    "I was really happy with this exercise.  I usually dive into something a little harder and stress but for just writing my first class and utilizing it, this was great.  I first created the class pet and created an init to assign innitial statements.  Then I just added the methods as requested.  Finally I requested data from a user, and passed that data to the Pet class, and used a final print statement to dislpay all of the information retrieved from the accessor methods.\n"
   ]
  },
  {
   "cell_type": "code",
   "execution_count": 6,
   "metadata": {
    "id": "iQooA6BWlvx5"
   },
   "outputs": [
    {
     "name": "stdout",
     "output_type": "stream",
     "text": [
      "Welcome to the Pet Club Registry\n"
     ]
    },
    {
     "name": "stdin",
     "output_type": "stream",
     "text": [
      "Please enter your pet's name:  Josh\n",
      "What type of animal is Josh?:  Owl\n",
      "What is Josh's age?:  23\n"
     ]
    },
    {
     "name": "stdout",
     "output_type": "stream",
     "text": [
      "Thank you, we have registered Josh as 23 years old, and the fact that he is a/an Owl.\n"
     ]
    }
   ],
   "source": [
    "# add your code to this cell\n",
    "# remember to include comments like this one for most of your code\n",
    "# remember to \"Run cell\" once you're done, excecuting your code so the output is displayed below\n",
    "\n",
    "#define class\n",
    "class Pet:\n",
    "    #create attributes with init\n",
    "    def __init__(self, name, animal_type, age):\n",
    "        self.name = name\n",
    "        self.animal_type = animal_type\n",
    "        self.age = age\n",
    "    \n",
    "    #method set name\n",
    "    def set_name(self, name):\n",
    "        self.name = name\n",
    "        \n",
    "    #method set_animal_type\n",
    "    def set_animal_type(self, animal_type):\n",
    "        self.animal_type = animal_type\n",
    "\n",
    "    #method set_age\n",
    "    def set_age(self, age):\n",
    "        self.age = age\n",
    "\n",
    "    #method get_name\n",
    "    def get_name(self):\n",
    "        return self.name\n",
    "\n",
    "    #method get_animal_type\n",
    "    def get_animal_type(self):\n",
    "        return self.animal_type\n",
    "        \n",
    "    #method get_age\n",
    "    def get_age(self):\n",
    "        return self.age\n",
    "\n",
    "#collect data from the user\n",
    "print(\"Welcome to the Pet Club Registry\")\n",
    "name = input(\"Please enter your pet's name: \")\n",
    "animal_type = input(f\"What type of animal is {name}?: \")\n",
    "age = input(f\"What is {name}'s age?: \")\n",
    "\n",
    "# create an instance of a Pet named userpet\n",
    "userpet = Pet(name, animal_type, age)\n",
    "\n",
    "#Print including data from the accessor methods\n",
    "print(f\"Thank you, we have registered {userpet.get_name()} as {userpet.get_age()} years old, and the fact that he is a/an {userpet.get_animal_type()}.\")\n",
    "\n"
   ]
  },
  {
   "cell_type": "markdown",
   "metadata": {
    "id": "VxGugqDyxh_p"
   },
   "source": [
    "### Problem **9**\n",
    "\n",
    "#### Question Text\n",
    "\n",
    "Trivia Game\n",
    "In this programming exercise, you will create a simple trivia game for two players. The program will work like this:\n",
    "\n",
    "Starting with player 1, each player gets a turn at answering 5 trivia questions. (There should be a total of 10 questions.) When a question is displayed, 4 possible answers are also displayed. Only one of the answers is correct, and if the player selects the correct answer, he or she earns a point.\n",
    "\n",
    "After answers have been selected for all the questions, the program displays the number of points earned by each player and declares the player with the highest number of points the winner.\n",
    "\n",
    "To create this program, write a Question class to hold the data for a trivia question. The Question class should have attributes for the following data:\n",
    "\n",
    "A trivia question\n",
    "\n",
    "Possible answer 1\n",
    "\n",
    "Possible answer 2\n",
    "\n",
    "Possible answer 3\n",
    "\n",
    "Possible answer 4\n",
    "\n",
    "The number of the correct answer (1, 2, 3, or 4)\n",
    "\n",
    "The Question class also should have an appropriate _ _init_ _ method, accessors, and mutators.\n",
    "\n",
    "The program should have a list or a dictionary containing 10 Question objects, one for each trivia question. Make up your own trivia questions on the subject or subjects of your choice for the objects.\n",
    "\n",
    "#### High-Level Overview\n",
    "\n",
    "*In two to three sentences at minimum, walk through your general approach to the problem and identify any particular issues you had.*\n"
   ]
  },
  {
   "cell_type": "code",
   "execution_count": 26,
   "metadata": {
    "id": "CCUIs3F5xhdd"
   },
   "outputs": [
    {
     "ename": "SyntaxError",
     "evalue": "unterminated f-string literal (detected at line 65) (3489813394.py, line 65)",
     "output_type": "error",
     "traceback": [
      "\u001b[1;36m  Cell \u001b[1;32mIn[26], line 65\u001b[1;36m\u001b[0m\n\u001b[1;33m    p1_ans = input(f\"Player 1, What port does {p1_question.get_question()} utilize?  {p1_question.get_ans_1()}, {p1_question.get_ans_2()},\u001b[0m\n\u001b[1;37m                   ^\u001b[0m\n\u001b[1;31mSyntaxError\u001b[0m\u001b[1;31m:\u001b[0m unterminated f-string literal (detected at line 65)\n"
     ]
    }
   ],
   "source": [
    "# add your code to this cell\n",
    "# remember to include comments like this one for most of your code\n",
    "# remember to \"Run cell\" once you're done, excecuting your code so the output is displayed below\n",
    "\n",
    "#import random to make the question random\n",
    "import random\n",
    "\n",
    "#Question CLass\n",
    "class Question:\n",
    "    #__init__ method\n",
    "    def __init__(self, question, ans_1, ans_2, ans_3, ans_4, correct_answer):\n",
    "        self.question = question\n",
    "        self.ans_1 = ans_1\n",
    "        self.ans_2 = ans_2\n",
    "        self.ans_3 = ans_3\n",
    "        self.ans_4 = ans_4\n",
    "        self.correct_answer = correct_answer\n",
    "\n",
    "    #accessors method\n",
    "    def get_question(self):\n",
    "        return self.question\n",
    "    def get_ans_1(self):\n",
    "        return self.ans_1\n",
    "    def get_ans_2(self):\n",
    "        return self.ans2\n",
    "    def get_ans_3(self):\n",
    "        return self.ans3\n",
    "    def get_ans_4(self):\n",
    "        return self.ans4\n",
    "    def get_correct_answer(self):\n",
    "        return self.correct_answer\n",
    "        \n",
    "\n",
    "#Add the trivia questions\n",
    "q_1 = Question(\"Secure Shell (SSH)\", 53, 25, 22, 548, 22) \n",
    "q_2 = Question(\"Service Location Protocol (SLP)\", 427, 143, 23, 3389, 427)\n",
    "q_3 = Question(\"Domain Name Server (DNS)\", 25, 53, 3389, 143, 53)\n",
    "q_4 = Question(\"Internet Message Access Protocol (IMAP)\", 143, 53, 3389, 427, 143)\n",
    "q_5 = Question(\"Hypertext Transfer Protocol (HTTP)\", 22, 427, 80, 143, 80)\n",
    "q_6 = Question(\"Remote Desktop Protocol (RDP)\", 548, 3389, 25, 21, 3389)\n",
    "q_7 = Question(\"Simple Mail Transfer Protocol (SMTP)\", 25, 53, 23, 427, 25)\n",
    "q_8 = Question(\"Apple Filing Protocol (AFP)\", 53, 548, 3389, 143, 548)\n",
    "q_9 = Question(\"File Transfer Protocol (FTP)\", 21, 80 ,427, 23, 21)\n",
    "q_10 = Question(\"Telnet\", 548, 80, 427, 23, 23)\n",
    "\n",
    "\n",
    "#Create the main function\n",
    "def main():\n",
    "    #Welcome the user\n",
    "    print(\"Welcome to the A+ certification port quiz\")\n",
    "\n",
    "    #create a list of questions\n",
    "    question_list[\"q_1\", \"q_2\", \"q_3\", \"q_4\", \"q_5\", \"q_6\", \"q_7\", \"q_8\", \"q_9\", \"q_10\"]\n",
    "\n",
    "    #create score variable\n",
    "    player1_score = 0\n",
    "    player2_score = 0\n",
    "    \n",
    "    #for loop to ask player 1 and player 2 questions\n",
    "    for i in range(5):\n",
    "        p1_question = random.choice(question_list)\n",
    "        p2_question = random.choice(question_list)\n",
    "        \n",
    "        #player 1 questions\n",
    "        p1_ans = input(\n",
    "            f\"Player 1, What port does {p1_question.get_question()} utilize?  {p1_question.get_ans_1()},\"\n",
    "            f\"{p1_question.get_ans_2()}, {p1_question.get_ans_3()} or {p1_question.get_ans_4()}?\")\n",
    "        \n",
    "        if p1_ans == p1_question.get_correct_answer():\n",
    "            print(\"Your answer was Correct\")\n",
    "            player1_score += 1\n",
    "\n",
    "        else:\n",
    "            (print \"your answer was incorrect\")\n",
    "\n",
    "        #player 2 questions\n",
    "        \n",
    "        \n",
    "\n",
    "\n",
    "        \n",
    "        \n",
    "    \n",
    "\n",
    "#Test correct answer\n",
    "#print(q_1.get_correct_answer())\n",
    "\n",
    "main()\n"
   ]
  },
  {
   "cell_type": "markdown",
   "metadata": {
    "id": "NxsN1n6_yXlW"
   },
   "source": [
    "## Helpful Checks\n",
    "\n",
    "1.   Did you comment every line of code with meaningful information that will help others reading your code?\n",
    "2.   Did you use appropriate names for your variables, functions, and/or classes?\n",
    "3.   Did you include a high-level explanation for each solution?\n",
    "4.   Did you run each cell that includes a final solution so the output is saved and easily viewed by others?\n",
    "5.   Are you sharing an editable link (i.e., Share > Anyone with the link > Editor) if using Colaboratory, or did you make more than ten commits if using GitHub?\n",
    "6.   Did you remember to comment on the submissions of two other students?\n",
    "7.   Did you remember to screen record all of your work for at least one problem while turning off the generative AI features?\n",
    "8.   Did you remember to create a diagram (e.g., UML class diagram, flowchart, or hierarchical diagram) and include the link with your D2L submission?"
   ]
  },
  {
   "cell_type": "code",
   "execution_count": null,
   "metadata": {
    "id": "yRtnTuqDgYhg"
   },
   "outputs": [],
   "source": []
  }
 ],
 "metadata": {
  "colab": {
   "include_colab_link": true,
   "provenance": []
  },
  "kernelspec": {
   "display_name": "Python [conda env:base] *",
   "language": "python",
   "name": "conda-base-py"
  },
  "language_info": {
   "codemirror_mode": {
    "name": "ipython",
    "version": 3
   },
   "file_extension": ".py",
   "mimetype": "text/x-python",
   "name": "python",
   "nbconvert_exporter": "python",
   "pygments_lexer": "ipython3",
   "version": "3.12.7"
  }
 },
 "nbformat": 4,
 "nbformat_minor": 4
}
