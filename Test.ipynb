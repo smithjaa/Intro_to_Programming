{
 "cells": [
  {
   "cell_type": "markdown",
   "id": "f200887d-cde6-4d61-a7f4-83d185c34f26",
   "metadata": {},
   "source": [
    "# Intro to Programming\n",
    "Just testing things out"
   ]
  },
  {
   "cell_type": "code",
   "execution_count": 2,
   "id": "f6c71fea-7261-45db-9d57-006783a08ba7",
   "metadata": {},
   "outputs": [
    {
     "name": "stdout",
     "output_type": "stream",
     "text": [
      "Hopefully GitHub Works\n"
     ]
    }
   ],
   "source": [
    "print (\"Hopefully GitHub Works\")"
   ]
  },
  {
   "cell_type": "code",
   "execution_count": null,
   "id": "87665c26-33a2-4191-876e-36b4edc7b0b5",
   "metadata": {},
   "outputs": [],
   "source": []
  }
 ],
 "metadata": {
  "kernelspec": {
   "display_name": "Python [conda env:base] *",
   "language": "python",
   "name": "conda-base-py"
  },
  "language_info": {
   "codemirror_mode": {
    "name": "ipython",
    "version": 3
   },
   "file_extension": ".py",
   "mimetype": "text/x-python",
   "name": "python",
   "nbconvert_exporter": "python",
   "pygments_lexer": "ipython3",
   "version": "3.12.7"
  }
 },
 "nbformat": 4,
 "nbformat_minor": 5
}
