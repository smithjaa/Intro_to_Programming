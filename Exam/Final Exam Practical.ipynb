{
 "cells": [
  {
   "cell_type": "code",
   "execution_count": 4,
   "id": "35a2cecf-9eb7-4d61-a69a-9c65bc29b8ca",
   "metadata": {},
   "outputs": [
    {
     "name": "stdout",
     "output_type": "stream",
     "text": [
      "The string is not evenly divisable by 5\n"
     ]
    }
   ],
   "source": [
    "greeting = \"  Hello, little people of Earth!      \"\n",
    "\n",
    "#1.determine the length of the string\n",
    "greeting_length = len(greeting)\n",
    "p\n",
    "#2.\n",
    "if greeting_length % 5 == 0:\n",
    "    print(\"The string is evenly divisable by 5\")\n",
    "else:\n",
    "    print(\"The string is not evenly divisable by 5\")\n",
    "\n",
    "    "
   ]
  },
  {
   "cell_type": "code",
   "execution_count": null,
   "id": "2b96872c-b1f1-4e66-9927-6b58e56a1c42",
   "metadata": {},
   "outputs": [],
   "source": []
  }
 ],
 "metadata": {
  "kernelspec": {
   "display_name": "Python [conda env:base] *",
   "language": "python",
   "name": "conda-base-py"
  },
  "language_info": {
   "codemirror_mode": {
    "name": "ipython",
    "version": 3
   },
   "file_extension": ".py",
   "mimetype": "text/x-python",
   "name": "python",
   "nbconvert_exporter": "python",
   "pygments_lexer": "ipython3",
   "version": "3.12.7"
  }
 },
 "nbformat": 4,
 "nbformat_minor": 5
}
