{
 "cells": [
  {
   "cell_type": "code",
   "execution_count": 18,
   "id": "35a2cecf-9eb7-4d61-a69a-9c65bc29b8ca",
   "metadata": {},
   "outputs": [
    {
     "name": "stdout",
     "output_type": "stream",
     "text": [
      "The length of your string is 38.\n",
      "The string is not evenly divisable by 5\n",
      "Hello, little people of Earth!\n",
      "Hello\n",
      "Helloooooooooooooooooooooooooooooooooooooooooooooooooooooooooooo\n"
     ]
    }
   ],
   "source": [
    "greeting = \"  Hello, little people of Earth!      \"\n",
    "\n",
    "#1.determine the length of the string\n",
    "greeting_length = len(greeting)\n",
    "print(f\"The length of your string is {greeting_length}.\")\n",
    "\n",
    "#2 Determine if this length is evenly divisible by 5.\n",
    "if greeting_length % 5 == 0:\n",
    "    print(\"The string is evenly divisable by 5\")\n",
    "else:\n",
    "    print(\"The string is not evenly divisable by 5\")\n",
    "\n",
    "#3. Strip the spaces\n",
    "trimmed_greeting = greeting.strip()\n",
    "print(trimmed_greeting)\n",
    "\n",
    "#4. Store the first 5 characters of the new string into a new variable\n",
    "shortened_greeting = trimmed_greeting[:5]\n",
    "print(shortened_greeting)\n",
    "\n",
    "#5. Append the updated string to have 59 'o' characters\n",
    "extra_o = shortened_greeting + (\"o\" * 59)\n",
    "print (extra_o)\n",
    "\n",
    "    "
   ]
  },
  {
   "cell_type": "code",
   "execution_count": 20,
   "id": "9efbc535-2911-4a98-8665-ef4423f9df8c",
   "metadata": {},
   "outputs": [
    {
     "name": "stdout",
     "output_type": "stream",
     "text": [
      "Your result for 51: is super\n",
      "Your result for 52: is 52\n",
      "Your result for 53: is 53\n",
      "Your result for 54: is super\n",
      "Your result for 55: is 55\n",
      "Your result for 56: is duper\n",
      "Your result for 57: is super\n",
      "Your result for 58: is 58\n",
      "Your result for 59: is 59\n",
      "Your result for 60: is super\n",
      "Your result for 61: is 61\n",
      "Your result for 62: is 62\n",
      "Your result for 63: is superduper\n",
      "Your result for 64: is 64\n",
      "Your result for 65: is 65\n",
      "Your result for 66: is super\n",
      "Your result for 67: is 67\n",
      "Your result for 68: is 68\n",
      "Your result for 69: is super\n",
      "Your result for 70: is duper\n",
      "Your result for 71: is 71\n",
      "Your result for 72: is super\n",
      "Your result for 73: is 73\n",
      "Your result for 74: is 74\n",
      "Your result for 75: is super\n",
      "Your result for 76: is 76\n",
      "Your result for 77: is duper\n",
      "Your result for 78: is super\n",
      "Your result for 79: is 79\n",
      "Your result for 80: is 80\n",
      "Your result for 81: is super\n",
      "Your result for 82: is 82\n",
      "Your result for 83: is 83\n",
      "Your result for 84: is superduper\n",
      "Your result for 85: is 85\n",
      "Your result for 86: is 86\n",
      "Your result for 87: is super\n",
      "Your result for 88: is 88\n",
      "Your result for 89: is 89\n",
      "Your result for 90: is super\n",
      "Your result for 91: is duper\n",
      "Your result for 92: is 92\n",
      "Your result for 93: is super\n",
      "Your result for 94: is 94\n",
      "Your result for 95: is 95\n",
      "Your result for 96: is super\n",
      "Your result for 97: is 97\n",
      "Your result for 98: is duper\n",
      "Your result for 99: is super\n"
     ]
    }
   ],
   "source": [
    "#Question 2\n",
    "\n",
    "#Define function super_duper\n",
    "def super_duper(num):\n",
    "    if (num % 3) == 0 and (num % 7) == 0:\n",
    "        return \"superduper\"\n",
    "    elif (num % 3) == 0:\n",
    "        return \"super\"\n",
    "    elif (num % 7) == 0:\n",
    "        return \"duper\"\n",
    "    else:\n",
    "        return num\n",
    "\n",
    "#Defining the main function\n",
    "def main():\n",
    "    #loop from 51 to 99, 100 is exclusive\n",
    "    for num in range(51, 100):\n",
    "        result = super_duper(num)\n",
    "        print(f\"Your result for {num}: is {result}\")\n",
    "\n",
    "if __name__ == \"__main__\":\n",
    "    main()\n",
    "    \n",
    "\n"
   ]
  },
  {
   "cell_type": "code",
   "execution_count": null,
   "id": "70d7eafd-aeb7-496b-9ff7-e01666c737a2",
   "metadata": {},
   "outputs": [],
   "source": [
    "#3"
   ]
  },
  {
   "cell_type": "code",
   "execution_count": null,
   "id": "c30a6469-9e68-4e9f-8918-27f80f2e060c",
   "metadata": {},
   "outputs": [],
   "source": []
  }
 ],
 "metadata": {
  "kernelspec": {
   "display_name": "Python [conda env:base] *",
   "language": "python",
   "name": "conda-base-py"
  },
  "language_info": {
   "codemirror_mode": {
    "name": "ipython",
    "version": 3
   },
   "file_extension": ".py",
   "mimetype": "text/x-python",
   "name": "python",
   "nbconvert_exporter": "python",
   "pygments_lexer": "ipython3",
   "version": "3.12.7"
  }
 },
 "nbformat": 4,
 "nbformat_minor": 5
}
