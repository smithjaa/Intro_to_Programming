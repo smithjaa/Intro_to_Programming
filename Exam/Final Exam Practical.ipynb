{
 "cells": [
  {
   "cell_type": "code",
   "execution_count": 18,
   "id": "35a2cecf-9eb7-4d61-a69a-9c65bc29b8ca",
   "metadata": {},
   "outputs": [
    {
     "name": "stdout",
     "output_type": "stream",
     "text": [
      "The length of your string is 38.\n",
      "The string is not evenly divisable by 5\n",
      "Hello, little people of Earth!\n",
      "Hello\n",
      "Helloooooooooooooooooooooooooooooooooooooooooooooooooooooooooooo\n"
     ]
    }
   ],
   "source": [
    "greeting = \"  Hello, little people of Earth!      \"\n",
    "\n",
    "#1.determine the length of the string\n",
    "greeting_length = len(greeting)\n",
    "print(f\"The length of your string is {greeting_length}.\")\n",
    "\n",
    "#2 Determine if this length is evenly divisible by 5.\n",
    "if greeting_length % 5 == 0:\n",
    "    print(\"The string is evenly divisable by 5\")\n",
    "else:\n",
    "    print(\"The string is not evenly divisable by 5\")\n",
    "\n",
    "#3. Strip the spaces\n",
    "trimmed_greeting = greeting.strip()\n",
    "print(trimmed_greeting)\n",
    "\n",
    "#4. Store the first 5 characters of the new string into a new variable\n",
    "shortened_greeting = trimmed_greeting[:5]\n",
    "print(shortened_greeting)\n",
    "\n",
    "#5. Append the updated string to have 59 'o' characters\n",
    "extra_o = shortened_greeting + (\"o\" * 59)\n",
    "print (extra_o)\n",
    "\n",
    "    "
   ]
  },
  {
   "cell_type": "code",
   "execution_count": null,
   "id": "9efbc535-2911-4a98-8665-ef4423f9df8c",
   "metadata": {},
   "outputs": [],
   "source": [
    "#Question 2\n",
    "\n",
    "#Define function super_duper\n",
    "\n",
    "def super_duper(num):\n",
    "    if (num % 3) == 0 and (num % 7) == 0:\n",
    "        return \"superduper\"\n",
    "    elif (num % 3) == 0:\n",
    "        return \"super\"\n",
    "    elif (num % 7) == 0:\n",
    "        return \"duper\"\n",
    "    else:\n",
    "        return num\n",
    "\n"
   ]
  }
 ],
 "metadata": {
  "kernelspec": {
   "display_name": "Python [conda env:base] *",
   "language": "python",
   "name": "conda-base-py"
  },
  "language_info": {
   "codemirror_mode": {
    "name": "ipython",
    "version": 3
   },
   "file_extension": ".py",
   "mimetype": "text/x-python",
   "name": "python",
   "nbconvert_exporter": "python",
   "pygments_lexer": "ipython3",
   "version": "3.12.7"
  }
 },
 "nbformat": 4,
 "nbformat_minor": 5
}
