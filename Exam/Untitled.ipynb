{
 "cells": [
  {
   "cell_type": "code",
   "execution_count": null,
   "id": "35a2cecf-9eb7-4d61-a69a-9c65bc29b8ca",
   "metadata": {},
   "outputs": [],
   "source": []
  }
 ],
 "metadata": {
  "kernelspec": {
   "display_name": "",
   "name": ""
  },
  "language_info": {
   "name": ""
  }
 },
 "nbformat": 4,
 "nbformat_minor": 5
}
