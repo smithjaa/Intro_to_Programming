{
 "cells": [
  {
   "cell_type": "markdown",
   "metadata": {
    "colab_type": "text",
    "id": "view-in-github"
   },
   "source": [
    "<a href=\"https://colab.research.google.com/github/smithjaa/Intro_to_Programming/blob/main/SupplementalCodingSet.ipynb\" target=\"_parent\"><img src=\"https://colab.research.google.com/assets/colab-badge.svg\" alt=\"Open In Colab\"/></a>"
   ]
  },
  {
   "cell_type": "markdown",
   "metadata": {
    "id": "V_9gU-dva4Xx"
   },
   "source": [
    "# Supplemental Coding Set\n",
    "\n",
    "\n",
    "Work completed by Jacob Smith.\n",
    "\n",
    "IMPORTANT: Remember to screen record ALL of your work on at least one operation performed on your dataset. You must turn off the generative AI code-completion for this operation, as this problem is preparation for our final exam practical. You can turn off generative AI code-completion within Colab by tapping/clicking the settings icon in the upper right, tapping/clicking the AI Assistance section, and then deselecting \"Consented to use generative AI features\" and selecting \"Hide generative AI features\" (these settings may be returned to their previous states once you've completed this problem).\n",
    "\n",
    "If you start to struggle with a problem for an extended period of time, remember you can go comment on two other submissions now (seeing other student work helps), or you can post in our discussion forum for questions, which can also earn you extra credit."
   ]
  },
  {
   "cell_type": "markdown",
   "metadata": {
    "id": "jW9S_3jcOdYt"
   },
   "source": [
    "## Imports\n",
    "\n",
    "**If your program requires additional modules, external resources, or files, use this cell to set them up**"
   ]
  },
  {
   "cell_type": "code",
   "execution_count": null,
   "metadata": {
    "id": "mYW-OioYOu3g"
   },
   "outputs": [],
   "source": [
    "# configure your environment\n",
    "\n",
    "# you can uncomment this code to make use of files stored in your Google Drive\n",
    "# from google.colab import drive\n",
    "# drive.mount('/content/drive')\n"
   ]
  },
  {
   "cell_type": "markdown",
   "metadata": {
    "id": "2b2z_elQf2qP"
   },
   "source": [
    "## Pandas Operations\n",
    "\n",
    "Please import your dataset into a Pandas Dataframe in the cell below. Please remember to display the top 10 rows of your dataset so students can easily get a sense for the dataset you chose to explore.\n",
    "\n",
    "You may perform additional operations on your dataset that were covered in our slides to explore a bit, though this is optional."
   ]
  },
  {
   "cell_type": "code",
   "execution_count": 1,
   "metadata": {
    "id": "DEXxYCw-iwAY"
   },
   "outputs": [
    {
     "name": "stdout",
     "output_type": "stream",
     "text": [
      "   Rank                       Name Platform    Year         Genre Publisher  \\\n",
      "0     1                 Wii Sports      Wii  2006.0        Sports  Nintendo   \n",
      "1     2          Super Mario Bros.      NES  1985.0      Platform  Nintendo   \n",
      "2     3             Mario Kart Wii      Wii  2008.0        Racing  Nintendo   \n",
      "3     4          Wii Sports Resort      Wii  2009.0        Sports  Nintendo   \n",
      "4     5   Pokemon Red/Pokemon Blue       GB  1996.0  Role-Playing  Nintendo   \n",
      "5     6                     Tetris       GB  1989.0        Puzzle  Nintendo   \n",
      "6     7      New Super Mario Bros.       DS  2006.0      Platform  Nintendo   \n",
      "7     8                   Wii Play      Wii  2006.0          Misc  Nintendo   \n",
      "8     9  New Super Mario Bros. Wii      Wii  2009.0      Platform  Nintendo   \n",
      "9    10                  Duck Hunt      NES  1984.0       Shooter  Nintendo   \n",
      "\n",
      "   NA_Sales  EU_Sales  JP_Sales  Other_Sales  Global_Sales  \n",
      "0     41.49     29.02      3.77         8.46         82.74  \n",
      "1     29.08      3.58      6.81         0.77         40.24  \n",
      "2     15.85     12.88      3.79         3.31         35.82  \n",
      "3     15.75     11.01      3.28         2.96         33.00  \n",
      "4     11.27      8.89     10.22         1.00         31.37  \n",
      "5     23.20      2.26      4.22         0.58         30.26  \n",
      "6     11.38      9.23      6.50         2.90         30.01  \n",
      "7     14.03      9.20      2.93         2.85         29.02  \n",
      "8     14.59      7.06      4.70         2.26         28.62  \n",
      "9     26.93      0.63      0.28         0.47         28.31  \n"
     ]
    }
   ],
   "source": [
    "# import the pandas library\n",
    "import pandas as pd\n",
    "\n",
    "#Data Set consists of video game sales stats from 1980-2017, and is sourced from kaggle\n",
    "# import your dataset of interest and store it in a dataframe\n",
    "df = pd.read_csv(\"vgsales.csv\")\n",
    "\n",
    "# remember to display the top 10 rows of your dataset once you have it imported\n",
    "print(df.head(10))"
   ]
  },
  {
   "cell_type": "markdown",
   "metadata": {
    "id": "klCvdzHvf74V"
   },
   "source": [
    "### Operation 1\n",
    "\n",
    "#### Question Text\n",
    "\n",
    "*Use nlargest to report the top 5 best selling games from 1980-2017*\n",
    "\n",
    "#### High-Level Overview\n",
    "\n",
    "*This operation went fairly smoothly.  I wasn't sure that the result would come with a simple print statement but it worked out.  The nlargest command is pretty easy to use.*\n"
   ]
  },
  {
   "cell_type": "code",
   "execution_count": 3,
   "metadata": {
    "id": "iQooA6BWlvx5"
   },
   "outputs": [
    {
     "name": "stdout",
     "output_type": "stream",
     "text": [
      "   Rank                      Name Platform    Year         Genre Publisher  \\\n",
      "0     1                Wii Sports      Wii  2006.0        Sports  Nintendo   \n",
      "1     2         Super Mario Bros.      NES  1985.0      Platform  Nintendo   \n",
      "2     3            Mario Kart Wii      Wii  2008.0        Racing  Nintendo   \n",
      "3     4         Wii Sports Resort      Wii  2009.0        Sports  Nintendo   \n",
      "4     5  Pokemon Red/Pokemon Blue       GB  1996.0  Role-Playing  Nintendo   \n",
      "\n",
      "   NA_Sales  EU_Sales  JP_Sales  Other_Sales  Global_Sales  \n",
      "0     41.49     29.02      3.77         8.46         82.74  \n",
      "1     29.08      3.58      6.81         0.77         40.24  \n",
      "2     15.85     12.88      3.79         3.31         35.82  \n",
      "3     15.75     11.01      3.28         2.96         33.00  \n",
      "4     11.27      8.89     10.22         1.00         31.37  \n"
     ]
    }
   ],
   "source": [
    "# add your code to this cell\n",
    "# remember to include comments like this one for most of your code\n",
    "# remember to \"Run cell\" once you're done, excecuting your code so the output is displayed below\n",
    "\n",
    "#Calculate the top 5 best selling games and assign to a variable\n",
    "best_sellers = df.nlargest(5, \"Global_Sales\")\n",
    "#Print the result\n",
    "print (best_sellers)"
   ]
  },
  {
   "cell_type": "markdown",
   "metadata": {
    "id": "urXj5765hn_0"
   },
   "source": [
    "### Operation 2\n",
    "\n",
    "#### Question Text\n",
    "\n",
    "*Filter by games on the playstation 4 (PS4), then display the top 5 in NA_Sales*\n",
    "\n",
    "#### High-Level Overview\n",
    "\n",
    "*This was my final question, and most challenging question.  I first tried to accomplish the sort by looking through the user documentation, and found some hints but lightning kind of struck as I reviewed the synthetic dogs dataset that we went over.  I even briefly changed direction and started to try my luck at a pivot table, but in that process kind of stumbled into the formatting for completing the task I set out to do.*\n"
   ]
  },
  {
   "cell_type": "code",
   "execution_count": 60,
   "metadata": {
    "id": "CCUIs3F5xhdd"
   },
   "outputs": [
    {
     "name": "stdout",
     "output_type": "stream",
     "text": [
      "     Rank                            Name Platform    Year    Genre  \\\n",
      "33     34       Call of Duty: Black Ops 3      PS4  2015.0  Shooter   \n",
      "44     45              Grand Theft Auto V      PS4  2014.0   Action   \n",
      "92     93    Star Wars Battlefront (2015)      PS4  2015.0  Shooter   \n",
      "93     94  Call of Duty: Advanced Warfare      PS4  2014.0  Shooter   \n",
      "154   155                         Destiny      PS4  2014.0  Shooter   \n",
      "\n",
      "                Publisher  NA_Sales  EU_Sales  JP_Sales  Other_Sales  \\\n",
      "33             Activision      5.77      5.81      0.35         2.31   \n",
      "44   Take-Two Interactive      3.80      5.81      0.36         2.02   \n",
      "92        Electronic Arts      2.93      3.29      0.22         1.23   \n",
      "93             Activision      2.80      3.30      0.14         1.37   \n",
      "154            Activision      2.49      2.05      0.16         0.96   \n",
      "\n",
      "     Global_Sales  \n",
      "33          14.24  \n",
      "44          11.98  \n",
      "92           7.67  \n",
      "93           7.60  \n",
      "154          5.65  \n"
     ]
    }
   ],
   "source": [
    "# add your code to this cell\n",
    "# remember to include comments like this one for most of your code\n",
    "# remember to \"Run cell\" once you're done, excecuting your code so the output is displayed below\n",
    "\n",
    "#Filter games by ps4 \n",
    "ps4_games = df[df['Platform'] == 'PS4']\n",
    "\n",
    "#Sort by NA_Sales and get top 5\n",
    "ps4_na = ps4_games.sort_values('NA_Sales', ascending=False).head(5)\n",
    "\n",
    "#Print our dataset\n",
    "print(ps4_na)\n",
    "\n"
   ]
  },
  {
   "cell_type": "markdown",
   "metadata": {
    "id": "9Xm22snPhvbI"
   },
   "source": [
    "### Operation 3\n",
    "\n",
    "#### Question Text\n",
    "\n",
    "*Use value_counts to count the number of games in each genre of game.*\n",
    "\n",
    "#### High-Level Overview\n",
    "\n",
    "*For this section of code I decided to find the number of games in each genre column for each type of game and report the result.  In further searching, I noticed an example where the counts were put in an ascending order and decided to implament that as well.  I tried descending and it didn't work for me, and later learned that I had to change ascending to False in order for that to work.  I had several issues with formatting and basic syntax but it wasn't too difficult!*\n"
   ]
  },
  {
   "cell_type": "code",
   "execution_count": 64,
   "metadata": {
    "id": "KYSHoa9mhxZb"
   },
   "outputs": [
    {
     "name": "stdout",
     "output_type": "stream",
     "text": [
      "Genre\n",
      "Action          3316\n",
      "Sports          2346\n",
      "Misc            1739\n",
      "Role-Playing    1488\n",
      "Shooter         1310\n",
      "Adventure       1286\n",
      "Racing          1249\n",
      "Platform         886\n",
      "Simulation       867\n",
      "Fighting         848\n",
      "Strategy         681\n",
      "Puzzle           582\n",
      "Name: count, dtype: int64\n"
     ]
    }
   ],
   "source": [
    "# add your code to this cell\n",
    "# remember to include comments like this one for most of your code\n",
    "# remember to \"Run cell\" once you're done, excecuting your code so the output is displayed below\n",
    "\n",
    "#Use value_counts to count the number of each type of game genre, assign to a variable\n",
    "genre_count = df['Genre'].value_counts(ascending=False)\n",
    "\n",
    "#print the result\n",
    "print(genre_count)"
   ]
  },
  {
   "cell_type": "markdown",
   "metadata": {
    "id": "NxsN1n6_yXlW"
   },
   "source": [
    "## Helpful Checks\n",
    "\n",
    "1.   Did you comment every line of code with meaningful information that will help others reading your code?\n",
    "2.   Did you use appropriate names for your variables, functions, and/or classes?\n",
    "3.   Did you include a high-level explanation for each operation?\n",
    "4.   Did you run each cell that includes code so the output is saved and easily viewed by others?\n",
    "5.   Are you sharing an editable link (i.e., Share > Anyone with the link > Editor) if using Colaboratory, or did you make more than ten commits if using GitHub?\n",
    "6.   Did you remember to comment on the submissions of two other students?\n",
    "7.   Did you remember to screen record all of your work for at least one operation while turning off the generative AI features?\n",
    "8.   Did you remember to display the top 10 rows in your dataset so other students can easily view example rows?"
   ]
  },
  {
   "cell_type": "code",
   "execution_count": null,
   "metadata": {
    "id": "yRtnTuqDgYhg"
   },
   "outputs": [],
   "source": []
  }
 ],
 "metadata": {
  "colab": {
   "include_colab_link": true,
   "provenance": []
  },
  "kernelspec": {
   "display_name": "Python [conda env:base] *",
   "language": "python",
   "name": "conda-base-py"
  },
  "language_info": {
   "codemirror_mode": {
    "name": "ipython",
    "version": 3
   },
   "file_extension": ".py",
   "mimetype": "text/x-python",
   "name": "python",
   "nbconvert_exporter": "python",
   "pygments_lexer": "ipython3",
   "version": "3.12.7"
  }
 },
 "nbformat": 4,
 "nbformat_minor": 4
}
