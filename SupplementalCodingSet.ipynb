{
 "cells": [
  {
   "cell_type": "markdown",
   "metadata": {
    "colab_type": "text",
    "id": "view-in-github"
   },
   "source": [
    "<a href=\"https://colab.research.google.com/github/smithjaa/Intro_to_Programming/blob/main/SupplementalCodingSet.ipynb\" target=\"_parent\"><img src=\"https://colab.research.google.com/assets/colab-badge.svg\" alt=\"Open In Colab\"/></a>"
   ]
  },
  {
   "cell_type": "markdown",
   "metadata": {
    "id": "V_9gU-dva4Xx"
   },
   "source": [
    "# Supplemental Coding Set\n",
    "\n",
    "**Remember to save a copy of this template BEFORE YOU START WORKING :)**\n",
    "\n",
    "Work completed by [student name].\n",
    "\n",
    "IMPORTANT: Remember to screen record ALL of your work on at least one operation performed on your dataset. You must turn off the generative AI code-completion for this operation, as this problem is preparation for our final exam practical. You can turn off generative AI code-completion within Colab by tapping/clicking the settings icon in the upper right, tapping/clicking the AI Assistance section, and then deselecting \"Consented to use generative AI features\" and selecting \"Hide generative AI features\" (these settings may be returned to their previous states once you've completed this problem).\n",
    "\n",
    "If you start to struggle with a problem for an extended period of time, remember you can go comment on two other submissions now (seeing other student work helps), or you can post in our discussion forum for questions, which can also earn you extra credit."
   ]
  },
  {
   "cell_type": "markdown",
   "metadata": {
    "id": "jW9S_3jcOdYt"
   },
   "source": [
    "## Imports\n",
    "\n",
    "**If your program requires additional modules, external resources, or files, use this cell to set them up**"
   ]
  },
  {
   "cell_type": "code",
   "execution_count": null,
   "metadata": {
    "id": "mYW-OioYOu3g"
   },
   "outputs": [],
   "source": [
    "# configure your environment\n",
    "\n",
    "# you can uncomment this code to make use of files stored in your Google Drive\n",
    "# from google.colab import drive\n",
    "# drive.mount('/content/drive')\n"
   ]
  },
  {
   "cell_type": "markdown",
   "metadata": {
    "id": "2b2z_elQf2qP"
   },
   "source": [
    "## Pandas Operations\n",
    "\n",
    "Please import your dataset into a Pandas Dataframe in the cell below. Please remember to display the top 10 rows of your dataset so students can easily get a sense for the dataset you chose to explore.\n",
    "\n",
    "You may perform additional operations on your dataset that were covered in our slides to explore a bit, though this is optional."
   ]
  },
  {
   "cell_type": "code",
   "execution_count": null,
   "metadata": {
    "id": "DEXxYCw-iwAY"
   },
   "outputs": [],
   "source": [
    "# import the pandas library\n",
    "import pandas as pd\n",
    "\n",
    "# import your dataset of interest and store it in a dataframe\n",
    "df = pd.read_csv(\"vgsales.csv\")\n",
    "\n",
    "# remember to display the top 10 rows of your dataset once you have it imported"
   ]
  },
  {
   "cell_type": "markdown",
   "metadata": {
    "id": "klCvdzHvf74V"
   },
   "source": [
    "### Operation 1\n",
    "\n",
    "#### Question Text\n",
    "\n",
    "*Write a brief description of the operation you chose to read about in the documentation and then try using below.*\n",
    "\n",
    "#### High-Level Overview\n",
    "\n",
    "*In two to three sentences at minimum, walk through your general approach to the problem and identify any particular issues you had.*\n"
   ]
  },
  {
   "cell_type": "code",
   "execution_count": null,
   "metadata": {
    "id": "iQooA6BWlvx5"
   },
   "outputs": [],
   "source": [
    "# add your code to this cell\n",
    "# remember to include comments like this one for most of your code\n",
    "# remember to \"Run cell\" once you're done, excecuting your code so the output is displayed below"
   ]
  },
  {
   "cell_type": "markdown",
   "metadata": {
    "id": "urXj5765hn_0"
   },
   "source": [
    "### Operation 2\n",
    "\n",
    "#### Question Text\n",
    "\n",
    "*Write a brief description of the operation you chose to read about in the documentation and then try using below.*\n",
    "\n",
    "#### High-Level Overview\n",
    "\n",
    "*In two to three sentences at minimum, walk through your general approach to the problem and identify any particular issues you had.*\n"
   ]
  },
  {
   "cell_type": "code",
   "execution_count": null,
   "metadata": {
    "id": "CCUIs3F5xhdd"
   },
   "outputs": [],
   "source": [
    "# add your code to this cell\n",
    "# remember to include comments like this one for most of your code\n",
    "# remember to \"Run cell\" once you're done, excecuting your code so the output is displayed below"
   ]
  },
  {
   "cell_type": "markdown",
   "metadata": {
    "id": "9Xm22snPhvbI"
   },
   "source": [
    "### Operation 3\n",
    "\n",
    "#### Question Text\n",
    "\n",
    "*Write a brief description of the operation you chose to read about in the documentation and then try using below.*\n",
    "\n",
    "#### High-Level Overview\n",
    "\n",
    "*In two to three sentences at minimum, walk through your general approach to the problem and identify any particular issues you had.*\n"
   ]
  },
  {
   "cell_type": "code",
   "execution_count": null,
   "metadata": {
    "id": "KYSHoa9mhxZb"
   },
   "outputs": [],
   "source": [
    "# add your code to this cell\n",
    "# remember to include comments like this one for most of your code\n",
    "# remember to \"Run cell\" once you're done, excecuting your code so the output is displayed below"
   ]
  },
  {
   "cell_type": "markdown",
   "metadata": {
    "id": "NxsN1n6_yXlW"
   },
   "source": [
    "## Helpful Checks\n",
    "\n",
    "1.   Did you comment every line of code with meaningful information that will help others reading your code?\n",
    "2.   Did you use appropriate names for your variables, functions, and/or classes?\n",
    "3.   Did you include a high-level explanation for each operation?\n",
    "4.   Did you run each cell that includes code so the output is saved and easily viewed by others?\n",
    "5.   Are you sharing an editable link (i.e., Share > Anyone with the link > Editor) if using Colaboratory, or did you make more than ten commits if using GitHub?\n",
    "6.   Did you remember to comment on the submissions of two other students?\n",
    "7.   Did you remember to screen record all of your work for at least one operation while turning off the generative AI features?\n",
    "8.   Did you remember to display the top 10 rows in your dataset so other students can easily view example rows?"
   ]
  },
  {
   "cell_type": "code",
   "execution_count": null,
   "metadata": {
    "id": "yRtnTuqDgYhg"
   },
   "outputs": [],
   "source": []
  }
 ],
 "metadata": {
  "colab": {
   "include_colab_link": true,
   "provenance": []
  },
  "kernelspec": {
   "display_name": "Python [conda env:base] *",
   "language": "python",
   "name": "conda-base-py"
  },
  "language_info": {
   "codemirror_mode": {
    "name": "ipython",
    "version": 3
   },
   "file_extension": ".py",
   "mimetype": "text/x-python",
   "name": "python",
   "nbconvert_exporter": "python",
   "pygments_lexer": "ipython3",
   "version": "3.12.7"
  }
 },
 "nbformat": 4,
 "nbformat_minor": 4
}
