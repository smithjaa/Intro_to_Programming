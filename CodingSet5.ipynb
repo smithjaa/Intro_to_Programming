{
 "cells": [
  {
   "cell_type": "markdown",
   "metadata": {
    "colab_type": "text",
    "id": "view-in-github"
   },
   "source": [
    "<a href=\"https://colab.research.google.com/github/smithjaa/Intro_to_Programming/blob/main/CodingSet5.ipynb\" target=\"_parent\"><img src=\"https://colab.research.google.com/assets/colab-badge.svg\" alt=\"Open In Colab\"/></a>"
   ]
  },
  {
   "cell_type": "markdown",
   "metadata": {
    "id": "V_9gU-dva4Xx"
   },
   "source": [
    "# Chapter **5** Coding Set\n",
    "\n",
    "**Remember to save a copy of this template BEFORE YOU START WORKING :)**\n",
    "\n",
    "Work completed by Jacob Smith.\n",
    "\n",
    "If you start to struggle with a problem for an extended period of time, remember you can go comment on two other submissions now (seeing other student work helps), or you can post in our discussion forum for questions, which can also earn you extra credit."
   ]
  },
  {
   "cell_type": "markdown",
   "metadata": {
    "id": "jW9S_3jcOdYt"
   },
   "source": [
    "## Imports\n",
    "\n",
    "**If your program requires additional modules, external resources, or files, use this cell to set them up**"
   ]
  },
  {
   "cell_type": "code",
   "execution_count": null,
   "metadata": {
    "id": "mYW-OioYOu3g"
   },
   "outputs": [],
   "source": [
    "# configure your environment\n",
    "\n",
    "# you can uncomment this code to make use of files stored in your Google Drive\n",
    "# from google.colab import drive\n",
    "# drive.mount('/content/drive')\n",
    "\n",
    "# you can uncomment the following line of code to use the pandas library\n",
    "# import pandas as pd"
   ]
  },
  {
   "cell_type": "markdown",
   "metadata": {
    "id": "VH4eGQyub8yQ"
   },
   "source": [
    "## Algorithm Workbench"
   ]
  },
  {
   "cell_type": "markdown",
   "metadata": {
    "id": "dBl7Q9AZcLMU"
   },
   "source": [
    "### Problem **6**\n",
    "\n",
    "#### Question Text\n",
    "\n",
    "Write a statement that generates a random number in the range of 1 through 100 and assigns it to a variable named rand.\n",
    "\n",
    "#### High-Level Overview\n",
    "\n",
    "I imported the random module.  Thinking this was simple I tried to do it from memory, I typed rand = random.random(1, 100) innitially, but that doesn't work and doesn't accept arguments.  Random.randint is what I was looking for, a quick check on google brought me to w3schools.com whidch reminded me of this.  I utilized the print statement just to verify that things were working and left that in.\n"
   ]
  },
  {
   "cell_type": "code",
   "execution_count": 17,
   "metadata": {
    "id": "k4iGFPemb26z"
   },
   "outputs": [
    {
     "name": "stdout",
     "output_type": "stream",
     "text": [
      "10\n"
     ]
    }
   ],
   "source": [
    "# add your code to this cell\n",
    "# remember to include comments like this one for most of your code\n",
    "# remember to \"Run cell\" once you're done, excecuting your code so the output is displayed below\n",
    "\n",
    "#import random module\n",
    "import random\n",
    "\n",
    "#call random, determine a number between 1 and 100 then print that number\n",
    "rand = random.randint(1, 100)\n",
    "print (rand)"
   ]
  },
  {
   "cell_type": "markdown",
   "metadata": {
    "id": "o9xcij9hfq-5"
   },
   "source": [
    "### Problem **9**\n",
    "\n",
    "#### Question Text\n",
    "\n",
    "Write a function named times_ten that accepts a number as an argument. When the function is called, it should return the value of its argument multiplied times 10.\n",
    "\n",
    "#### High-Level Overview\n",
    "\n",
    "For this question I named the function times_ten, with an argument name of numval.  The statement on the next line introduces the variable maths, and completes the multiplication of the value of numval multiplied by 10 as requested.  The following line tests the function by entering a variable and then printing the result.  I was actually pretty satisfied to have completed this from memory, as functions intimidate me."
   ]
  },
  {
   "cell_type": "code",
   "execution_count": 31,
   "metadata": {
    "id": "ubgUdOUTl24X"
   },
   "outputs": [
    {
     "name": "stdout",
     "output_type": "stream",
     "text": [
      "110\n"
     ]
    }
   ],
   "source": [
    "# add your code to this cell\n",
    "# remember to include comments like this one for most of your code\n",
    "# remember to \"Run cell\" once you're done, excecuting your code so the output is displayed below\n",
    "\n",
    "#times_ten function\n",
    "def times_ten(numval):\n",
    "    #multiply by 10 and assign to maths\n",
    "    maths = numval * 10\n",
    "    #return the value of maths\n",
    "    return maths\n",
    "\n",
    "print (times_ten(11))\n",
    "    "
   ]
  },
  {
   "cell_type": "markdown",
   "metadata": {
    "id": "2b2z_elQf2qP"
   },
   "source": [
    "## Programming Exercises"
   ]
  },
  {
   "cell_type": "markdown",
   "metadata": {
    "id": "klCvdzHvf74V"
   },
   "source": [
    "### Problem **1**\n",
    "\n",
    "#### Question Text\n",
    "\n",
    "Write a program that asks the user to enter a distance in kilometers, then converts that distance to miles. The conversion formula is as follows:\n",
    "\n",
    "miles = Kilometers × 0.6214\n",
    "\n",
    "\n",
    "#### High-Level Overview\n",
    "\n",
    "My first thought was to do this without functions, and just asking for the variable. Because the chapter is function themed I figured I should make both a main function and a function to do the math.  For the main function I asked the user for kilometers, converted the input to a float and then send that number to a not yet made function called \"conversion\" to do the math.  Then I wrote the conversion function, which simply imported the value of kilometers and did the requested formula, returning the result.  Next I wrote the print statement to show the results.  I had one typo in that instead of using the variable kilo, I used kilogram in the formula on first run.  Finally I decided to round to two decimal places because it seems to get excessive, so looked up that process and used the round function."
   ]
  },
  {
   "cell_type": "code",
   "execution_count": 19,
   "metadata": {
    "id": "iQooA6BWlvx5"
   },
   "outputs": [
    {
     "name": "stdout",
     "output_type": "stream",
     "text": [
      "Welcome to the kilometer to miles converter!\n"
     ]
    },
    {
     "name": "stdin",
     "output_type": "stream",
     "text": [
      "Please enter a distance in kilometers to convert:  73\n"
     ]
    },
    {
     "name": "stdout",
     "output_type": "stream",
     "text": [
      "73.0 kilometers is equal to 45.36 miles.\n"
     ]
    }
   ],
   "source": [
    "# add your code to this cell\n",
    "# remember to include comments like this one for most of your code\n",
    "# remember to \"Run cell\" once you're done, excecuting your code so the output is displayed below\n",
    "\n",
    "#Making the main function\n",
    "def main():\n",
    "    #welcome user, ask for an input for kilometers, use a float for appropriate math\n",
    "    print(\"Welcome to the kilometer to miles converter!\")\n",
    "    kilo = float(input(\"Please enter a distance in kilometers to convert: \"))\n",
    "    #Call on function we are about to make to do the conversion, using kilo as our value.\n",
    "    miles = conversion(kilo)\n",
    "    #print the result\n",
    "    print(f\"{kilo} kilometers is equal to {miles} miles.\")\n",
    "\n",
    "#Function to convert kilometers to miles\n",
    "def conversion(kilo):\n",
    "    #use the round function to round to 2 decimal places, and then return the value\n",
    "    return round((kilo * 0.6214), 2)\n",
    "\n",
    "main()\n",
    "    "
   ]
  },
  {
   "cell_type": "markdown",
   "metadata": {
    "id": "VxGugqDyxh_p"
   },
   "source": [
    "### Problem **17**\n",
    "\n",
    "#### Question Text\n",
    "\n",
    "Prime Numbers\n",
    "\n",
    "A prime number is a number that is only evenly divisible by itself and 1. For example, the number 5 is prime because it can only be evenly divided by 1 and 5. The number 6, however, is not prime because it can be divided evenly by 1, 2, 3, and 6.\n",
    "\n",
    "Write a Boolean function named is_prime which takes an integer as an argument and returns true if the argument is a prime number, or false otherwise. Use the function in a program that prompts the user to enter a number then displays a message indicating whether the number is prime.\n",
    "\n",
    "Recall that the % operator divides one number by another and returns the remainder of the division. In an expression such as num1 % num2, the % operator will return 0 if num1 is evenly divisible by num2.\n",
    "\n",
    "#### High-Level Overview\n",
    "\n",
    "I struggled with this, I know there was the tutorial video but it didn't click with me.  I changed the top in a way that made sense for me, first I wrote the function to determine if the number was prime.  I first eliminated all values of 1 or less, next I did the modulo logic similar to the video using a for loop and modulo to determine if a number is prime or not.  \n",
    "\n",
    "Finally I wrote the main function of the program.  In the main function I ran into issues too, because I wasn't sure how the syntax of the is_prime boolean returns worked.  I did some searching and figured it out though after asking chatgpt as directed by the video clip.  It was suprisingly helpful and easy to understand!\n"
   ]
  },
  {
   "cell_type": "code",
   "execution_count": 20,
   "metadata": {
    "id": "CCUIs3F5xhdd"
   },
   "outputs": [
    {
     "name": "stdout",
     "output_type": "stream",
     "text": [
      "Welcome to the Prime number Checker!\n"
     ]
    },
    {
     "name": "stdin",
     "output_type": "stream",
     "text": [
      "Please enter the number to be checked for prime status 5\n"
     ]
    },
    {
     "name": "stdout",
     "output_type": "stream",
     "text": [
      "That is indeed a prime number.\n"
     ]
    }
   ],
   "source": [
    "# add your code to this cell\n",
    "# remember to include comments like this one for most of your code\n",
    "# remember to \"Run cell\" once you're done, excecuting your code so the output is displayed below\n",
    "\n",
    "#Function that will determine if a number is prime\n",
    "def is_prime(number):\n",
    "    #Return false 1 or values less than 1.\n",
    "    if number <= 1:\n",
    "        return False\n",
    "    #Check for a prime number using modulo in a for loop\n",
    "    for i in range(2, number):\n",
    "        if (number % i) == 0:\n",
    "            return False\n",
    "    return True\n",
    "\n",
    "#Write the main program\n",
    "def main():\n",
    "    print(\"Welcome to the Prime number Checker!\")\n",
    "    number = int(input(\"Please enter the number to be checked for prime status\"))\n",
    "    #Check to see if \"is_prime\" is true, using the variable \"number\" as an argument.\n",
    "    if is_prime(number):\n",
    "        print(\"That is indeed a prime number.\")\n",
    "    else:\n",
    "        print(\"That is not a prime number.\")\n",
    "\n",
    "main()\n",
    "        \n"
   ]
  },
  {
   "cell_type": "markdown",
   "metadata": {
    "id": "kqfebVBKxlKj"
   },
   "source": [
    "### Problem **18**\n",
    "\n",
    "#### Question Text\n",
    "\n",
    "Prime Number List\n",
    "\n",
    "This exercise assumes that you have already written the is_prime function in Programming Exercise 17. Write another program that displays all of the prime numbers from 1 to 100. The program should have a loop that calls the is_prime function.\n",
    "\n",
    "#### High-Level Overview\n",
    "\n",
    "*In two to three sentences at minimum, walk through your general approach to the problem and identify any particular issues you had.*\n"
   ]
  },
  {
   "cell_type": "code",
   "execution_count": null,
   "metadata": {
    "id": "9yuG65pIxkQJ"
   },
   "outputs": [],
   "source": [
    "# add your code to this cell\n",
    "# remember to include comments like this one for most of your code\n",
    "# remember to \"Run cell\" once you're done, excecuting your code so the output is displayed below"
   ]
  },
  {
   "cell_type": "markdown",
   "metadata": {
    "id": "uMknY49Txpht"
   },
   "source": [
    "### Problem **11**\n",
    "\n",
    "#### Question Text\n",
    "\n",
    "Math Quiz\n",
    "Write a program that gives simple math quizzes. The program should display two random numbers that are to be added, such as:\n",
    "\n",
    "   \"247 + 129\"\n",
    "   \n",
    "The program should allow the student to enter the answer. If the answer is correct, a message of congratulations should be displayed. If the answer is incorrect, a message showing the correct answer should be displayed.\n",
    "\n",
    "#### High-Level Overview\n",
    "\n",
    "*In two to three sentences at minimum, walk through your general approach to the problem and identify any particular issues you had.*\n"
   ]
  },
  {
   "cell_type": "code",
   "execution_count": null,
   "metadata": {
    "id": "UByfwHefxpPH"
   },
   "outputs": [],
   "source": [
    "# add your code to this cell\n",
    "# remember to include comments like this one for most of your code\n",
    "# remember to \"Run cell\" once you're done, excecuting your code so the output is displayed below"
   ]
  },
  {
   "cell_type": "markdown",
   "metadata": {
    "id": "NxsN1n6_yXlW"
   },
   "source": [
    "## Helpful Checks\n",
    "\n",
    "1.   Did you comment every line of code with meaningful information that will help others reading your code?\n",
    "2.   Did you use appropriate names for your variables, functions, and/or classes?\n",
    "3.   Did you include a high-level explanation for each solution?\n",
    "4.   Did you run each cell that includes a final solution so the output is saved and easily viewed by others?\n",
    "5.   Are you sharing an editable link (i.e., Share > Anyone with the link > Editor) if using Colaboratory, or did you make more than ten commits if using GitHub?\n",
    "6.   Did you remember to comment on the submissions of two other students?"
   ]
  },
  {
   "cell_type": "code",
   "execution_count": null,
   "metadata": {
    "id": "wxzLHFoJTksu"
   },
   "outputs": [],
   "source": []
  }
 ],
 "metadata": {
  "colab": {
   "include_colab_link": true,
   "provenance": []
  },
  "kernelspec": {
   "display_name": "Python [conda env:base] *",
   "language": "python",
   "name": "conda-base-py"
  },
  "language_info": {
   "codemirror_mode": {
    "name": "ipython",
    "version": 3
   },
   "file_extension": ".py",
   "mimetype": "text/x-python",
   "name": "python",
   "nbconvert_exporter": "python",
   "pygments_lexer": "ipython3",
   "version": "3.12.7"
  }
 },
 "nbformat": 4,
 "nbformat_minor": 4
}
