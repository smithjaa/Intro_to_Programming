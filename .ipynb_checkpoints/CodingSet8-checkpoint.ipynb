{
 "cells": [
  {
   "cell_type": "markdown",
   "metadata": {
    "colab_type": "text",
    "id": "view-in-github"
   },
   "source": [
    "<a href=\"https://colab.research.google.com/github/smithjaa/Intro_to_Programming/blob/main/CodingSet8.ipynb\" target=\"_parent\"><img src=\"https://colab.research.google.com/assets/colab-badge.svg\" alt=\"Open In Colab\"/></a>"
   ]
  },
  {
   "cell_type": "markdown",
   "metadata": {
    "id": "V_9gU-dva4Xx"
   },
   "source": [
    "# Chapter **8** Coding Set\n",
    "\n",
    "Work completed by Jacob Smith.\n"
   ]
  },
  {
   "cell_type": "markdown",
   "metadata": {
    "id": "jW9S_3jcOdYt"
   },
   "source": [
    "## Imports\n",
    "\n",
    "**If your program requires additional modules, external resources, or files, use this cell to set them up**"
   ]
  },
  {
   "cell_type": "code",
   "execution_count": null,
   "metadata": {
    "id": "mYW-OioYOu3g"
   },
   "outputs": [],
   "source": [
    "# configure your environment\n",
    "\n",
    "# you can uncomment this code to make use of files stored in your Google Drive\n",
    "# from google.colab import drive\n",
    "# drive.mount('/content/drive')\n",
    "\n",
    "# you can uncomment the following line of code to use the pandas library\n",
    "# import pandas as pd"
   ]
  },
  {
   "cell_type": "markdown",
   "metadata": {
    "id": "VH4eGQyub8yQ"
   },
   "source": [
    "## Algorithm Workbench"
   ]
  },
  {
   "cell_type": "markdown",
   "metadata": {
    "id": "dBl7Q9AZcLMU"
   },
   "source": [
    "### Problem **4**\n",
    "\n",
    "#### Question Text\n",
    "\n",
    "Write a loop that counts the number of lowercase characters that appear in the string referenced by mystring.\n",
    "\n",
    "#### High-Level Overview\n",
    "\n",
    "I decided to write a main function to ask for the code and a function to count the lower case.  I started with the function to count the lowercase, it would import a string, and use a for loop to count the characters in the string, adding 1 for each iteration with a lower case number and returning the result.  Next I did the main function.  That function prompted for input, sent the input to the first function to calculate, and then printed the result.\n",
    "\n",
    "This went fairly quickly, I had a variable name entered incorrectly when using it at one point.  I called the variable number_lower result in the second instance it was used.\n"
   ]
  },
  {
   "cell_type": "code",
   "execution_count": 17,
   "metadata": {
    "id": "k4iGFPemb26z"
   },
   "outputs": [
    {
     "name": "stdout",
     "output_type": "stream",
     "text": [
      "Welcome to the lowercase letter counter\n"
     ]
    },
    {
     "name": "stdin",
     "output_type": "stream",
     "text": [
      "Please provide a text string to be assessed : Just testing to be sure this works.  I sure hope it does!  Otherwise I'm writing this string for nothing!\n"
     ]
    },
    {
     "name": "stdout",
     "output_type": "stream",
     "text": [
      "The number of lower case letters in your string is: 77\n"
     ]
    }
   ],
   "source": [
    "# add your code to this cell\n",
    "# remember to include comments like this one for most of your code\n",
    "# remember to \"Run cell\" once you're done, excecuting your code so the output is displayed below\n",
    "\n",
    "\n",
    "#Create the function lowcount to count lower case numbers\n",
    "def lowcount(mystring):\n",
    "    #create variable lower and give it a starting value of 0\n",
    "    lower = 0\n",
    "    #create the for loop that will count lower case characters, using += to add one each iteration containing a lower case\n",
    "    for char in mystring:\n",
    "            if char.islower():\n",
    "                lower += 1\n",
    "    #return the value of lower\n",
    "    return lower\n",
    "\n",
    "#Create the main function to prompt for a string, pass it to lowcount, and display the result\n",
    "def main():\n",
    "    #Welcome the user\n",
    "    print(\"Welcome to the lowercase letter counter\")\n",
    "    #Ask for a string to be created by the user and assign it to variable mystring\n",
    "    mystring = input(\"Please provide a text string to be assessed :\")\n",
    "    #Send mystring to the lowcount function, assigning the result to variable number_lower\n",
    "    number_lower = lowcount(mystring)\n",
    "    print(f\"The number of lower case letters in your string is: {number_lower}\")\n",
    "\n",
    "#call the main function\n",
    "if __name__ == \"__main__\":\n",
    "    main()"
   ]
  },
  {
   "cell_type": "markdown",
   "metadata": {
    "id": "o9xcij9hfq-5"
   },
   "source": [
    "### Problem **8**\n",
    "\n",
    "#### Question Text\n",
    "\n",
    "Assume mystring references a string. Write a statement that uses a slicing expression and displays the first 3 characters in the string.\n",
    "\n",
    "#### High-Level Overview\n",
    "\n",
    "I had planned on making two functions to make this work, untill I looked back at the text book.  I copied the main function from the previous problem thinking I'd have an entire function to pull the first three characters.  Fortunatley, it's a lot less effort to print the first 3 strings than I imagined.  So I removed the second function in creation, and chopped up my main function to just get it done quick.  I simply ask for a string, and take the first three characters from it and print those three characters."
   ]
  },
  {
   "cell_type": "code",
   "execution_count": 7,
   "metadata": {
    "id": "ubgUdOUTl24X"
   },
   "outputs": [
    {
     "name": "stdout",
     "output_type": "stream",
     "text": [
      "Welcome to the first three character determinator!\n"
     ]
    },
    {
     "name": "stdin",
     "output_type": "stream",
     "text": [
      "Please provide a text string to be assessed : Probably going to move on to the next question if this works.\n"
     ]
    },
    {
     "name": "stdout",
     "output_type": "stream",
     "text": [
      "Pro\n"
     ]
    }
   ],
   "source": [
    "# add your code to this cell\n",
    "# remember to include comments like this one for most of your code\n",
    "# remember to \"Run cell\" once you're done, excecuting your code so the output is displayed below\n",
    "\n",
    "#utilizing the main function from the previous question because it is nearly identical\n",
    "def main():\n",
    "    #Welcome the user\n",
    "    print(\"Welcome to the first three character determinator!\")\n",
    "    #Ask for a string to be created by the user and assign it to variable mystring\n",
    "    mystring = input(\"Please provide a text string to be assessed :\")\n",
    "    #print the first 3 characters of the string\n",
    "    print(mystring[0:3])\n",
    "\n",
    "if __name__ == \"__main__\":\n",
    "    main()\n",
    " "
   ]
  },
  {
   "cell_type": "markdown",
   "metadata": {
    "id": "2b2z_elQf2qP"
   },
   "source": [
    "## Programming Exercises"
   ]
  },
  {
   "cell_type": "markdown",
   "metadata": {
    "id": "klCvdzHvf74V"
   },
   "source": [
    "### Problem **1 Initials**\n",
    "\n",
    "#### Question Text\n",
    "\n",
    "Write a program that gets a string containing a person’s first, middle, and last names, and displays their first, middle, and last initials. For example, if the user enters John William Smith, the program should display J. W. S.\n",
    "\n",
    "#### High-Level Overview\n",
    "\n",
    "I broke this down into four parts.  First was to aquire the first, middle, and last name in.  Then I created a function to extract the innitials from that string.  To extract the innitials, I used .split(\" \") to split the string into a list with a space as the delimiter to seperate the words.  Next I created the string first_letters, and made a for loop that would iterate each word, adding the first character of each word to the string, making it upper case, and adding a period and space behind it.\n"
   ]
  },
  {
   "cell_type": "code",
   "execution_count": 15,
   "metadata": {
    "id": "iQooA6BWlvx5"
   },
   "outputs": [
    {
     "name": "stdout",
     "output_type": "stream",
     "text": [
      "Welcome to the innitializer!\n"
     ]
    },
    {
     "name": "stdin",
     "output_type": "stream",
     "text": [
      "Please enter your first, middle and last name each seperated by a space Jacob Allen Smith\n"
     ]
    },
    {
     "name": "stdout",
     "output_type": "stream",
     "text": [
      "You're innitials are J. A. S. \n"
     ]
    }
   ],
   "source": [
    "# add your code to this cell\n",
    "# remember to include comments like this one for most of your code\n",
    "# remember to \"Run cell\" once you're done, excecuting your code so the output is displayed below\n",
    "\n",
    "#Ask for first middle and last name, assign to string, send to abbreviation function, then print result\n",
    "def main():\n",
    "    print(\"Welcome to the innitializer!\")\n",
    "    #input full name, seperated by a space, assign to full_name\n",
    "    full_name = input(\"Please enter your first, middle and last name each seperated by a space\")\n",
    "    #send the variable #full_name to a function to have first characters extracted\n",
    "    abvr = innitials(full_name)\n",
    "    #print result\n",
    "    print (f\"You're innitials are {abvr}\")\n",
    "\n",
    "def innitials(abvr):\n",
    "    #create empty string first_letters\n",
    "    first_letters = \"\"\n",
    "    #convert the name into a list with split\n",
    "    words = abvr.split(\" \")\n",
    "    #remove the first letters from each word, using for loop\n",
    "    for word in words:\n",
    "        #adds the first letter of each word in word to the innitials with [0], and then adds a period and space, adding capitalization with .upper()\n",
    "        first_letters += word[0].upper() + \". \"\n",
    "    #returns the code to main\n",
    "    return first_letters\n",
    "        \n",
    "        \n",
    "if __name__ == \"__main__\":\n",
    "    main()\n"
   ]
  },
  {
   "cell_type": "markdown",
   "metadata": {
    "id": "VxGugqDyxh_p"
   },
   "source": [
    "### Problem **4 Morse Code Converter**\n",
    "\n",
    "#### Question Text\n",
    "\n",
    "Morse code is a code where each letter of the English alphabet, each digit, and various punctuation characters are represented by a series of dots and dashes. Table 8-4 shows part of the code.\n",
    "\n",
    "Write a program that asks the user to enter a string, then converts that string to Morse code.\n",
    "\n",
    "#### High-Level Overview\n",
    "\n",
    "To start, I knew I'd need two lists, one of morse code and one with the english representation in the same order.  Rather than type them out by hand, I used chatgpt to generate these specific lists for me and pasted the lists here in lists.  Then I fleshed out the main function, asking for english phrase and sending it as an argument to the converter, and prepping the print statement.  \n",
    "\n",
    "Next I started the converter function, and realized I'd have to move the two lists of morse code over to the second function.  Then I noticed some issues with the lists, there are no spaces and all of the english letters are capitolized.  I added a space to each list, and then converted the string to upper case.  Next I created a list to hold the translation, and used a for loop to fill it with the translated text.\n",
    "\n",
    "I spent some time and multiple sources going over the for loop in this one, our book, chatgpt, stack overflow.  Though it ran on first execution.  I was super happy with the result, and used google to find a morse code checker to translate and for what I can tell, it works!  I was suprised, usually I'll get a variable misnamed somewhere.\n"
   ]
  },
  {
   "cell_type": "code",
   "execution_count": 6,
   "metadata": {
    "id": "9yuG65pIxkQJ"
   },
   "outputs": [
    {
     "name": "stdout",
     "output_type": "stream",
     "text": [
      "Welcome to the morse code converter\n"
     ]
    },
    {
     "name": "stdin",
     "output_type": "stream",
     "text": [
      "Please enter the phrase you would like to converted to morse code:  This one is for Grandpa, who spent hours in his garage doing morse code!\n"
     ]
    },
    {
     "name": "stdout",
     "output_type": "stream",
     "text": [
      "Your phrase converted to morse code is: -......... ----.. ..... ..-.---.-. --..-..--.-...--..---..-- .--....--- ....--..-.- ....---..-.-.... ..-. ......... --..-.-..---.. -..---..-.--. -----.-..... -.-.----...-.-.--\n"
     ]
    }
   ],
   "source": [
    "# add your code to this cell\n",
    "# remember to include comments like this one for most of your code\n",
    "# remember to \"Run cell\" once you're done, excecuting your code so the output is displayed below\n",
    "\n",
    "\n",
    "def main():\n",
    "    #Welcome the user\n",
    "    print(\"Welcome to the morse code converter\")\n",
    "    #Request the phrase that we will be translating to morse code\n",
    "    english_phrase = input(\"Please enter the phrase you would like to converted to morse code: \")\n",
    "    morse_phrase = converter(english_phrase)\n",
    "    print(f\"Your phrase converted to morse code is: {morse_phrase}\")\n",
    "\n",
    "def converter(english_phrase):\n",
    "    #First, lists will be needed with all relevant morse code, and the english characters they represent. Added spaces to both sides\n",
    "    morse = [\".-\", \"-...\", \"-.-.\", \"-..\", \".\", \"..-.\", \"--.\", \"....\", \"..\", \".---\", \"-.-\", \".-..\", \"--\", \"-.\",\n",
    "             \"---\", \".--.\", \"--.-\", \".-.\", \"...\", \"-\", \"..-\", \"...-\", \".--\", \"-..-\", \"-.--\", \"--..\",\n",
    "             \".----\", \"..---\", \"...--\", \"....-\", \".....\", \"-....\", \"--...\", \"---..\", \"----.\", \"-----\",\n",
    "             \".-.-.-\", \"--..--\", \"..--..\", \".----.\", \"-.-.--\", \"-..-.\", \"-.--.\", \"-.--.-\", \".-...\", \"---...\",\n",
    "             \"-.-.-.\", \"-...-\", \".-.-.\", \"-....-\", \"..--.-\", \".-..-.\", \"...-..-\", \".--.-.\", \" \"]\n",
    "    english = [\"A\", \"B\", \"C\", \"D\", \"E\", \"F\", \"G\", \"H\", \"I\", \"J\", \"K\", \"L\", \"M\", \"N\", \"O\", \"P\", \"Q\", \"R\", \"S\", \"T\",\n",
    "               \"U\", \"V\", \"W\", \"X\", \"Y\", \"Z\", \"1\", \"2\", \"3\", \"4\", \"5\", \"6\", \"7\", \"8\", \"9\", \"0\",\n",
    "               \".\", \",\", \"?\", \"'\", \"!\", \"/\", \"(\", \")\", \"&\", \":\", \";\", \"=\", \"+\", \"-\", \"_\", '\"', \"$\", \"@\", \" \"]\n",
    "    #convert the variable english_phrase to upper case so it coincides with the english in our list\n",
    "    english_phrase = english_phrase.upper()\n",
    "    #create a variable to hold the translation\n",
    "    translation = []\n",
    "    #use a for loop to convert from english to morse.\n",
    "    for char in english_phrase:\n",
    "        #Determines if  character is in the english list\n",
    "        if char in english:\n",
    "            #finds the index number of each character in the english list\n",
    "            index = english.index(char)\n",
    "            #uses the index number from the english list to pull from the morse list and append the file\n",
    "            translation.append(morse[index])\n",
    "        #Cthrow a double question mark into the translation when the character is not on the english list.\n",
    "        else:\n",
    "            translation.append(\"??\")\n",
    "    #add a space to seperate the code and then join the char to the return string\n",
    "    return \" \".join(translation)\n",
    "\n",
    "if __name__ == \"__main__\":\n",
    "    main()"
   ]
  },
  {
   "cell_type": "markdown",
   "metadata": {
    "id": "kqfebVBKxlKj"
   },
   "source": [
    "### Problem **8 Sentance Capitalizer**\n",
    "\n",
    "#### Question Text\n",
    "\n",
    "Write a program with a function that accepts a string as an argument and returns a copy of the string with the first character of each sentence capitalized. For instance, if the argument is “hello. my name is Joe. what is your name?” the function should return the string “Hello. My name is Joe. What is your name?” The program should let the user enter a string and then pass it to the function. The modified string should be displayed.\n",
    "\n",
    "#### High-Level Overview\n",
    "\n",
    "I quickly wrote the main function welcoming the user, asking for input, passing the input and printing the return.  Next I wrote the capitalizer function.  I knew I could break down the strings and change each character to an upper, but was unsure of how to set this to trigger other than capitalization.  (like the start of a sentence).  So I searched chatgpt for a solution and thus learned to set a flag to true before starting the loop.  Next I made a for loop checking for the flag, and alpha numeric characters, then capitalizing when needed, setting the flag to false and passing a lower case when not needed.  Finally there is an if statement checking for punctuation, that will set the flag back to True if found.\n"
   ]
  },
  {
   "cell_type": "code",
   "execution_count": 2,
   "metadata": {
    "id": "CCUIs3F5xhdd"
   },
   "outputs": [
    {
     "name": "stdout",
     "output_type": "stream",
     "text": [
      "Welcome to the sentance capitolizer!\n"
     ]
    },
    {
     "name": "stdin",
     "output_type": "stream",
     "text": [
      "Please enter one or more sentences to be capitolized:  this is sentence one.  now here is another sentence.  finally there is another sentence right here.\n"
     ]
    },
    {
     "name": "stdout",
     "output_type": "stream",
     "text": [
      "Your capitalized sentence is as follows: This is sentence one.  Now here is another sentence.  Finally there is another sentence right here.\n"
     ]
    }
   ],
   "source": [
    "# add your code to this cell\n",
    "# remember to include comments like this one for most of your code\n",
    "# remember to \"Run cell\" once you're done, excecuting your code so the output is displayed below\n",
    "\n",
    "\n",
    "#create main function.  Welcome user, request string, send and recieve string, print result.\n",
    "def main():\n",
    "    print(\"Welcome to the sentance capitolizer!\")\n",
    "    #Aquire a string of sentences from the user, assign to variable\n",
    "    uncap_string = input(\"Please enter one or more sentences to be capitolized: \")\n",
    "    #send the string to the capitolizer function, returning cap_string\n",
    "    cap_string = capitalizer(uncap_string)\n",
    "    #print the result\n",
    "    print(f\"Your capitalized sentence is as follows: {cap_string}\")\n",
    "\n",
    "\n",
    "#function will capitolize the string and return it to main function\n",
    "def capitalizer(uncap_string):\n",
    "    #create a string to store the result\n",
    "    cap_string = \"\"\n",
    "    #set capitalize_next flag to True so that it will capitalize the first sentence\n",
    "    capitalize_next = True\n",
    "\n",
    "    #Create a for loop to loop through each character in uncap_string\n",
    "    for char in uncap_string:\n",
    "        #capitalize when Flag has been set to True, and is alpha numeric\n",
    "        if capitalize_next and char.isalpha():\n",
    "            #capitalize and add to string\n",
    "            cap_string += char.upper()\n",
    "            #Set flag to false as default\n",
    "            capitalize_next = False\n",
    "        else:\n",
    "            #copies any non capitalized letters to cap_string\n",
    "            cap_string += char\n",
    "        \n",
    "        #Check for punctuation and set the capitalize flag to True if found\n",
    "        if char in \".!?\":\n",
    "            capitalize_next = True\n",
    "\n",
    "    #return the string, capitalized when complete\n",
    "    return cap_string\n",
    "            \n",
    "\n",
    "if __name__ == \"__main__\":\n",
    "    main()\n"
   ]
  },
  {
   "cell_type": "markdown",
   "metadata": {
    "id": "uMknY49Txpht"
   },
   "source": [
    "### Problem **10**\n",
    "\n",
    "#### Question Text\n",
    "\n",
    "Write a program that lets the user enter a string and displays the character that appears most frequently in the string.\n",
    "\n",
    "#### High-Level Overview\n",
    "\n",
    "To begin I started with a main function, very similar to every problem here.  I welcomed the user, asked for input, sent input to a function, recieved a return value, and printed it.\n",
    "\n",
    "Next I created a function to count the frequency of characters.  I had a bit of a head start on this one, it was similar to a problem I did last summer in a 100 days of python class I started (I got to day 8 haha).  Anyway, I used the concept of using boolean to seperate the highest running variable.  I also didn't want spaces counted, so made a string to remove spaces, but figured punctuation would be unlikley but an interesting result so left that in.\n",
    "\n",
    "I had an error with my f string (forgetting the f, and at one point forgetting to even put the variable in there).  I also decided to expand this and send back two variables from the frequency_finder function.  Unfortunatley, I sent back the wrong one at first, but eventually got it right.\n"
   ]
  },
  {
   "cell_type": "code",
   "execution_count": 16,
   "metadata": {
    "id": "UByfwHefxpPH"
   },
   "outputs": [
    {
     "name": "stdout",
     "output_type": "stream",
     "text": [
      "Welcome to the most frequent character finder!\n"
     ]
    },
    {
     "name": "stdin",
     "output_type": "stream",
     "text": [
      "Please enter a string to be analyzed:  I decided to add a count for the number of occurrences, I haven't had to return two variables before.  This could go well, but may not.\n"
     ]
    },
    {
     "name": "stdout",
     "output_type": "stream",
     "text": [
      "Your most frequently used character was: e with 12 appearances.\n"
     ]
    }
   ],
   "source": [
    "# add your code to this cell\n",
    "# remember to include comments like this one for most of your code\n",
    "# remember to \"Run cell\" once you're done, excecuting your code so the output is displayed below\n",
    "\n",
    "#Main function: greeting, input request, send string to another function, print returned result\n",
    "def main():\n",
    "    #Greeting\n",
    "    print(\"Welcome to the most frequent character finder!\")\n",
    "    new_string = input(\"Please enter a string to be analyzed: \")\n",
    "    most_frequent_char, max_count = frequency_finder(new_string)\n",
    "    print(f\"Your most frequently used character was: {most_frequent_char} with {max_count} appearances.\")\n",
    "    \n",
    "\n",
    "#Create a function to find the most frequently used char, and return it.\n",
    "def frequency_finder(new_string):\n",
    "    #create variable that counts max variable instances and set to 0, create variable for most frequently used char.\n",
    "    max_count = 0\n",
    "    most_frequent_char = \"\"\n",
    "\n",
    "    #for loop that will iterate all of new_string variable\n",
    "    for char in new_string:\n",
    "        #ignore if char is a space\n",
    "        if char != \" \":\n",
    "            #set count to 0 to follow through with above\n",
    "            count = 0\n",
    "            #if any other character type, continue, and reference the string to count the total\n",
    "            for check in new_string:\n",
    "                #check each character in the string against the current one \n",
    "                if char == check:\n",
    "                    #add one to count each time it is seen again\n",
    "                    count += 1\n",
    "            #if the current letter has a highest count change value of max count, set most frequently used character to current character\n",
    "            if count > max_count:\n",
    "                max_count = count\n",
    "                most_frequent_char = char\n",
    "    #return the most frequent character variable after all iterations.\n",
    "    return most_frequent_char, max_count\n",
    "\n",
    "if __name__ == \"__main__\":\n",
    "    main()\n"
   ]
  },
  {
   "cell_type": "markdown",
   "metadata": {
    "id": "NxsN1n6_yXlW"
   },
   "source": [
    "## Helpful Checks\n",
    "\n",
    "1.   Did you comment every line of code with meaningful information that will help others reading your code?\n",
    "2.   Did you use appropriate names for your variables, functions, and/or classes?\n",
    "3.   Did you include a high-level explanation for each solution?\n",
    "4.   Did you run each cell that includes a final solution so the output is saved and easily viewed by others?\n",
    "5.   Are you sharing an editable link (i.e., Share > Anyone with the link > Editor) if using Colaboratory, or did you make more than ten commits if using GitHub?\n",
    "6.   Did you remember to comment on the submissions of two other students?"
   ]
  },
  {
   "cell_type": "code",
   "execution_count": null,
   "metadata": {
    "id": "wxzLHFoJTksu"
   },
   "outputs": [],
   "source": []
  }
 ],
 "metadata": {
  "colab": {
   "include_colab_link": true,
   "provenance": []
  },
  "kernelspec": {
   "display_name": "Python [conda env:base] *",
   "language": "python",
   "name": "conda-base-py"
  },
  "language_info": {
   "codemirror_mode": {
    "name": "ipython",
    "version": 3
   },
   "file_extension": ".py",
   "mimetype": "text/x-python",
   "name": "python",
   "nbconvert_exporter": "python",
   "pygments_lexer": "ipython3",
   "version": "3.12.7"
  }
 },
 "nbformat": 4,
 "nbformat_minor": 4
}
