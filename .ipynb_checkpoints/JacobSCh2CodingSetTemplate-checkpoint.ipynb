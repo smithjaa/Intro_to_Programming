{
 "cells": [
  {
   "cell_type": "markdown",
   "metadata": {
    "colab_type": "text",
    "id": "view-in-github"
   },
   "source": [
    "<a href=\"https://colab.research.google.com/github/smithjaa/Intro_to_Programming/blob/main/JacobSCh2CodingSetTemplate.ipynb\" target=\"_parent\"><img src=\"https://colab.research.google.com/assets/colab-badge.svg\" alt=\"Open In Colab\"/></a>"
   ]
  },
  {
   "cell_type": "markdown",
   "metadata": {
    "id": "V_9gU-dva4Xx"
   },
   "source": [
    "# Chapter 2 Coding Set\n",
    "\n",
    "**Remember to save a copy of this template BEFORE YOU START WORKING :)**\n",
    "\n",
    "Work completed by Jacob Smith.\n",
    "\n",
    "If you struggle with a problem for an extended period of time, remember you can go comment on two other submissions now (seeing other student work helps), or you can post in our discussion forum for questions, which can also earn you extra credit."
   ]
  },
  {
   "cell_type": "markdown",
   "metadata": {
    "id": "jW9S_3jcOdYt"
   },
   "source": [
    "## Imports\n",
    "\n",
    "**If your program requires additional modules, external resources, or files, use this cell to set them up**"
   ]
  },
  {
   "cell_type": "code",
   "execution_count": null,
   "metadata": {
    "id": "mYW-OioYOu3g"
   },
   "outputs": [],
   "source": [
    "# configure your environment\n",
    "\n",
    "# you can uncomment this code to make use of files stored in your Google Drive\n",
    "# from google.colab import drive\n",
    "# drive.mount('/content/drive')\n",
    "\n",
    "# you can uncomment the following line of code to use the pandas library\n",
    "# import pandas as pd"
   ]
  },
  {
   "cell_type": "markdown",
   "metadata": {
    "id": "VH4eGQyub8yQ"
   },
   "source": [
    "## Algorithm Workbench"
   ]
  },
  {
   "cell_type": "markdown",
   "metadata": {
    "id": "dBl7Q9AZcLMU"
   },
   "source": [
    "### Problem 2\n",
    "\n",
    "#### Question Text\n",
    "\n",
    "Write Python code that prompts the user to enter his or her favorite color and assigns the user’s input to a variable named color.\n",
    "\n",
    "#### High-Level Overview\n",
    "\n",
    "I called the input function using the string literal prompt \"Please enter your favorite color: \".  This was assigned to the variable color.  I was a bit confident here and accidentally forgot my closing parenthesis.  I tested using \"print(f\"{color})\" to make sure everything worked, and then removed the test statement.\n",
    "\n",
    "[Please double click this cell and update the problem number above, choosing one of the Algorithm Workbench problems from Chapter 2 of your textbook. Then, update the question text. Finally, once you've completed the problem, please replace the high-level overview placeholder text with your own words describing your solution.]\n"
   ]
  },
  {
   "cell_type": "code",
   "execution_count": 13,
   "metadata": {
    "id": "k4iGFPemb26z"
   },
   "outputs": [
    {
     "name": "stdin",
     "output_type": "stream",
     "text": [
      "Please enter your favorite color:  Blue\n"
     ]
    }
   ],
   "source": [
    "# add your code to this cell\n",
    "# remember to include comments like this one for every line of code\n",
    "# remember to \"Run cell\" once you're done, excecuting your code so the output is displayed below\n",
    "\n",
    "#Input user code as variable named \"color\".\n",
    "color = input(\"Please enter your favorite color: \")"
   ]
  },
  {
   "cell_type": "markdown",
   "metadata": {
    "id": "2b2z_elQf2qP"
   },
   "source": [
    "## Programming Exercises"
   ]
  },
  {
   "cell_type": "markdown",
   "metadata": {
    "id": "klCvdzHvf74V"
   },
   "source": [
    "### Problem 6 Sales Tax\n",
    "\n",
    "#### Question Text\n",
    "\n",
    "Write a program that will ask the user to enter the amount of a purchase. The program should then compute the state and county sales tax. Assume the state sales tax is 5 percent and the county sales tax is 2.5 percent. The program should display the amount of the purchase, the state sales tax, the county sales tax, the total sales tax, and the total of the sale (which is the sum of the amount of purchase plus the total sales tax).\n",
    "\n",
    "Hint: Use the value 0.025 to represent 2.5 percent, and 0.05 to represent 5 percent.\n",
    "\n",
    "#### High-Level Overview\n",
    "\n",
    "*In two to three sentences at minimum, walk through your general approach to the problem and identify any particular issues you had.*\n",
    "\n",
    "[Please double click this cell and update the problem number above, choosing one of the problems besides number 13 from the Chapter 2 Programming Exercises in your textbook. Then, update the question text. Finally, once you've completed the problem, please replace the high-level overview placeholder text with your own words describing your solution.]\n"
   ]
  },
  {
   "cell_type": "code",
   "execution_count": 21,
   "metadata": {
    "id": "iQooA6BWlvx5"
   },
   "outputs": [
    {
     "name": "stdin",
     "output_type": "stream",
     "text": [
      "Please enter the full dollar value ammount of your purchase: $ 1.29\n"
     ]
    },
    {
     "data": {
      "text/plain": [
       "1.29"
      ]
     },
     "execution_count": 21,
     "metadata": {},
     "output_type": "execute_result"
    }
   ],
   "source": [
    "# add your code to this cell\n",
    "# remember to include comments like this one for every line of code\n",
    "# remember to \"Run cell\" once you're done, excecuting your code so the output is displayed below\n",
    "\n",
    "#Assign the two tax values to constants\n",
    "STATE_TAX = 0.05\n",
    "COUNTY_TAX = 0.025\n",
    "\n",
    "#Prompt the user for a purchase value, and input that value to a variable \"cashmoney\".  Turn the string into a float.\n",
    "cashmoney = float(input(\"Please enter the full dollar value ammount of your purchase: $\"))\n",
    "\n",
    "cashmoney"
   ]
  },
  {
   "cell_type": "markdown",
   "metadata": {
    "id": "VxGugqDyxh_p"
   },
   "source": [
    "### Problem 13\n",
    "\n",
    "#### Question Text\n",
    "\n",
    "*Paste in the question text below.*\n",
    "\n",
    "#### High-Level Overview\n",
    "\n",
    "*In two to three sentences at minimum, walk through your general approach to the problem and identify any particular issues you had.*\n"
   ]
  },
  {
   "cell_type": "code",
   "execution_count": null,
   "metadata": {
    "id": "CCUIs3F5xhdd"
   },
   "outputs": [],
   "source": [
    "# add your code to this cell\n",
    "# remember to include comments like this one for every line of code\n",
    "# remember to \"Run cell\" once you're done, excecuting your code so the output is displayed below"
   ]
  },
  {
   "cell_type": "markdown",
   "metadata": {
    "id": "NxsN1n6_yXlW"
   },
   "source": [
    "## Helpful Checks\n",
    "\n",
    "1.   Did you comment every line of code with meaningful information that will help others reading your code?\n",
    "2.   Did you use appropriate names for your variables, functions, and/or classes?\n",
    "3.   Did you include a high-level explanation for each solution?\n",
    "4.   Did you run each cell that includes a final solution so the output is saved and easily viewed by others?\n",
    "5.   Are you sharing an editable link (i.e., Share > Anyone with the link > Editor) if using Colaboratory, or did you make more than ten commits if using GitHub?\n",
    "6.   Did you remember to comment on the submissions of two other students?"
   ]
  },
  {
   "cell_type": "code",
   "execution_count": null,
   "metadata": {
    "id": "wxzLHFoJTksu"
   },
   "outputs": [],
   "source": []
  }
 ],
 "metadata": {
  "colab": {
   "include_colab_link": true,
   "provenance": []
  },
  "kernelspec": {
   "display_name": "Python [conda env:base] *",
   "language": "python",
   "name": "conda-base-py"
  },
  "language_info": {
   "codemirror_mode": {
    "name": "ipython",
    "version": 3
   },
   "file_extension": ".py",
   "mimetype": "text/x-python",
   "name": "python",
   "nbconvert_exporter": "python",
   "pygments_lexer": "ipython3",
   "version": "3.12.7"
  }
 },
 "nbformat": 4,
 "nbformat_minor": 4
}
