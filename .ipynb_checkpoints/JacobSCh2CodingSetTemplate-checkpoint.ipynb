{
 "cells": [
  {
   "cell_type": "markdown",
   "metadata": {
    "colab_type": "text",
    "id": "view-in-github"
   },
   "source": [
    "<a href=\"https://colab.research.google.com/github/smithjaa/Intro_to_Programming/blob/main/JacobSCh2CodingSetTemplate.ipynb\" target=\"_parent\"><img src=\"https://colab.research.google.com/assets/colab-badge.svg\" alt=\"Open In Colab\"/></a>"
   ]
  },
  {
   "cell_type": "markdown",
   "metadata": {
    "id": "V_9gU-dva4Xx"
   },
   "source": [
    "# Chapter 2 Coding Set\n",
    "\n",
    "**Remember to save a copy of this template BEFORE YOU START WORKING :)**\n",
    "\n",
    "Work completed by Jacob Smith.\n",
    "\n",
    "If you struggle with a problem for an extended period of time, remember you can go comment on two other submissions now (seeing other student work helps), or you can post in our discussion forum for questions, which can also earn you extra credit."
   ]
  },
  {
   "cell_type": "markdown",
   "metadata": {
    "id": "jW9S_3jcOdYt"
   },
   "source": [
    "## Imports\n",
    "\n",
    "**If your program requires additional modules, external resources, or files, use this cell to set them up**"
   ]
  },
  {
   "cell_type": "code",
   "execution_count": null,
   "metadata": {
    "id": "mYW-OioYOu3g"
   },
   "outputs": [],
   "source": [
    "# configure your environment\n",
    "\n",
    "# you can uncomment this code to make use of files stored in your Google Drive\n",
    "# from google.colab import drive\n",
    "# drive.mount('/content/drive')\n",
    "\n",
    "# you can uncomment the following line of code to use the pandas library\n",
    "# import pandas as pd"
   ]
  },
  {
   "cell_type": "markdown",
   "metadata": {
    "id": "VH4eGQyub8yQ"
   },
   "source": [
    "## Algorithm Workbench"
   ]
  },
  {
   "cell_type": "markdown",
   "metadata": {
    "id": "dBl7Q9AZcLMU"
   },
   "source": [
    "### Problem 2\n",
    "\n",
    "#### Question Text\n",
    "\n",
    "Write Python code that prompts the user to enter his or her favorite color and assigns the user’s input to a variable named color.\n",
    "\n",
    "#### High-Level Overview\n",
    "\n",
    "I called the input function using the string literal prompt \"Please enter your favorite color: \".  This was assigned to the variable color.  I was a bit confident here and accidentally forgot my closing parenthesis.  I tested using \"print(f\"{color})\" to make sure everything worked, and then removed the test statement.\n",
    "\n",
    "[Please double click this cell and update the problem number above, choosing one of the Algorithm Workbench problems from Chapter 2 of your textbook. Then, update the question text. Finally, once you've completed the problem, please replace the high-level overview placeholder text with your own words describing your solution.]\n"
   ]
  },
  {
   "cell_type": "code",
   "execution_count": 55,
   "metadata": {
    "id": "k4iGFPemb26z"
   },
   "outputs": [
    {
     "name": "stdin",
     "output_type": "stream",
     "text": [
      "Please enter your favorite color:  Blue\n"
     ]
    }
   ],
   "source": [
    "# add your code to this cell\n",
    "# remember to include comments like this one for every line of code\n",
    "# remember to \"Run cell\" once you're done, excecuting your code so the output is displayed below\n",
    "\n",
    "#Input user code as variable named \"color\".\n",
    "color = input(\"Please enter your favorite color: \")"
   ]
  },
  {
   "cell_type": "markdown",
   "metadata": {
    "id": "2b2z_elQf2qP"
   },
   "source": [
    "## Programming Exercises"
   ]
  },
  {
   "cell_type": "markdown",
   "metadata": {
    "id": "klCvdzHvf74V"
   },
   "source": [
    "### Problem 6 Sales Tax\n",
    "\n",
    "#### Question Text\n",
    "\n",
    "Write a program that will ask the user to enter the amount of a purchase. The program should then compute the state and county sales tax. Assume the state sales tax is 5 percent and the county sales tax is 2.5 percent. The program should display the amount of the purchase, the state sales tax, the county sales tax, the total sales tax, and the total of the sale (which is the sum of the amount of purchase plus the total sales tax).\n",
    "\n",
    "Hint: Use the value 0.025 to represent 2.5 percent, and 0.05 to represent 5 percent.\n",
    "\n",
    "#### High-Level Overview\n",
    "\n",
    "I decided to enter the state tax and county tax as constants right away because the question gave me those variables.  Next, I prompted for the ammount of purchase with an input statement.  After that, I did all of my maths to compute taxes and total taxes, after testing the results I realized I had to round to the nearest houndredths place to stick to real dollar ammounts. I had to look up the syntax for how to use the round function to make the numbers look appropriate.  Next I computed the total price.  Finally I printed all values listed using the variables I created and f strings.\n",
    "\n",
    "[Please double click this cell and update the problem number above, choosing one of the problems besides number 13 from the Chapter 2 Programming Exercises in your textbook. Then, update the question text. Finally, once you've completed the problem, please replace the high-level overview placeholder text with your own words describing your solution.]\n"
   ]
  },
  {
   "cell_type": "code",
   "execution_count": 58,
   "metadata": {
    "id": "iQooA6BWlvx5"
   },
   "outputs": [
    {
     "name": "stdin",
     "output_type": "stream",
     "text": [
      "Please enter the full dollar value ammount of your purchase: $ 6.33\n"
     ]
    },
    {
     "name": "stdout",
     "output_type": "stream",
     "text": [
      "Total purchase ammount: $6.33\n",
      "State sales tax: $0.32\n",
      "County sales tax: $0.16\n",
      "Total sales tax: $0.48\n",
      "Sale Total: $6.81\n"
     ]
    }
   ],
   "source": [
    "# add your code to this cell\n",
    "# remember to include comments like this one for every line of code\n",
    "# remember to \"Run cell\" once you're done, excecuting your code so the output is displayed below\n",
    "\n",
    "#Assign the two tax values to constants\n",
    "STATE_TAX = 0.05\n",
    "COUNTY_TAX = 0.025\n",
    "\n",
    "#Prompt the user for a purchase value, and input that value to a variable \"cashmoney\".  Turn the string literal into a float.\n",
    "cashmoney = float(input(\"Please enter the full dollar value of your purchase: $\"))\n",
    "\n",
    "#Do all of the maths required to compute both sets of sales tax, assign them to variables that will later be printed.\n",
    "state_total = round((STATE_TAX * cashmoney), 2)\n",
    "county_total = round((COUNTY_TAX * cashmoney), 2)\n",
    "\n",
    "#Do the maths for total sales tax\n",
    "total_tax = round((state_total + county_total), 2)\n",
    "\n",
    "#Do the maths for the total price to be paid\n",
    "final_price = round((total_tax + cashmoney), 2)\n",
    "\n",
    "#Display ammount of purchase\n",
    "print(f\"Total purchase ammount: ${cashmoney}\")\n",
    "\n",
    "#Display state sales tax\n",
    "print (f\"State sales tax: ${state_total}\")\n",
    "\n",
    "#Display county sales tax\n",
    "print (f\"County sales tax: ${county_total}\")\n",
    "\n",
    "#Display total sales tax\n",
    "print (f\"Total sales tax: ${total_tax}\")\n",
    "\n",
    "#Display total sale\n",
    "print (f\"Sale Total: ${final_price}\")\n"
   ]
  },
  {
   "cell_type": "markdown",
   "metadata": {
    "id": "VxGugqDyxh_p"
   },
   "source": [
    "### Problem 13\n",
    "\n",
    "#### Question Text\n",
    "\n",
    "A vineyard owner is planting several new rows of grapevines, and needs to know how many grapevines to plant in each row. She has determined that after measuring the length of a future row, she can use the following formula to calculate the number of vines that will fit in the row, along with the trellis end-post assemblies that will need to be constructed at each end of the row:\n",
    "\n",
    "𝑉 = (R - 2E)/ S\n",
    "\n",
    "The terms in the formula are:\n",
    "\n",
    "V is the number of grapevines that will fit in the row.\n",
    "\n",
    "R is the length of the row, in feet.\n",
    "\n",
    "E is the amount of space, in feet, used by an end-post assembly.\n",
    "\n",
    "S is the space between vines, in feet.\n",
    "\n",
    "Write a program that makes the calculation for the vineyard owner. The program should ask the user to input the following:\n",
    "\n",
    "The length of the row, in feet\n",
    "\n",
    "The amount of space used by an end-post assembly, in feet\n",
    "\n",
    "The amount of space between the vines, in feet\n",
    "\n",
    "Once the input data has been entered, the program should calculate and display the number of grapevines that will fit in the row.\n",
    "\n",
    "#### High-Level Overview\n",
    "\n",
    "To start I added a welcome message to the user.  Next I added input statements for the required lengths for the program.  After that I did the math required for the final print out.  Then I added the print statement.  The only real issue I had was that the total number of grapevines had the potential to be partial, so I edited the math line to make sure that the result would be a solid whole number because it makes more sense to plant a whole grapevine.\n"
   ]
  },
  {
   "cell_type": "code",
   "execution_count": 11,
   "metadata": {
    "id": "CCUIs3F5xhdd"
   },
   "outputs": [
    {
     "name": "stdout",
     "output_type": "stream",
     "text": [
      "Welcome to the grapevine calculator\n"
     ]
    },
    {
     "name": "stdin",
     "output_type": "stream",
     "text": [
      "Please enter the distance of your row in feet:  10\n",
      "Please enter the amount of space used by an end-post assembly in feet:  2\n",
      "Please enter the spacing between the vines in feet:  1\n"
     ]
    },
    {
     "name": "stdout",
     "output_type": "stream",
     "text": [
      "6 grapevines will fit in the row.\n"
     ]
    }
   ],
   "source": [
    "# add your code to this cell\n",
    "# remember to include comments like this one for every line of code\n",
    "# remember to \"Run cell\" once you're done, excecuting your code so the output is displayed below\n",
    "\n",
    "#Adding a welcome message for the user\n",
    "print(\"Welcome to the grapevine calculator\")\n",
    "\n",
    "#Request input for row lenghth in feet, assign to variable and make sure the number is a float.\n",
    "row_length = float(input(\"Please enter the distance of your row in feet: \"))\n",
    "\n",
    "#Request input for the amount of space used by an end-post assembly in same fashion as row length.\n",
    "post_length = float(input(\"Please enter the amount of space used by an end-post assembly in feet: \"))\n",
    "\n",
    "#Request input for the amount of space between the vines, in feet, in the same fasihion as the previous lenths.\n",
    "vine_spacing = float(input(\"Please enter the spacing between the vines in feet: \"))\n",
    "\n",
    "#Do the math requested and assign the result to a variable\n",
    "total_grapevines = int((row_length - (2 * post_length)) / vine_spacing)\n",
    "\n",
    "print (f\"{total_grapevines} grapevines will fit in the row.\")\n"
   ]
  },
  {
   "cell_type": "markdown",
   "metadata": {
    "id": "NxsN1n6_yXlW"
   },
   "source": [
    "## Helpful Checks\n",
    "\n",
    "1.   Did you comment every line of code with meaningful information that will help others reading your code?\n",
    "2.   Did you use appropriate names for your variables, functions, and/or classes?\n",
    "3.   Did you include a high-level explanation for each solution?\n",
    "4.   Did you run each cell that includes a final solution so the output is saved and easily viewed by others?\n",
    "5.   Are you sharing an editable link (i.e., Share > Anyone with the link > Editor) if using Colaboratory, or did you make more than ten commits if using GitHub?\n",
    "6.   Did you remember to comment on the submissions of two other students?"
   ]
  },
  {
   "cell_type": "code",
   "execution_count": null,
   "metadata": {
    "id": "wxzLHFoJTksu"
   },
   "outputs": [],
   "source": []
  }
 ],
 "metadata": {
  "colab": {
   "include_colab_link": true,
   "provenance": []
  },
  "kernelspec": {
   "display_name": "Python [conda env:base] *",
   "language": "python",
   "name": "conda-base-py"
  },
  "language_info": {
   "codemirror_mode": {
    "name": "ipython",
    "version": 3
   },
   "file_extension": ".py",
   "mimetype": "text/x-python",
   "name": "python",
   "nbconvert_exporter": "python",
   "pygments_lexer": "ipython3",
   "version": "3.12.7"
  }
 },
 "nbformat": 4,
 "nbformat_minor": 4
}
