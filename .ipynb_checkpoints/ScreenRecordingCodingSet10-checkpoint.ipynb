{
  "nbformat": 4,
  "nbformat_minor": 0,
  "metadata": {
    "colab": {
      "provenance": [],
      "include_colab_link": true
    },
    "kernelspec": {
      "name": "python3",
      "display_name": "Python 3"
    },
    "language_info": {
      "name": "python"
    }
  },
  "cells": [
    {
      "cell_type": "markdown",
      "metadata": {
        "id": "view-in-github",
        "colab_type": "text"
      },
      "source": [
        "<a href=\"https://colab.research.google.com/github/smithjaa/Intro_to_Programming/blob/main/ScreenRecordingCodingSet10.ipynb\" target=\"_parent\"><img src=\"https://colab.research.google.com/assets/colab-badge.svg\" alt=\"Open In Colab\"/></a>"
      ]
    },
    {
      "cell_type": "markdown",
      "source": [
        "# Chapter **?** Coding Set\n",
        "\n",
        "**Remember to save a copy of this template BEFORE YOU START WORKING :)**\n",
        "\n",
        "Work completed by [student name].\n",
        "\n",
        "IMPORTANT: Remember to screen record ALL of your work on at least one problem. You must turn off the generative AI code-completion for this problem, as this problem is preparation for our final exam practical. You can turn off generative AI code-completion within Colab by tapping/clicking the settings icon in the upper right, tapping/clicking the AI Assistance section, and then deselecting \"Consented to use generative AI features\" and selecting \"Hide generative AI features\" (these settings may be returned to their previous states once you've completed this problem).\n",
        "\n",
        "If you start to struggle with a problem for an extended period of time, remember you can go comment on two other submissions now (seeing other student work helps), or you can post in our discussion forum for questions, which can also earn you extra credit."
      ],
      "metadata": {
        "id": "V_9gU-dva4Xx"
      }
    },
    {
      "cell_type": "markdown",
      "source": [
        "## Imports\n",
        "\n",
        "**If your program requires additional modules, external resources, or files, use this cell to set them up**"
      ],
      "metadata": {
        "id": "jW9S_3jcOdYt"
      }
    },
    {
      "cell_type": "code",
      "source": [
        "# configure your environment\n",
        "\n",
        "# you can uncomment this code to make use of files stored in your Google Drive\n",
        "# from google.colab import drive\n",
        "# drive.mount('/content/drive')\n",
        "\n",
        "# you can uncomment the following line of code to use the pandas library\n",
        "# import pandas as pd"
      ],
      "metadata": {
        "id": "mYW-OioYOu3g"
      },
      "execution_count": null,
      "outputs": []
    },
    {
      "cell_type": "markdown",
      "source": [
        "## Programming Exercises"
      ],
      "metadata": {
        "id": "2b2z_elQf2qP"
      }
    },
    {
      "cell_type": "markdown",
      "source": [
        "### Problem **?**\n",
        "\n",
        "#### Question Text\n",
        "\n",
        "*Paste in the question text below.*\n",
        "\n",
        "#### High-Level Overview\n",
        "\n",
        "*In two to three sentences at minimum, walk through your general approach to the problem and identify any particular issues you had.*\n"
      ],
      "metadata": {
        "id": "klCvdzHvf74V"
      }
    },
    {
      "cell_type": "code",
      "source": [
        "# add your code to this cell\n",
        "# remember to include comments like this one for most of your code\n",
        "# remember to \"Run cell\" once you're done, excecuting your code so the output is displayed below"
      ],
      "metadata": {
        "id": "iQooA6BWlvx5"
      },
      "execution_count": null,
      "outputs": []
    },
    {
      "cell_type": "markdown",
      "source": [
        "### Problem **?**\n",
        "\n",
        "#### Question Text\n",
        "\n",
        "*Paste in the question text below.*\n",
        "\n",
        "#### High-Level Overview\n",
        "\n",
        "*In two to three sentences at minimum, walk through your general approach to the problem and identify any particular issues you had.*\n"
      ],
      "metadata": {
        "id": "VxGugqDyxh_p"
      }
    },
    {
      "cell_type": "code",
      "source": [
        "# add your code to this cell\n",
        "# remember to include comments like this one for most of your code\n",
        "# remember to \"Run cell\" once you're done, excecuting your code so the output is displayed below"
      ],
      "metadata": {
        "id": "CCUIs3F5xhdd"
      },
      "execution_count": null,
      "outputs": []
    },
    {
      "cell_type": "markdown",
      "source": [
        "## Helpful Checks\n",
        "\n",
        "1.   Did you comment every line of code with meaningful information that will help others reading your code?\n",
        "2.   Did you use appropriate names for your variables, functions, and/or classes?\n",
        "3.   Did you include a high-level explanation for each solution?\n",
        "4.   Did you run each cell that includes a final solution so the output is saved and easily viewed by others?\n",
        "5.   Are you sharing an editable link (i.e., Share > Anyone with the link > Editor) if using Colaboratory, or did you make more than ten commits if using GitHub?\n",
        "6.   Did you remember to comment on the submissions of two other students?\n",
        "7.   Did you remember to screen record all of your work for at least one problem while turning off the generative AI features?\n",
        "8.   Did you remember to create a diagram (e.g., UML class diagram, flowchart, or hierarchical diagram) and include the link with your D2L submission?"
      ],
      "metadata": {
        "id": "NxsN1n6_yXlW"
      }
    },
    {
      "cell_type": "code",
      "source": [],
      "metadata": {
        "id": "yRtnTuqDgYhg"
      },
      "execution_count": null,
      "outputs": []
    }
  ]
}