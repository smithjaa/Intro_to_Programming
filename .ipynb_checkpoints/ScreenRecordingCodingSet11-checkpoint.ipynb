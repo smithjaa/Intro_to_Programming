{
 "cells": [
  {
   "cell_type": "markdown",
   "metadata": {
    "colab_type": "text",
    "id": "view-in-github"
   },
   "source": [
    "<a href=\"https://colab.research.google.com/github/smithjaa/Intro_to_Programming/blob/main/ScreenRecordingCodingSet11.ipynb\" target=\"_parent\"><img src=\"https://colab.research.google.com/assets/colab-badge.svg\" alt=\"Open In Colab\"/></a>"
   ]
  },
  {
   "cell_type": "markdown",
   "metadata": {
    "id": "V_9gU-dva4Xx"
   },
   "source": [
    "# Chapter **11** Coding Set\n",
    "\n",
    "\n",
    "Work completed by Jacob Smith.\n",
    "\n",
    "IMPORTANT: Remember to screen record ALL of your work on at least one problem. You must turn off the generative AI code-completion for this problem, as this problem is preparation for our final exam practical. You can turn off generative AI code-completion within Colab by tapping/clicking the settings icon in the upper right, tapping/clicking the AI Assistance section, and then deselecting \"Consented to use generative AI features\" and selecting \"Hide generative AI features\" (these settings may be returned to their previous states once you've completed this problem).\n",
    "\n",
    "If you start to struggle with a problem for an extended period of time, remember you can go comment on two other submissions now (seeing other student work helps), or you can post in our discussion forum for questions, which can also earn you extra credit."
   ]
  },
  {
   "cell_type": "markdown",
   "metadata": {
    "id": "jW9S_3jcOdYt"
   },
   "source": [
    "## Imports\n",
    "\n",
    "**If your program requires additional modules, external resources, or files, use this cell to set them up**"
   ]
  },
  {
   "cell_type": "code",
   "execution_count": null,
   "metadata": {
    "id": "mYW-OioYOu3g"
   },
   "outputs": [],
   "source": [
    "# configure your environment\n",
    "\n",
    "# you can uncomment this code to make use of files stored in your Google Drive\n",
    "# from google.colab import drive\n",
    "# drive.mount('/content/drive')\n",
    "\n",
    "# you can uncomment the following line of code to use the pandas library\n",
    "# import pandas as pd"
   ]
  },
  {
   "cell_type": "markdown",
   "metadata": {
    "id": "2b2z_elQf2qP"
   },
   "source": [
    "## Programming Exercises"
   ]
  },
  {
   "cell_type": "markdown",
   "metadata": {
    "id": "klCvdzHvf74V"
   },
   "source": [
    "### Problem **1 Employee and ProductionWorker Classes**\n",
    "\n",
    "#### Question Text\n",
    "\n",
    "Write an Employee class that keeps data attributes for the following pieces of information:\n",
    "\n",
    "Employee name\n",
    "\n",
    "Employee number\n",
    "\n",
    "Next, write a class named ProductionWorker that is a subclass of the Employee class. The ProductionWorker class should keep data attributes for the following information:\n",
    "\n",
    "Shift number (an integer, such as 1, 2, or 3)\n",
    "\n",
    "Hourly pay rate\n",
    "\n",
    "The workday is divided into two shifts: day and night. The shift attribute will hold an integer value representing the shift that the employee works. The day shift is shift 1 and the night shift is shift 2. Write the appropriate accessor and mutator methods for each class.\n",
    "\n",
    "Once you have written the classes, write a program that creates an object of the ProductionWorker class and prompts the user to enter data for each of the object’s data attributes. Store the data in the object, then use the object’s accessor methods to retrieve it and display it on the screen.\n",
    "\n",
    "#### High-Level Overview\n",
    "\n",
    "First I created the Employee class, with all the required attributes.  Next I created subclass ProductionWorker, and inherited the name and employee number, as well as added the shift and pay attributes.  Next I created a main function to run the program.  In the main function, I welcome the user, ask for input to create the object.  Next I created the object with the information from the user and used the accessor methods to print an output revealing the information needed to complete the assignment.\n",
    "\n",
    "I had the logic down for this but there were quite a few syntax errors, it seemed every time I ran I found 3 more.  I think I'm just not as familliar with writing objects, so it'll come.  For reference in creating this I had an example of a simple example of a class with inheritance up on the other monitor.  That's it for notes, other than reviewing some of my previous work occasionally.\n"
   ]
  },
  {
   "cell_type": "code",
   "execution_count": 32,
   "metadata": {
    "id": "iQooA6BWlvx5"
   },
   "outputs": [
    {
     "name": "stdout",
     "output_type": "stream",
     "text": [
      "Welcome to the employee tracking system\n"
     ]
    },
    {
     "name": "stdin",
     "output_type": "stream",
     "text": [
      "Please enter your first name:  Jacob\n",
      "Please provide your employee number:  789\n",
      "please provide your shift number, 1 for day and 2 for night:  1\n",
      "Please provide your hourly pay rate:  4.95\n"
     ]
    },
    {
     "name": "stdout",
     "output_type": "stream",
     "text": [
      "Thank you for registering Jacob, employee #789. You will be working shift #1, at a rate of $4.95\n"
     ]
    }
   ],
   "source": [
    "# add your code to this cell\n",
    "# remember to include comments like this one for most of your code\n",
    "# remember to \"Run cell\" once you're done, excecuting your code so the output is displayed below\n",
    "\n",
    "#create the Employee Class\n",
    "class Employee:\n",
    "    #add init command for innitial assignments\n",
    "    def __init__(self, name, employee_num):\n",
    "        self.name = name\n",
    "        self.employee_num = employee_num\n",
    "\n",
    "    #define mutators\n",
    "    #Set the name\n",
    "    def set_name(self, name):\n",
    "        self.name = name\n",
    "    \n",
    "    #Set the employee number\n",
    "    def set_employee_num(self, employee_num):\n",
    "        self.employee_num = employee_num\n",
    "        \n",
    "    #Define accesors\n",
    "    #Return the name\n",
    "    def get_name(self):\n",
    "        return self.name\n",
    "    \n",
    "    #Return the employee number\n",
    "    def get_employee_num(self):\n",
    "        return self.employee_num\n",
    "\n",
    "#Create ProductionWorker subclass\n",
    "class ProductionWorker(Employee):\n",
    "    #inherited __init__\n",
    "    def __init__(self, name, employee_num, shift, pay_hour):\n",
    "        #utilize inherited traits\n",
    "        super().__init__(name, employee_num)\n",
    "        #New traits\n",
    "        self.shift = shift\n",
    "        self.pay_hour = pay_hour\n",
    "    \n",
    "    #Shift mutator\n",
    "    def set_shift(self, shift):\n",
    "        self.shift = shift\n",
    "    #pay mutator\n",
    "    def set_pay_hour(self, pay_hour):\n",
    "        self.pay_hour = pay_hour\n",
    "\n",
    "    #Accessors\n",
    "    def get_shift(self):\n",
    "        return self.shift\n",
    "    def get_pay_hour(self):\n",
    "        return self.pay_hour\n",
    "\n",
    "#define the main function\n",
    "def main():\n",
    "    print(\"Welcome to the employee tracking system\")\n",
    "    #Ask user for data to be used in production worker object\n",
    "    name = input(\"Please enter your first name: \")\n",
    "    employee_num = input(\"Please provide your employee number: \")\n",
    "    shift = input(\"please provide your shift number, 1 for day and 2 for night: \")\n",
    "    pay_hour = input(\"Please provide your hourly pay rate: \")\n",
    "\n",
    "    #create ProductionWorker object\n",
    "    employee_1 = ProductionWorker(name, employee_num, shift, pay_hour)\n",
    "\n",
    "    #Print our information with an f string, using accessor methods\n",
    "    print (\n",
    "            f\"Thank you for registering {employee_1.get_name()}, employee #{employee_1.get_employee_num()}. \"\n",
    "            f\"You will be working shift #{employee_1.get_shift()}, at a rate of ${employee_1.get_pay_hour()}\" \n",
    "            )\n",
    "\n",
    "\n",
    "#call the main function\n",
    "if __name__ == \"__main__\":\n",
    "    main()\n"
   ]
  },
  {
   "cell_type": "markdown",
   "metadata": {
    "id": "VxGugqDyxh_p"
   },
   "source": [
    "### Problem **2 ShiftSupervisor Class**\n",
    "\n",
    "#### Question Text\n",
    "\n",
    "In a particular factory, a shift supervisor is a salaried employee who supervises a shift. In addition to a salary, the shift supervisor earns a yearly bonus when his or her shift meets production goals. Write a ShiftSupervisor class that is a subclass of the Employee class you created in Programming Exercise 1. The ShiftSupervisor class should keep a data attribute for the annual salary, and a data attribute for the annual production bonus that a shift supervisor has earned. Demonstrate the class by writing a program that uses a ShiftSupervisor object.\n",
    "\n",
    "#### High-Level Overview\n",
    "\n",
    "*In two to three sentences at minimum, walk through your general approach to the problem and identify any particular issues you had.*\n"
   ]
  },
  {
   "cell_type": "code",
   "execution_count": null,
   "metadata": {
    "id": "CCUIs3F5xhdd"
   },
   "outputs": [],
   "source": [
    "# add your code to this cell\n",
    "# remember to include comments like this one for most of your code\n",
    "# remember to \"Run cell\" once you're done, excecuting your code so the output is displayed below\n",
    "\n",
    "#create the Employee Class\n",
    "class Employee:\n",
    "    #add init command for innitial assignments\n",
    "    def __init__(self, name, employee_num):\n",
    "        self.name = name\n",
    "        self.employee_num = employee_num\n",
    "\n",
    "    #define mutators\n",
    "    #Set the name\n",
    "    def set_name(self, name):\n",
    "        self.name = name\n",
    "    \n",
    "    #Set the employee number\n",
    "    def set_employee_num(self, employee_num):\n",
    "        self.employee_num = employee_num\n",
    "        \n",
    "    #Define accesors\n",
    "    #Return the name\n",
    "    def get_name(self):\n",
    "        return self.name\n",
    "    \n",
    "    #Return the employee number\n",
    "    def get_employee_num(self):\n",
    "        return self.employee_num\n",
    "\n",
    "#Create ProductionWorker subclass\n",
    "class ProductionWorker(Employee):\n",
    "    #inherited __init__ and new attributes\n",
    "    def __init__(self, name, employee_num, shift, pay_hour):\n",
    "        #utilize inherited traits\n",
    "        super().__init__(name, employee_num)\n",
    "        #New traits\n",
    "        self.shift = shift\n",
    "        self.pay_hour = pay_hour\n",
    "    \n",
    "    #Shift mutator\n",
    "    def set_shift(self, shift):\n",
    "        self.shift = shift\n",
    "    #pay mutator\n",
    "    def set_pay_hour(self, pay_hour):\n",
    "        self.pay_hour = pay_hour\n",
    "\n",
    "    #Accessors\n",
    "    def get_shift(self):\n",
    "        return self.shift\n",
    "    def get_pay_hour(self):\n",
    "        return self.pay_hour\n",
    "\n",
    "\n",
    "\n",
    "\n",
    "\n",
    "#Create ShiftSupervisor class\n",
    "class ShiftSupervisor(Employee):\n",
    "    #inherited __init__ and new attributes\n",
    "    def __init__(self, name, employee_num, salary, bonus):\n",
    "        #utilize inherited traits\n",
    "        super().__init__(name, employee_num)\n",
    "        \n",
    "        #new traits\n",
    "        self.salary = salary\n",
    "        self.bonus = bonus\n",
    "        \n",
    "#Create several ShiftSupervisor objects\n",
    "employee1 = ShiftSupervisor(Jasmin, \"795\", \"1\", \"750\")\n",
    "employee2 = ShiftSupervisor(Jasmin, \"795\", \"1\", \"750\")\n",
    "employee3 = ShiftSupervisor(Jasmin, \"795\", \"1\", \"750\")\n",
    "employee4 = ShiftSupervisor(Jasmin, \"795\", \"1\", \"750\")\n",
    "\n",
    "#define the main function\n",
    "def main():\n",
    "    print(\"Welcome to the shift supervisor tracker!\")\n",
    "    input(\"Please enter the name of the employee you would l\n",
    "    \n",
    "\n",
    "    \n",
    "    \n",
    "    \n",
    "\n",
    "#call the main function\n",
    "if __name__ == \"__main__\":\n",
    "    main()"
   ]
  },
  {
   "cell_type": "markdown",
   "metadata": {
    "id": "NxsN1n6_yXlW"
   },
   "source": [
    "## Helpful Checks\n",
    "\n",
    "1.   Did you comment every line of code with meaningful information that will help others reading your code?\n",
    "2.   Did you use appropriate names for your variables, functions, and/or classes?\n",
    "3.   Did you include a high-level explanation for each solution?\n",
    "4.   Did you run each cell that includes a final solution so the output is saved and easily viewed by others?\n",
    "5.   Are you sharing an editable link (i.e., Share > Anyone with the link > Editor) if using Colaboratory, or did you make more than ten commits if using GitHub?\n",
    "6.   Did you remember to comment on the submissions of two other students?\n",
    "7.   Did you remember to screen record all of your work for at least one problem while turning off the generative AI features?\n",
    "8.   Did you remember to create a diagram (e.g., UML class diagram, flowchart, or hierarchical diagram) and include the link with your D2L submission?"
   ]
  },
  {
   "cell_type": "code",
   "execution_count": null,
   "metadata": {
    "id": "yRtnTuqDgYhg"
   },
   "outputs": [],
   "source": []
  }
 ],
 "metadata": {
  "colab": {
   "include_colab_link": true,
   "provenance": []
  },
  "kernelspec": {
   "display_name": "Python [conda env:base] *",
   "language": "python",
   "name": "conda-base-py"
  },
  "language_info": {
   "codemirror_mode": {
    "name": "ipython",
    "version": 3
   },
   "file_extension": ".py",
   "mimetype": "text/x-python",
   "name": "python",
   "nbconvert_exporter": "python",
   "pygments_lexer": "ipython3",
   "version": "3.12.7"
  }
 },
 "nbformat": 4,
 "nbformat_minor": 4
}
