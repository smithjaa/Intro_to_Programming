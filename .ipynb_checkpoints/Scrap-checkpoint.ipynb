{
 "cells": [
  {
   "cell_type": "code",
   "execution_count": 36,
   "id": "d7b39177-994c-4440-80e0-5f6d55d0f7a3",
   "metadata": {},
   "outputs": [
    {
     "name": "stdout",
     "output_type": "stream",
     "text": [
      "100100100100100100100100100100r\n"
     ]
    }
   ],
   "source": [
    "# File Objects\n",
    "with open('test.txt', 'r') as f:\n",
    "    size_to_read = 100\n",
    "    for line in f:\n",
    "        print(size_to_read, end='')\n",
    "    \n",
    "       \n",
    "#The old way    \n",
    "#f = open('test.txt', 'r')\n",
    "print(f.mode)\n",
    "\n",
    "#f.close()\n",
    "    "
   ]
  },
  {
   "cell_type": "code",
   "execution_count": null,
   "id": "a914374b-7417-4a4c-8adc-2b78ab1d478c",
   "metadata": {},
   "outputs": [],
   "source": []
  },
  {
   "cell_type": "code",
   "execution_count": null,
   "id": "1fc41560-3280-4c4d-b9cd-80c8e0396cad",
   "metadata": {},
   "outputs": [],
   "source": []
  }
 ],
 "metadata": {
  "kernelspec": {
   "display_name": "Python [conda env:base] *",
   "language": "python",
   "name": "conda-base-py"
  },
  "language_info": {
   "codemirror_mode": {
    "name": "ipython",
    "version": 3
   },
   "file_extension": ".py",
   "mimetype": "text/x-python",
   "name": "python",
   "nbconvert_exporter": "python",
   "pygments_lexer": "ipython3",
   "version": "3.12.7"
  }
 },
 "nbformat": 4,
 "nbformat_minor": 5
}
