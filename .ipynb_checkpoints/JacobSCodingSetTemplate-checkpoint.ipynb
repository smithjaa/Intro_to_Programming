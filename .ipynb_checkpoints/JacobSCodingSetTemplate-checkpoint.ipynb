{
 "cells": [
  {
   "cell_type": "markdown",
   "metadata": {
    "colab_type": "text",
    "id": "view-in-github"
   },
   "source": [
    "<a href=\"https://colab.research.google.com/github/smithjaa/Intro_to_Programming/blob/main/JacobSCodingSetTemplate.ipynb\" target=\"_parent\"><img src=\"https://colab.research.google.com/assets/colab-badge.svg\" alt=\"Open In Colab\"/></a>"
   ]
  },
  {
   "cell_type": "markdown",
   "metadata": {
    "id": "V_9gU-dva4Xx"
   },
   "source": [
    "# Chapter **1** Coding Set\n",
    "\n",
    "**Remember to save a copy of this template BEFORE YOU START WORKING :)**\n",
    "\n",
    "Work completed by Jacob Smith.\n",
    "\n",
    "If you struggle with a problem for an extended period of time, remember you can go comment on two other submissions now (seeing other student work helps), or you can post in our discussion forum for questions, which can also earn you extra credit."
   ]
  },
  {
   "cell_type": "markdown",
   "metadata": {
    "id": "2b2z_elQf2qP"
   },
   "source": [
    "## Programming Exercises"
   ]
  },
  {
   "cell_type": "markdown",
   "metadata": {
    "id": "klCvdzHvf74V"
   },
   "source": [
    "### Problem A (Not in texbook)\n",
    "\n",
    "#### Question Text\n",
    "\n",
    "Try entering the following code in the cell below and then press SHIFT + ENTER -or- click the \"Run cell\" button:\n",
    "\n",
    "```\n",
    "print('This is a test of running Python code within a notebook.')\n",
    "```\n",
    "\n",
    "#### High-Level Overview\n",
    "\n",
    "I followed the method from the video walkthrough.  Copy and paste was pretty easy, afterwards I just hit shift and enter to run the code.\n"
   ]
  },
  {
   "cell_type": "code",
   "execution_count": 4,
   "metadata": {
    "id": "iQooA6BWlvx5"
   },
   "outputs": [
    {
     "name": "stdout",
     "output_type": "stream",
     "text": [
      "This is a test of running Python code within a notebook.\n"
     ]
    }
   ],
   "source": [
    "# add your code to this cell\n",
    "# remember to include comments like this one for every line of code\n",
    "# remember to \"Run cell\" once you're done, excecuting your code so the output is displayed below\n",
    "# just click inside the cell and enter the code below\n",
    "\n",
    "print('This is a test of running Python code within a notebook.')"
   ]
  },
  {
   "cell_type": "markdown",
   "metadata": {
    "id": "VxGugqDyxh_p"
   },
   "source": [
    "### Problem 3\n",
    "\n",
    "#### Question Text\n",
    "\n",
    "Use what you've learned about the binary numbering system in this chapter to convert by hand (i.e., no Python) the following decimal numbers to binary. Make sure you show all your work to find your answers.\n",
    "\n",
    "```\n",
    " 11\n",
    " 65\n",
    "100\n",
    "255\n",
    "```\n",
    "\n",
    "#### High-Level Overview\n",
    "\n",
    "First I decided to write out all of the full values of each bit in a byte when used as a numerical value.  Then I wrote in the values below that using the values of the top-most line to come up with a solution.  One issue that I had was hoping \\n would create a new line for me as it does in python.  It did not, so I used the \"*\" for formatting.\n",
    "\n",
    "#### Solution\n",
    "\n",
    "*     128 64 32 16 8 4 2 1\n",
    "* \n",
    "*  11: 0 0 0 0 1 0 1 1\n",
    "*  65: 0 1 0 0 0 0 0 1\n",
    "* 100: 0 1 1 0 0 1 0 0\n",
    "* 255: 1 1 1 1 1 1 1 1\n"
   ]
  },
  {
   "cell_type": "markdown",
   "metadata": {
    "id": "kqfebVBKxlKj"
   },
   "source": [
    "### Problem **?**\n",
    "\n",
    "#### Question Text\n",
    "\n",
    "Question 6\n",
    "Use the Internet to research the history of the Python programming language, and answer the following questions:\n",
    "\n",
    "Who was the creator of Python? Guido van Rossum\n",
    "\n",
    "When was Python created?\n",
    "\n",
    "In the Python programming community, the person who created Python is commonly referred to as the “BDFL.” What does this mean?\n",
    "#### High-Level Overview\n",
    "\n",
    "*In two to three sentences at minimum, walk through your general approach to the problem and identify any particular issues you had.*\n",
    "\n",
    "[Please double click this cell and update the problem number above, choosing problem 4, 5, or 6 from the Chapter 1 Programming Exercises in\n",
    "your textbook. Then, update the question text. Finally, once you've completed the problem, please replace the high-level overview placeholder text with your own words describing your solution.]\n"
   ]
  },
  {
   "cell_type": "markdown",
   "metadata": {
    "id": "NxsN1n6_yXlW"
   },
   "source": [
    "## Helpful Checks\n",
    "\n",
    "1.   Did you include a high-level explanation for each solution?\n",
    "2.   Did you run the cell that includes a final coding solution so the output is saved and easily viewed by others?\n",
    "3.   Are you sharing an editable link (i.e., Share > Anyone with the link > Editor) if using Colaboratory, or did you make more than ten commits if using GitHub?\n",
    "4.   Did you remember to comment on the submissions of two other students?"
   ]
  },
  {
   "cell_type": "code",
   "execution_count": null,
   "metadata": {
    "id": "pwannh81NTQz"
   },
   "outputs": [],
   "source": []
  }
 ],
 "metadata": {
  "colab": {
   "include_colab_link": true,
   "provenance": []
  },
  "kernelspec": {
   "display_name": "Python [conda env:base] *",
   "language": "python",
   "name": "conda-base-py"
  },
  "language_info": {
   "codemirror_mode": {
    "name": "ipython",
    "version": 3
   },
   "file_extension": ".py",
   "mimetype": "text/x-python",
   "name": "python",
   "nbconvert_exporter": "python",
   "pygments_lexer": "ipython3",
   "version": "3.12.7"
  }
 },
 "nbformat": 4,
 "nbformat_minor": 4
}
