{
 "cells": [
  {
   "cell_type": "code",
   "execution_count": 1,
   "id": "7c5bc109-680c-4575-87d5-28c3339b5acd",
   "metadata": {},
   "outputs": [
    {
     "name": "stdout",
     "output_type": "stream",
     "text": [
      "just a test because I'm on a fresh windows install\n"
     ]
    }
   ],
   "source": [
    "print(\"just a test because I'm on a fresh windows install\")\n"
   ]
  },
  {
   "cell_type": "code",
   "execution_count": null,
   "id": "dd12dc0c-8a4f-478d-be91-bc833d7fe104",
   "metadata": {},
   "outputs": [],
   "source": []
  }
 ],
 "metadata": {
  "kernelspec": {
   "display_name": "Python [conda env:base] *",
   "language": "python",
   "name": "conda-base-py"
  },
  "language_info": {
   "codemirror_mode": {
    "name": "ipython",
    "version": 3
   },
   "file_extension": ".py",
   "mimetype": "text/x-python",
   "name": "python",
   "nbconvert_exporter": "python",
   "pygments_lexer": "ipython3",
   "version": "3.12.7"
  }
 },
 "nbformat": 4,
 "nbformat_minor": 5
}
