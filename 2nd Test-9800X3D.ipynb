{
 "cells": [
  {
   "cell_type": "code",
   "execution_count": 4,
   "id": "7c5bc109-680c-4575-87d5-28c3339b5acd",
   "metadata": {},
   "outputs": [],
   "source": [
    "#define\n",
    "def extract_unique_words(filename):\n",
    "  try:\n",
    "    #open file\n",
    "    with open(filename, 'r') as file:\n",
    "      #read content of file into a string\n",
    "      text = file.read()\n",
    "\n",
    "\n",
    "#split the text into words based on whitepspace\n",
    "      words = text.split()\n",
    "\n",
    "      #empty to store dictionary in unique words\n",
    "      unique_words = {}\n",
    "      for word in words:\n",
    "        #insert word in dictionary as key, with placeholder being true\n",
    "        unique_words[word] = True\n",
    "\n",
    "\n",
    "#display print statement\n",
    "      print(\"Unique words in the file: \")\n",
    "      #sort to sort dictionary keys alphabetical\n",
    "      for word in sorted(unique_words.key()):\n",
    "         #print the unique word\n",
    "          print(word)\n",
    "\n",
    "  except FileNotFoundError:\n",
    "    #except if file doesn't exist\n",
    "    print(f\"Error: '{filename}' was not found.\")\n",
    "    #except if error occured\n",
    "  except Exception as e:\n",
    "    #print error message\n",
    "    print(f\"An error occured: {e}\")\n",
    "\n",
    "#prompt user for filename to process\n",
    "    filename = input(\"Enter the filename: \")\n",
    "    #call the function to extract unqiue words from fike\n",
    "    extract_unique_words(filename)\n",
    "      \n"
   ]
  },
  {
   "cell_type": "code",
   "execution_count": null,
   "id": "dd12dc0c-8a4f-478d-be91-bc833d7fe104",
   "metadata": {},
   "outputs": [],
   "source": []
  }
 ],
 "metadata": {
  "kernelspec": {
   "display_name": "Python [conda env:base] *",
   "language": "python",
   "name": "conda-base-py"
  },
  "language_info": {
   "codemirror_mode": {
    "name": "ipython",
    "version": 3
   },
   "file_extension": ".py",
   "mimetype": "text/x-python",
   "name": "python",
   "nbconvert_exporter": "python",
   "pygments_lexer": "ipython3",
   "version": "3.12.7"
  }
 },
 "nbformat": 4,
 "nbformat_minor": 5
}
