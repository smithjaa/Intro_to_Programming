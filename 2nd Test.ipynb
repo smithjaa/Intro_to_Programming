{
 "cells": [
  {
   "cell_type": "code",
   "execution_count": null,
   "id": "7c5bc109-680c-4575-87d5-28c3339b5acd",
   "metadata": {},
   "outputs": [],
   "source": []
  }
 ],
 "metadata": {
  "kernelspec": {
   "display_name": "",
   "name": ""
  },
  "language_info": {
   "name": ""
  }
 },
 "nbformat": 4,
 "nbformat_minor": 5
}
