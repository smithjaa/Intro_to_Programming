{
 "cells": [
  {
   "cell_type": "markdown",
   "metadata": {
    "colab_type": "text",
    "id": "view-in-github"
   },
   "source": [
    "<a href=\"https://colab.research.google.com/github/smithjaa/Intro_to_Programming/blob/main/CodingSet8.ipynb\" target=\"_parent\"><img src=\"https://colab.research.google.com/assets/colab-badge.svg\" alt=\"Open In Colab\"/></a>"
   ]
  },
  {
   "cell_type": "markdown",
   "metadata": {
    "id": "V_9gU-dva4Xx"
   },
   "source": [
    "# Chapter **8** Coding Set\n",
    "\n",
    "Work completed by Jacob Smith.\n"
   ]
  },
  {
   "cell_type": "markdown",
   "metadata": {
    "id": "jW9S_3jcOdYt"
   },
   "source": [
    "## Imports\n",
    "\n",
    "**If your program requires additional modules, external resources, or files, use this cell to set them up**"
   ]
  },
  {
   "cell_type": "code",
   "execution_count": null,
   "metadata": {
    "id": "mYW-OioYOu3g"
   },
   "outputs": [],
   "source": [
    "# configure your environment\n",
    "\n",
    "# you can uncomment this code to make use of files stored in your Google Drive\n",
    "# from google.colab import drive\n",
    "# drive.mount('/content/drive')\n",
    "\n",
    "# you can uncomment the following line of code to use the pandas library\n",
    "# import pandas as pd"
   ]
  },
  {
   "cell_type": "markdown",
   "metadata": {
    "id": "VH4eGQyub8yQ"
   },
   "source": [
    "## Algorithm Workbench"
   ]
  },
  {
   "cell_type": "markdown",
   "metadata": {
    "id": "dBl7Q9AZcLMU"
   },
   "source": [
    "### Problem **4**\n",
    "\n",
    "#### Question Text\n",
    "\n",
    "Write a loop that counts the number of lowercase characters that appear in the string referenced by mystring.\n",
    "\n",
    "#### High-Level Overview\n",
    "\n",
    "I decided to write a main function to ask for the code and a function to count the lower case.  I started with the function to count the lowercase, it would import a string, and use a for loop to count the characters in the string, adding 1 for each iteration with a lower case number and returning the result.  Next I did the main function.  That function prompted for input, sent the input to the first function to calculate, and then printed the result.\n",
    "\n",
    "This went fairly quickly, I had a variable name entered incorrectly when using it at one point.  I called the variable number_lower result in the second instance it was used.\n"
   ]
  },
  {
   "cell_type": "code",
   "execution_count": 17,
   "metadata": {
    "id": "k4iGFPemb26z"
   },
   "outputs": [
    {
     "name": "stdout",
     "output_type": "stream",
     "text": [
      "Welcome to the lowercase letter counter\n"
     ]
    },
    {
     "name": "stdin",
     "output_type": "stream",
     "text": [
      "Please provide a text string to be assessed : Just testing to be sure this works.  I sure hope it does!  Otherwise I'm writing this string for nothing!\n"
     ]
    },
    {
     "name": "stdout",
     "output_type": "stream",
     "text": [
      "The number of lower case letters in your string is: 77\n"
     ]
    }
   ],
   "source": [
    "# add your code to this cell\n",
    "# remember to include comments like this one for most of your code\n",
    "# remember to \"Run cell\" once you're done, excecuting your code so the output is displayed below\n",
    "\n",
    "\n",
    "#Create the function lowcount to count lower case numbers\n",
    "def lowcount(mystring):\n",
    "    #create variable lower and give it a starting value of 0\n",
    "    lower = 0\n",
    "    #create the for loop that will count lower case characters, using += to add one each iteration containing a lower case\n",
    "    for char in mystring:\n",
    "            if char.islower():\n",
    "                lower += 1\n",
    "    #return the value of lower\n",
    "    return lower\n",
    "\n",
    "#Create the main function to prompt for a string, pass it to lowcount, and display the result\n",
    "def main():\n",
    "    #Welcome the user\n",
    "    print(\"Welcome to the lowercase letter counter\")\n",
    "    #Ask for a string to be created by the user and assign it to variable mystring\n",
    "    mystring = input(\"Please provide a text string to be assessed :\")\n",
    "    #Send mystring to the lowcount function, assigning the result to variable number_lower\n",
    "    number_lower = lowcount(mystring)\n",
    "    print(f\"The number of lower case letters in your string is: {number_lower}\")\n",
    "\n",
    "#call the main function\n",
    "if __name__ == \"__main__\":\n",
    "    main()"
   ]
  },
  {
   "cell_type": "markdown",
   "metadata": {
    "id": "o9xcij9hfq-5"
   },
   "source": [
    "### Problem **8**\n",
    "\n",
    "#### Question Text\n",
    "\n",
    "Assume mystring references a string. Write a statement that uses a slicing expression and displays the first 3 characters in the string.\n",
    "\n",
    "#### High-Level Overview\n",
    "\n",
    "*In two to three sentences at minimum, walk through your general approach to the problem and identify any particular issues you had.*"
   ]
  },
  {
   "cell_type": "code",
   "execution_count": null,
   "metadata": {
    "id": "ubgUdOUTl24X"
   },
   "outputs": [],
   "source": [
    "# add your code to this cell\n",
    "# remember to include comments like this one for most of your code\n",
    "# remember to \"Run cell\" once you're done, excecuting your code so the output is displayed below"
   ]
  },
  {
   "cell_type": "markdown",
   "metadata": {
    "id": "2b2z_elQf2qP"
   },
   "source": [
    "## Programming Exercises"
   ]
  },
  {
   "cell_type": "markdown",
   "metadata": {
    "id": "klCvdzHvf74V"
   },
   "source": [
    "### Problem **1 Initials**\n",
    "\n",
    "#### Question Text\n",
    "\n",
    "Write a program that gets a string containing a person’s first, middle, and last names, and displays their first, middle, and last initials. For example, if the user enters John William Smith, the program should display J. W. S.\n",
    "\n",
    "#### High-Level Overview\n",
    "\n",
    "*In two to three sentences at minimum, walk through your general approach to the problem and identify any particular issues you had.*\n"
   ]
  },
  {
   "cell_type": "code",
   "execution_count": null,
   "metadata": {
    "id": "iQooA6BWlvx5"
   },
   "outputs": [],
   "source": [
    "# add your code to this cell\n",
    "# remember to include comments like this one for most of your code\n",
    "# remember to \"Run cell\" once you're done, excecuting your code so the output is displayed below"
   ]
  },
  {
   "cell_type": "markdown",
   "metadata": {
    "id": "VxGugqDyxh_p"
   },
   "source": [
    "### Problem **4 Morse Code Converter**\n",
    "\n",
    "#### Question Text\n",
    "\n",
    "Morse code is a code where each letter of the English alphabet, each digit, and various punctuation characters are represented by a series of dots and dashes. Table 8-4 shows part of the code.\n",
    "\n",
    "Write a program that asks the user to enter a string, then converts that string to Morse code.\n",
    "\n",
    "#### High-Level Overview\n",
    "\n",
    "*In two to three sentences at minimum, walk through your general approach to the problem and identify any particular issues you had.*\n"
   ]
  },
  {
   "cell_type": "code",
   "execution_count": null,
   "metadata": {
    "id": "CCUIs3F5xhdd"
   },
   "outputs": [],
   "source": [
    "# add your code to this cell\n",
    "# remember to include comments like this one for most of your code\n",
    "# remember to \"Run cell\" once you're done, excecuting your code so the output is displayed below"
   ]
  },
  {
   "cell_type": "markdown",
   "metadata": {
    "id": "kqfebVBKxlKj"
   },
   "source": [
    "### Problem **8 Sentance Capitalizer**\n",
    "\n",
    "#### Question Text\n",
    "\n",
    "Write a program with a function that accepts a string as an argument and returns a copy of the string with the first character of each sentence capitalized. For instance, if the argument is “hello. my name is Joe. what is your name?” the function should return the string “Hello. My name is Joe. What is your name?” The program should let the user enter a string and then pass it to the function. The modified string should be displayed.\n",
    "\n",
    "#### High-Level Overview\n",
    "\n",
    "*In two to three sentences at minimum, walk through your general approach to the problem and identify any particular issues you had.*\n"
   ]
  },
  {
   "cell_type": "code",
   "execution_count": null,
   "metadata": {
    "id": "9yuG65pIxkQJ"
   },
   "outputs": [],
   "source": [
    "# add your code to this cell\n",
    "# remember to include comments like this one for most of your code\n",
    "# remember to \"Run cell\" once you're done, excecuting your code so the output is displayed below"
   ]
  },
  {
   "cell_type": "markdown",
   "metadata": {
    "id": "uMknY49Txpht"
   },
   "source": [
    "### Problem **10**\n",
    "\n",
    "#### Question Text\n",
    "\n",
    "Write a program that lets the user enter a string and displays the character that appears most frequently in the string.\n",
    "\n",
    "#### High-Level Overview\n",
    "\n",
    "*In two to three sentences at minimum, walk through your general approach to the problem and identify any particular issues you had.*\n"
   ]
  },
  {
   "cell_type": "code",
   "execution_count": null,
   "metadata": {
    "id": "UByfwHefxpPH"
   },
   "outputs": [],
   "source": [
    "# add your code to this cell\n",
    "# remember to include comments like this one for most of your code\n",
    "# remember to \"Run cell\" once you're done, excecuting your code so the output is displayed below"
   ]
  },
  {
   "cell_type": "markdown",
   "metadata": {
    "id": "NxsN1n6_yXlW"
   },
   "source": [
    "## Helpful Checks\n",
    "\n",
    "1.   Did you comment every line of code with meaningful information that will help others reading your code?\n",
    "2.   Did you use appropriate names for your variables, functions, and/or classes?\n",
    "3.   Did you include a high-level explanation for each solution?\n",
    "4.   Did you run each cell that includes a final solution so the output is saved and easily viewed by others?\n",
    "5.   Are you sharing an editable link (i.e., Share > Anyone with the link > Editor) if using Colaboratory, or did you make more than ten commits if using GitHub?\n",
    "6.   Did you remember to comment on the submissions of two other students?"
   ]
  },
  {
   "cell_type": "code",
   "execution_count": null,
   "metadata": {
    "id": "wxzLHFoJTksu"
   },
   "outputs": [],
   "source": []
  }
 ],
 "metadata": {
  "colab": {
   "include_colab_link": true,
   "provenance": []
  },
  "kernelspec": {
   "display_name": "Python [conda env:base] *",
   "language": "python",
   "name": "conda-base-py"
  },
  "language_info": {
   "codemirror_mode": {
    "name": "ipython",
    "version": 3
   },
   "file_extension": ".py",
   "mimetype": "text/x-python",
   "name": "python",
   "nbconvert_exporter": "python",
   "pygments_lexer": "ipython3",
   "version": "3.12.7"
  }
 },
 "nbformat": 4,
 "nbformat_minor": 4
}
