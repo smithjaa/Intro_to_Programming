{
 "cells": [
  {
   "cell_type": "markdown",
   "metadata": {
    "colab_type": "text",
    "id": "view-in-github"
   },
   "source": [
    "<a href=\"https://colab.research.google.com/github/smithjaa/Intro_to_Programming/blob/main/CodingSet7.ipynb\" target=\"_parent\"><img src=\"https://colab.research.google.com/assets/colab-badge.svg\" alt=\"Open In Colab\"/></a>"
   ]
  },
  {
   "cell_type": "markdown",
   "metadata": {
    "id": "V_9gU-dva4Xx"
   },
   "source": [
    "# Chapter **7** Coding Set\n",
    "\n",
    "Work completed by Jacob Smith.\n",
    "\n",
    "If you start to struggle with a problem for an extended period of time, remember you can go comment on two other submissions now (seeing other student work helps), or you can post in our discussion forum for questions, which can also earn you extra credit."
   ]
  },
  {
   "cell_type": "markdown",
   "metadata": {
    "id": "jW9S_3jcOdYt"
   },
   "source": [
    "## Imports\n",
    "\n",
    "**If your program requires additional modules, external resources, or files, use this cell to set them up**"
   ]
  },
  {
   "cell_type": "code",
   "execution_count": null,
   "metadata": {
    "id": "mYW-OioYOu3g"
   },
   "outputs": [],
   "source": [
    "# configure your environment\n",
    "\n",
    "# you can uncomment this code to make use of files stored in your Google Drive\n",
    "# from google.colab import drive\n",
    "# drive.mount('/content/drive')\n",
    "\n",
    "# you can uncomment the following line of code to use the pandas library\n",
    "# import pandas as pd"
   ]
  },
  {
   "cell_type": "markdown",
   "metadata": {
    "id": "VH4eGQyub8yQ"
   },
   "source": [
    "## Algorithm Workbench"
   ]
  },
  {
   "cell_type": "markdown",
   "metadata": {
    "id": "o9xcij9hfq-5"
   },
   "source": [
    "### Problem **5**\n",
    "\n",
    "#### Question Text\n",
    "\n",
    "Write a function that accepts a list as an argument (assume the list contains integers) and returns the total of the values in the list.\n",
    "\n",
    "#### High-Level Overview\n",
    "\n",
    "I first created the function, and then used a for loop that would iterate the list that was passed to it and add each item on the list adding them to the variable total.  Next the list would return the value of total.  Next I created a list of numbers (and called it numbers), then I called the function value_of_list; passing the list \"numbers\" to it and assigning the return value to \"result\".  Finally I printed the result."
   ]
  },
  {
   "cell_type": "code",
   "execution_count": 21,
   "metadata": {
    "id": "k4iGFPemb26z"
   },
   "outputs": [
    {
     "name": "stdout",
     "output_type": "stream",
     "text": [
      "The result is: 31\n"
     ]
    }
   ],
   "source": [
    "# add your code to this cell\n",
    "# remember to include comments like this one for most of your code\n",
    "# remember to \"Run cell\" once you're done, excecuting your code so the output is displayed below\n",
    "\n",
    "#create the list nums\n",
    "numbers = [1, 2, 3, 6, 7, 12]\n",
    "\n",
    "#create a function value_of_list \n",
    "def value_of_list(nums):\n",
    "    #make a variable \"total\"\n",
    "    total = 0\n",
    "    #for statement that iterates each number in the list nums\n",
    "    for number in nums:\n",
    "        total += number\n",
    "    return total\n",
    "\n",
    "#call the function value_of_list and assign the return to the variable \"result\"\n",
    "result = value_of_list(numbers)\n",
    "#print the result\n",
    "print(f\"The result is: {result}\")\n",
    "\n",
    "\n",
    "    "
   ]
  },
  {
   "cell_type": "markdown",
   "metadata": {
    "id": "o9xcij9hfq-5"
   },
   "source": [
    "### Problem **9**\n",
    "\n",
    "#### Question Text\n",
    "\n",
    "Assume list1 is a list of integers. Write a statement that uses a list comprehension to create a second list containing the elements of list1 that are greater than 100.\n",
    "\n",
    "#### High-Level Overview\n",
    "\n",
    "To start I wrote out a the list comprehension formatting \" list = [expression for item in iterable if condition] and tried to come up with the answer to problem 9 starting there.  Next I wrote out a list with data and printed the new list to check the results.  I had made an error in the formatting, and after checking chatgpt found that I missed the expression part of the comprehension list formula and corrected it.  I think I need to do a few more of these to become familliar with list comprehension."
   ]
  },
  {
   "cell_type": "code",
   "execution_count": 1,
   "metadata": {
    "id": "ubgUdOUTl24X"
   },
   "outputs": [
    {
     "name": "stdout",
     "output_type": "stream",
     "text": [
      "[103, 425, 259, 124, 612]\n"
     ]
    }
   ],
   "source": [
    "# add your code to this cell\n",
    "# remember to include comments like this one for most of your code\n",
    "# remember to \"Run cell\" once you're done, excecuting your code so the output is displayed below\n",
    "\n",
    "#make list1 to be sure my list works\n",
    "list1 = [103, 25, 425, 259, 124, 73, 32, 612] \n",
    "\n",
    "\n",
    "#create a new list using list comprehension, using all the items from list1 over 100\n",
    "over_100 = [num for num in list1 if num > 100]\n",
    "\n",
    "#print the new list\n",
    "print(over_100)"
   ]
  },
  {
   "cell_type": "markdown",
   "metadata": {
    "id": "2b2z_elQf2qP"
   },
   "source": [
    "## Programming Exercises"
   ]
  },
  {
   "cell_type": "markdown",
   "metadata": {
    "id": "klCvdzHvf74V"
   },
   "source": [
    "### Problem **1**\n",
    "\n",
    "#### Question Text\n",
    "Total Sales\n",
    "\n",
    "Design a program that asks the user to enter a store’s sales for each day of the week. The amounts should be stored in a list. Use a loop to calculate the total sales for the week and display the result.\n",
    "\n",
    "#### High-Level Overview\n",
    "\n",
    "In the beginning I created an empty list to track each sale, then a list for each day of the week to be used in the for loop.  Next I created the for loop to ask for sales each day.  Unfortunatley I made a mistake in creating the for loop, I referenced the empty loop instead of the daily loop and found this out in some early troubleshooting.  Next, I had an issue where instead of putting the dollar ammount for sales, I put the day of the week variable in, which created the new list with days of the week again rather than sales numbers.  Both of these were fairly easily fixed.  Next I created a variable for total sales and loop to calculate the total sales and display the result.\n"
   ]
  },
  {
   "cell_type": "code",
   "execution_count": 26,
   "metadata": {
    "id": "iQooA6BWlvx5"
   },
   "outputs": [
    {
     "name": "stdin",
     "output_type": "stream",
     "text": [
      "Please enter the daily sales for Sunday: $ 59.87\n",
      "Please enter the daily sales for Monday: $ 74.68\n",
      "Please enter the daily sales for Tuesday: $ 75.54\n",
      "Please enter the daily sales for Wednesday: $ 98.42\n",
      "Please enter the daily sales for Thursday: $ 75.55\n",
      "Please enter the daily sales for Friday: $ 78.31\n",
      "Please enter the daily sales for Saturday: $ 75.59\n"
     ]
    },
    {
     "name": "stdout",
     "output_type": "stream",
     "text": [
      "Your total sales for the week were: $537.96\n"
     ]
    }
   ],
   "source": [
    "# add your code to this cell\n",
    "# remember to include comments like this one for most of your code\n",
    "# remember to \"Run cell\" once you're done, excecuting your code so the output is displayed below\n",
    "\n",
    "#create a list to track each sale\n",
    "daily_sales = []\n",
    "#Create a variable for total sales\n",
    "total = 0\n",
    "\n",
    "#create a list for each day of the week, to ask for sales\n",
    "Days = [\"Sunday\", \"Monday\", \"Tuesday\", \"Wednesday\", \"Thursday\", \"Friday\", \"Saturday\"]\n",
    "\n",
    "#create a for loop asking for sales each day, adding them to the daily_sales list\n",
    "for n in Days:\n",
    "    sales = float(input(f\"Please enter the daily sales for {n}: $\"))\n",
    "    daily_sales.append(sales)\n",
    "\n",
    "#add up all of the entries in daily sales\n",
    "for sales in daily_sales:\n",
    "    total += sales\n",
    "\n",
    "#round the total because python gets funky with decimals\n",
    "total = round(total, 2)\n",
    "\n",
    "#Print the result\n",
    "print(f\"Your total sales for the week were: ${total}\")\n",
    "    \n",
    "#testing daily_sales to see if I updated it correctly\n",
    "#print(daily_sales)"
   ]
  },
  {
   "cell_type": "markdown",
   "metadata": {
    "id": "VxGugqDyxh_p"
   },
   "source": [
    "### Problem **14**\n",
    "\n",
    "#### Question Text\n",
    "\n",
    "Create a text file that contains your expenses for last month in the following categories:\n",
    "\n",
    "Rent\n",
    "\n",
    "Gas\n",
    "\n",
    "Food\n",
    "\n",
    "Clothing\n",
    "\n",
    "Car payment\n",
    "\n",
    "Misc\n",
    "\n",
    "Write a Python program that reads the data from the file and uses matplotlib to plot a pie chart showing how you spend your money.\n",
    "\n",
    "#### High-Level Overview\n",
    "\n",
    "*In two to three sentences at minimum, walk through your general approach to the problem and identify any particular issues you had.*\n"
   ]
  },
  {
   "cell_type": "code",
   "execution_count": null,
   "metadata": {
    "id": "CCUIs3F5xhdd"
   },
   "outputs": [],
   "source": [
    "# add your code to this cell\n",
    "# remember to include comments like this one for most of your code\n",
    "# remember to \"Run cell\" once you're done, excecuting your code so the output is displayed below"
   ]
  },
  {
   "cell_type": "markdown",
   "metadata": {
    "id": "kqfebVBKxlKj"
   },
   "source": [
    "### Problem **12**\n",
    "\n",
    "#### Question Text\n",
    "\n",
    "Prime Number Generation\n",
    "\n",
    "A positive integer greater than 1 is said to be prime if it has no divisors other than 1 and itself. A positive integer greater than 1 is composite if it is not prime. Write a program that asks the user to enter an integer greater than 1, then displays all of the prime numbers that are less than or equal to the number entered. The program should work as follows:\n",
    "\n",
    "Once the user has entered a number, the program should populate a list with all of the integers from 2 up through the value entered.\n",
    "\n",
    "The program should then use a loop to step through the list. The loop should pass each element to a function that displays whether the element is a prime number, or a composite number.\n",
    "\n",
    "#### High-Level Overview\n",
    "\n",
    "*In two to three sentences at minimum, walk through your general approach to the problem and identify any particular issues you had.*\n"
   ]
  },
  {
   "cell_type": "code",
   "execution_count": null,
   "metadata": {
    "id": "9yuG65pIxkQJ"
   },
   "outputs": [],
   "source": [
    "# add your code to this cell\n",
    "# remember to include comments like this one for most of your code\n",
    "# remember to \"Run cell\" once you're done, excecuting your code so the output is displayed below"
   ]
  },
  {
   "cell_type": "markdown",
   "metadata": {
    "id": "uMknY49Txpht"
   },
   "source": [
    "### Problem **3**\n",
    "\n",
    "#### Question Text\n",
    "Rainfall Statistics\n",
    "\n",
    "Design a program that lets the user enter the total rainfall for each of 12 months into a list. The program should calculate and display the total rainfall for the year, the average monthly rainfall, the months with the highest and lowest amounts.\n",
    "\n",
    "\n",
    "#### High-Level Overview\n",
    "\n",
    "*In two to three sentences at minimum, walk through your general approach to the problem and identify any particular issues you had.*\n"
   ]
  },
  {
   "cell_type": "code",
   "execution_count": null,
   "metadata": {
    "id": "UByfwHefxpPH"
   },
   "outputs": [],
   "source": [
    "# add your code to this cell\n",
    "# remember to include comments like this one for most of your code\n",
    "# remember to \"Run cell\" once you're done, excecuting your code so the output is displayed below"
   ]
  },
  {
   "cell_type": "markdown",
   "metadata": {
    "id": "NxsN1n6_yXlW"
   },
   "source": [
    "## Helpful Checks\n",
    "\n",
    "1.   Did you comment every line of code with meaningful information that will help others reading your code?\n",
    "2.   Did you use appropriate names for your variables, functions, and/or classes?\n",
    "3.   Did you include a high-level explanation for each solution?\n",
    "4.   Did you run each cell that includes a final solution so the output is saved and easily viewed by others?\n",
    "5.   Are you sharing an editable link (i.e., Share > Anyone with the link > Editor) if using Colaboratory, or did you make more than ten commits if using GitHub?\n",
    "6.   Did you remember to comment on the submissions of two other students?"
   ]
  },
  {
   "cell_type": "code",
   "execution_count": null,
   "metadata": {
    "id": "wxzLHFoJTksu"
   },
   "outputs": [],
   "source": []
  }
 ],
 "metadata": {
  "colab": {
   "include_colab_link": true,
   "provenance": []
  },
  "kernelspec": {
   "display_name": "Python [conda env:base] *",
   "language": "python",
   "name": "conda-base-py"
  },
  "language_info": {
   "codemirror_mode": {
    "name": "ipython",
    "version": 3
   },
   "file_extension": ".py",
   "mimetype": "text/x-python",
   "name": "python",
   "nbconvert_exporter": "python",
   "pygments_lexer": "ipython3",
   "version": "3.12.7"
  }
 },
 "nbformat": 4,
 "nbformat_minor": 4
}
