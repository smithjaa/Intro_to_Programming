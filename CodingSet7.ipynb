{
 "cells": [
  {
   "cell_type": "markdown",
   "metadata": {
    "colab_type": "text",
    "id": "view-in-github"
   },
   "source": [
    "<a href=\"https://colab.research.google.com/github/smithjaa/Intro_to_Programming/blob/main/CodingSet7.ipynb\" target=\"_parent\"><img src=\"https://colab.research.google.com/assets/colab-badge.svg\" alt=\"Open In Colab\"/></a>"
   ]
  },
  {
   "cell_type": "markdown",
   "metadata": {
    "id": "V_9gU-dva4Xx"
   },
   "source": [
    "# Chapter **7** Coding Set\n",
    "\n",
    "Work completed by Jacob Smith.\n",
    "\n",
    "If you start to struggle with a problem for an extended period of time, remember you can go comment on two other submissions now (seeing other student work helps), or you can post in our discussion forum for questions, which can also earn you extra credit."
   ]
  },
  {
   "cell_type": "markdown",
   "metadata": {
    "id": "jW9S_3jcOdYt"
   },
   "source": [
    "## Imports\n",
    "\n",
    "**If your program requires additional modules, external resources, or files, use this cell to set them up**"
   ]
  },
  {
   "cell_type": "code",
   "execution_count": null,
   "metadata": {
    "id": "mYW-OioYOu3g"
   },
   "outputs": [],
   "source": [
    "# configure your environment\n",
    "\n",
    "# you can uncomment this code to make use of files stored in your Google Drive\n",
    "# from google.colab import drive\n",
    "# drive.mount('/content/drive')\n",
    "\n",
    "# you can uncomment the following line of code to use the pandas library\n",
    "# import pandas as pd"
   ]
  },
  {
   "cell_type": "markdown",
   "metadata": {
    "id": "VH4eGQyub8yQ"
   },
   "source": [
    "## Algorithm Workbench"
   ]
  },
  {
   "cell_type": "markdown",
   "metadata": {
    "id": "o9xcij9hfq-5"
   },
   "source": [
    "### Problem **5**\n",
    "\n",
    "#### Question Text\n",
    "\n",
    "Write a function that accepts a list as an argument (assume the list contains integers) and returns the total of the values in the list.\n",
    "\n",
    "#### High-Level Overview\n",
    "\n",
    "I first created the function, and then used a for loop that would iterate the list that was passed to it and add each item on the list adding them to the variable total.  Next the list would return the value of total.  Next I created a list of numbers (and called it numbers), then I called the function value_of_list; passing the list \"numbers\" to it and assigning the return value to \"result\".  Finally I printed the result."
   ]
  },
  {
   "cell_type": "code",
   "execution_count": 21,
   "metadata": {
    "id": "k4iGFPemb26z"
   },
   "outputs": [
    {
     "name": "stdout",
     "output_type": "stream",
     "text": [
      "The result is: 31\n"
     ]
    }
   ],
   "source": [
    "# add your code to this cell\n",
    "# remember to include comments like this one for most of your code\n",
    "# remember to \"Run cell\" once you're done, excecuting your code so the output is displayed below\n",
    "\n",
    "#create the list nums\n",
    "numbers = [1, 2, 3, 6, 7, 12]\n",
    "\n",
    "#create a function value_of_list \n",
    "def value_of_list(nums):\n",
    "    #make a variable \"total\"\n",
    "    total = 0\n",
    "    #for statement that iterates each number in the list nums\n",
    "    for number in nums:\n",
    "        total += number\n",
    "    return total\n",
    "\n",
    "#call the function value_of_list and assign the return to the variable \"result\"\n",
    "result = value_of_list(numbers)\n",
    "#print the result\n",
    "print(f\"The result is: {result}\")\n",
    "\n",
    "\n",
    "    "
   ]
  },
  {
   "cell_type": "markdown",
   "metadata": {
    "id": "o9xcij9hfq-5"
   },
   "source": [
    "### Problem **9**\n",
    "\n",
    "#### Question Text\n",
    "\n",
    "Assume list1 is a list of integers. Write a statement that uses a list comprehension to create a second list containing the elements of list1 that are greater than 100.\n",
    "\n",
    "#### High-Level Overview\n",
    "\n",
    "To start I wrote out a the list comprehension formatting \" list = [expression for item in iterable if condition] and tried to come up with the answer to problem 9 starting there.  Next I wrote out a list with data and printed the new list to check the results.  I had made an error in the formatting, and after checking chatgpt found that I missed the expression part of the comprehension list formula and corrected it.  I think I need to do a few more of these to become familliar with list comprehension."
   ]
  },
  {
   "cell_type": "code",
   "execution_count": 1,
   "metadata": {
    "id": "ubgUdOUTl24X"
   },
   "outputs": [
    {
     "name": "stdout",
     "output_type": "stream",
     "text": [
      "[103, 425, 259, 124, 612]\n"
     ]
    }
   ],
   "source": [
    "# add your code to this cell\n",
    "# remember to include comments like this one for most of your code\n",
    "# remember to \"Run cell\" once you're done, excecuting your code so the output is displayed below\n",
    "\n",
    "#make list1 to be sure my list works\n",
    "list1 = [103, 25, 425, 259, 124, 73, 32, 612] \n",
    "\n",
    "\n",
    "#create a new list using list comprehension, using all the items from list1 over 100\n",
    "over_100 = [num for num in list1 if num > 100]\n",
    "\n",
    "#print the new list\n",
    "print(over_100)"
   ]
  },
  {
   "cell_type": "markdown",
   "metadata": {
    "id": "2b2z_elQf2qP"
   },
   "source": [
    "## Programming Exercises"
   ]
  },
  {
   "cell_type": "markdown",
   "metadata": {
    "id": "klCvdzHvf74V"
   },
   "source": [
    "### Problem **1**\n",
    "\n",
    "#### Question Text\n",
    "Total Sales\n",
    "\n",
    "Design a program that asks the user to enter a store’s sales for each day of the week. The amounts should be stored in a list. Use a loop to calculate the total sales for the week and display the result.\n",
    "\n",
    "#### High-Level Overview\n",
    "\n",
    "In the beginning I created an empty list to track each sale, then a list for each day of the week to be used in the for loop.  Next I created the for loop to ask for sales each day.  Unfortunatley I made a mistake in creating the for loop, I referenced the empty loop instead of the daily loop and found this out in some early troubleshooting.  Next, I had an issue where instead of putting the dollar ammount for sales, I put the day of the week variable in, which created the new list with days of the week again rather than sales numbers.  Both of these were fairly easily fixed.  Next I created a variable for total sales and loop to calculate the total sales and display the result.\n"
   ]
  },
  {
   "cell_type": "code",
   "execution_count": 26,
   "metadata": {
    "id": "iQooA6BWlvx5"
   },
   "outputs": [
    {
     "name": "stdin",
     "output_type": "stream",
     "text": [
      "Please enter the daily sales for Sunday: $ 59.87\n",
      "Please enter the daily sales for Monday: $ 74.68\n",
      "Please enter the daily sales for Tuesday: $ 75.54\n",
      "Please enter the daily sales for Wednesday: $ 98.42\n",
      "Please enter the daily sales for Thursday: $ 75.55\n",
      "Please enter the daily sales for Friday: $ 78.31\n",
      "Please enter the daily sales for Saturday: $ 75.59\n"
     ]
    },
    {
     "name": "stdout",
     "output_type": "stream",
     "text": [
      "Your total sales for the week were: $537.96\n"
     ]
    }
   ],
   "source": [
    "# add your code to this cell\n",
    "# remember to include comments like this one for most of your code\n",
    "# remember to \"Run cell\" once you're done, excecuting your code so the output is displayed below\n",
    "\n",
    "#create a list to track each sale\n",
    "daily_sales = []\n",
    "#Create a variable for total sales\n",
    "total = 0\n",
    "\n",
    "#create a list for each day of the week, to ask for sales\n",
    "Days = [\"Sunday\", \"Monday\", \"Tuesday\", \"Wednesday\", \"Thursday\", \"Friday\", \"Saturday\"]\n",
    "\n",
    "#create a for loop asking for sales each day, adding them to the daily_sales list\n",
    "for n in Days:\n",
    "    sales = float(input(f\"Please enter the daily sales for {n}: $\"))\n",
    "    daily_sales.append(sales)\n",
    "\n",
    "#add up all of the entries in daily sales\n",
    "for sales in daily_sales:\n",
    "    total += sales\n",
    "\n",
    "#round the total because python gets funky with decimals\n",
    "total = round(total, 2)\n",
    "\n",
    "#Print the result\n",
    "print(f\"Your total sales for the week were: ${total}\")\n",
    "    \n",
    "#testing daily_sales to see if I updated it correctly\n",
    "#print(daily_sales)"
   ]
  },
  {
   "cell_type": "markdown",
   "metadata": {
    "id": "VxGugqDyxh_p"
   },
   "source": [
    "### Problem **14**\n",
    "\n",
    "#### Question Text\n",
    "\n",
    "Create a text file that contains your expenses for last month in the following categories:\n",
    "\n",
    "*Rent\n",
    "\n",
    "*Gas\n",
    "\n",
    "*Food\n",
    "\n",
    "*Clothing\n",
    "\n",
    "*Car payment\n",
    "\n",
    "*Misc\n",
    "\n",
    "Write a Python program that reads the data from the file and uses matplotlib to plot a pie chart showing how you spend your money.\n",
    "\n",
    "#### High-Level Overview\n",
    "\n",
    "I did this along with the walkthrough video.  We started by creating a text file named expenses.txt and entered numbers to populate the list \"expenses\". During the process we had to reformat the values in the list to ensure that the matplot lib would have access to numerical values.  We then followed the example in the text that showed how to use matplotlib.pyplot to create a pie chart.  Next we iterated until the chart was looking good.\n"
   ]
  },
  {
   "cell_type": "code",
   "execution_count": 2,
   "metadata": {
    "id": "CCUIs3F5xhdd"
   },
   "outputs": [
    {
     "data": {
      "image/png": "[encoded data removed]",
      "text/plain": [
       "<Figure size 640x480 with 1 Axes>"
      ]
     },
     "metadata": {},
     "output_type": "display_data"
    }
   ],
   "source": [
    "# add your code to this cell\n",
    "# remember to include comments like this one for most of your code\n",
    "# remember to \"Run cell\" once you're done, excecuting your code so the output is displayed below\n",
    "\n",
    "#import matplotlib as plt, following the community conventions\n",
    "import matplotlib.pyplot as plt\n",
    "\n",
    "\n",
    "#main function for running this code\n",
    "def main():\n",
    "    #try opening my expenses file\n",
    "    with open (\"expenses.txt\") as expenses_file:\n",
    "        #create a list using the expenses within the file\n",
    "        expenses = expenses_file.readlines()\n",
    "        # for loop through all expenses\n",
    "        for i in range(len(expenses)):\n",
    "            #remove the newline character from the end of the expense\n",
    "            expenses[i] = expenses[i].strip()\n",
    "        #create list for pie slice labels\n",
    "        slice_labels = ['Rent', 'Gas', 'Food', 'Clothing', 'Car Payment', 'Misc']\n",
    "        # set up pie chart\n",
    "        plt.pie(expenses, labels=slice_labels)\n",
    "        # create a pie chart title\n",
    "        plt.title(\"My Expenses for Last Month\")\n",
    "        #show the pie chart\n",
    "        plt.show()\n",
    "            \n",
    "#call the main function if this is main script\n",
    "if __name__ == \"__main__\":\n",
    "    main()"
   ]
  },
  {
   "cell_type": "markdown",
   "metadata": {
    "id": "kqfebVBKxlKj"
   },
   "source": [
    "### Problem **12**\n",
    "\n",
    "#### Question Text\n",
    "\n",
    "Prime Number Generation\n",
    "\n",
    "A positive integer greater than 1 is said to be prime if it has no divisors other than 1 and itself. A positive integer greater than 1 is composite if it is not prime. Write a program that asks the user to enter an integer greater than 1, then displays all of the prime numbers that are less than or equal to the number entered. The program should work as follows:\n",
    "\n",
    "Once the user has entered a number, the program should populate a list with all of the integers from 2 up through the value entered.\n",
    "\n",
    "The program should then use a loop to step through the list. The loop should pass each element to a function that displays whether the element is a prime number, or a composite number.\n",
    "\n",
    "#### High-Level Overview\n",
    "\n",
    "This problem took me some time.  Eventually I set up a main function to ask for a number, turn that number into a list of all the numbers that make up other than one, and then run the number through a check process.  Initially I overly complicated turning the numbers into a list, rather than using the list function.  Next I made a function to determine a prime number, and return the value True if it was.  After that (maybe in an imporper order) I made a number checking function that would send each number given to the checker and print out if the number returned true.  \n",
    "\n",
    "I wish I could go into detail on all of the mistakes I made here, but there was a good deal of time spent in reiterating.  I like the final output, it's in code that I can understand when going back through without much difficulty.  I know that this way of determining a prime number is a bit simplified and inneficient, but am happy with how it works.  I'll use the square root method of mathematicians and efficiency gurus next time... probably.\n"
   ]
  },
  {
   "cell_type": "code",
   "execution_count": 22,
   "metadata": {
    "id": "9yuG65pIxkQJ"
   },
   "outputs": [
    {
     "name": "stdout",
     "output_type": "stream",
     "text": [
      "Welcome to the Prime number Generator\n"
     ]
    },
    {
     "name": "stdin",
     "output_type": "stream",
     "text": [
      "Please enter a number greater than 1:  24\n"
     ]
    },
    {
     "name": "stdout",
     "output_type": "stream",
     "text": [
      "2 is a prime number.\n",
      "3 is a prime number.\n",
      "5 is a prime number.\n",
      "7 is a prime number.\n",
      "11 is a prime number.\n",
      "13 is a prime number.\n",
      "17 is a prime number.\n",
      "19 is a prime number.\n",
      "23 is a prime number.\n"
     ]
    }
   ],
   "source": [
    "# add your code to this cell\n",
    "# remember to include comments like this one for most of your code\n",
    "# remember to \"Run cell\" once you're done, excecuting your code so the output is displayed below\n",
    "\n",
    "#define the main function for running this code\n",
    "def main():\n",
    "    print(\"Welcome to the Prime number Generator\")\n",
    "    #ask the user for a number\n",
    "    user_number = int(input(\"Please enter a number greater than 1: \"))\n",
    "    \n",
    "    #create a list of numbers from 2 to user_number\n",
    "    num_list = list(range(2, user_number +1))\n",
    "\n",
    "    #for loop to check each number for prime status\n",
    "    for num in num_list:\n",
    "        check_number(num)\n",
    "                    \n",
    "\n",
    "def is_prime(num):\n",
    "    #This is just in case but numbers less than 2 should not be entered\n",
    "    if num < 2:\n",
    "        return False\n",
    "    #check for a remainder to determine if the number is prime\n",
    "    for i in range(2, num - 1):\n",
    "        if num % i == 0:\n",
    "            return False\n",
    "    return True\n",
    "\n",
    "def check_number(num):\n",
    "    if is_prime(num):\n",
    "        print(f\"{num} is a prime number.\")\n",
    "    #The following will display composite numbers if needed\n",
    "    #else:\n",
    "        #print(f\"{num} is a composite number.\")\n",
    "    \n",
    "\n",
    "\n",
    "#call the main function if this is the main script\n",
    "if __name__ == \"__main__\":\n",
    "    main()"
   ]
  },
  {
   "cell_type": "markdown",
   "metadata": {
    "id": "uMknY49Txpht"
   },
   "source": [
    "### Problem **3**\n",
    "\n",
    "#### Question Text\n",
    "Rainfall Statistics\n",
    "\n",
    "Design a program that lets the user enter the total rainfall for each of 12 months into a list. The program should calculate and display the total rainfall for the year, the average monthly rainfall, the months with the highest and lowest amounts.\n",
    "\n",
    "\n",
    "#### High-Level Overview\n",
    "\n",
    "This code has gone more smoothly than others I had written today.  I was able to use a similar code to what I wrote in problem 5.  I even moved my for statement requesting data down.  In any case, I created a list of months, and used that to create a for loop asking for data for each month.  I made another list with that data.  Then I used the data list to complete all of the math required for the question... the total, average and the high and low ammounts.  The min and max numbers were the most challenging part for me, I used the min and max functions to determine the high and low rainfall, and then use those numbers to index the months for the highs and lows.\n"
   ]
  },
  {
   "cell_type": "code",
   "execution_count": 49,
   "metadata": {
    "id": "UByfwHefxpPH"
   },
   "outputs": [
    {
     "name": "stdin",
     "output_type": "stream",
     "text": [
      "Please enter the total rainfall for January 12\n",
      "Please enter the total rainfall for Febuary 23\n",
      "Please enter the total rainfall for March 20\n",
      "Please enter the total rainfall for April 19\n",
      "Please enter the total rainfall for May 24\n",
      "Please enter the total rainfall for June 11\n",
      "Please enter the total rainfall for July 16\n",
      "Please enter the total rainfall for August 21\n",
      "Please enter the total rainfall for September 9\n",
      "Please enter the total rainfall for October 15\n",
      "Please enter the total rainfall for November 18\n",
      "Please enter the total rainfall for December 28\n"
     ]
    },
    {
     "name": "stdout",
     "output_type": "stream",
     "text": [
      "The total rainfall of the year was 216.0 inches\n",
      "The average rainfall of the year was 18.0 inches per year\n",
      "The month with the highest rainfall was December with 28.0 inches\n",
      "The month with the lowest rainfall was September with 9.0 inches\n"
     ]
    }
   ],
   "source": [
    "# add your code to this cell\n",
    "# remember to include comments like this one for most of your code\n",
    "# remember to \"Run cell\" once you're done, excecuting your code so the output is displayed below\n",
    "\n",
    "#create a list of the 12 months, a list of rainfall that is not populated\n",
    "months = ['January', 'Febuary', 'March', 'April', 'May', 'June', 'July', 'August', 'September', 'October', 'November', 'December']\n",
    "rainfall_list = []\n",
    "\n",
    "\n",
    "def main():\n",
    "    #create variables for the results needed to satisfy the question\n",
    "    total = 0\n",
    "    \n",
    "    #copied the code (3 lines) from problem 1 and editing it, as it's very similar\n",
    "    #This code is asking the user for total rainfall for each month\n",
    "    for n in months:\n",
    "        rain = float(input(f\"Please enter the total rainfall for {n}\"))\n",
    "        rainfall_list.append(rain)\n",
    "    \n",
    "    #Display total rainfall\n",
    "    for n in rainfall_list:\n",
    "        total += n\n",
    "    print (f\"The total rainfall of the year was {total} inches\")\n",
    "    \n",
    "    #determine average monthly rainfall\n",
    "    average = round((total / 12), 2)\n",
    "    print (f\"The average rainfall of the year was {average} inches per year\")\n",
    "    \n",
    "    #determine the highest ammount of rain\n",
    "    highest = max(rainfall_list)\n",
    "    #use the highest number to reference the month with the highest rainfall\n",
    "    highest_month = months[rainfall_list.index(highest)]\n",
    "    print(f\"The month with the highest rainfall was {highest_month} with {highest} inches\")\n",
    "\n",
    "    #determine the lowest ammount of rain\n",
    "    lowest = min(rainfall_list)\n",
    "    #use the lowest number to reference the month with the lowest rainfall\n",
    "    lowest_month = months[rainfall_list.index(lowest)]\n",
    "    print(f\"The month with the lowest rainfall was {lowest_month} with {lowest} inches\")\n",
    "\n",
    "\n",
    "\n",
    "\n",
    "\n",
    "\n",
    "\n",
    "if __name__ == \"__main__\":\n",
    "    main()\n",
    "\n",
    "#print (rainfall_list)"
   ]
  },
  {
   "cell_type": "markdown",
   "metadata": {
    "id": "NxsN1n6_yXlW"
   },
   "source": [
    "## Helpful Checks\n",
    "\n",
    "1.   Did you comment every line of code with meaningful information that will help others reading your code?\n",
    "2.   Did you use appropriate names for your variables, functions, and/or classes?\n",
    "3.   Did you include a high-level explanation for each solution?\n",
    "4.   Did you run each cell that includes a final solution so the output is saved and easily viewed by others?\n",
    "5.   Are you sharing an editable link (i.e., Share > Anyone with the link > Editor) if using Colaboratory, or did you make more than ten commits if using GitHub?\n",
    "6.   Did you remember to comment on the submissions of two other students?"
   ]
  },
  {
   "cell_type": "code",
   "execution_count": null,
   "metadata": {
    "id": "wxzLHFoJTksu"
   },
   "outputs": [],
   "source": []
  }
 ],
 "metadata": {
  "colab": {
   "include_colab_link": true,
   "provenance": []
  },
  "kernelspec": {
   "display_name": "Python [conda env:base] *",
   "language": "python",
   "name": "conda-base-py"
  },
  "language_info": {
   "codemirror_mode": {
    "name": "ipython",
    "version": 3
   },
   "file_extension": ".py",
   "mimetype": "text/x-python",
   "name": "python",
   "nbconvert_exporter": "python",
   "pygments_lexer": "ipython3",
   "version": "3.12.7"
  }
 },
 "nbformat": 4,
 "nbformat_minor": 4
}
