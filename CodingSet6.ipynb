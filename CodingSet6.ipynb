{
 "cells": [
  {
   "cell_type": "markdown",
   "metadata": {
    "colab_type": "text",
    "id": "view-in-github"
   },
   "source": [
    "<a href=\"https://colab.research.google.com/github/smithjaa/Intro_to_Programming/blob/main/CodingSet6.ipynb\" target=\"_parent\"><img src=\"https://colab.research.google.com/assets/colab-badge.svg\" alt=\"Open In Colab\"/></a>"
   ]
  },
  {
   "cell_type": "markdown",
   "metadata": {
    "id": "V_9gU-dva4Xx"
   },
   "source": [
    "# Chapter **6** Coding Set\n",
    "\n",
    "**Remember to save a copy of this template BEFORE YOU START WORKING :)**\n",
    "\n",
    "Work completed by [Jacob Smith].\n",
    "\n",
    "If you start to struggle with a problem for an extended period of time, remember you can go comment on two other submissions now (seeing other student work helps), or you can post in our discussion forum for questions, which can also earn you extra credit."
   ]
  },
  {
   "cell_type": "markdown",
   "metadata": {
    "id": "jW9S_3jcOdYt"
   },
   "source": [
    "## Imports\n",
    "\n",
    "**If your program requires additional modules, external resources, or files, use this cell to set them up**"
   ]
  },
  {
   "cell_type": "code",
   "execution_count": null,
   "metadata": {
    "id": "mYW-OioYOu3g"
   },
   "outputs": [],
   "source": [
    "# configure your environment\n",
    "\n",
    "# you can uncomment this code to make use of files stored in your Google Drive\n",
    "# from google.colab import drive\n",
    "# drive.mount('/content/drive')\n",
    "\n",
    "# you can uncomment the following line of code to use the pandas library\n",
    "# import pandas as pd"
   ]
  },
  {
   "cell_type": "markdown",
   "metadata": {
    "id": "VH4eGQyub8yQ"
   },
   "source": [
    "## Algorithm Workbench"
   ]
  },
  {
   "cell_type": "markdown",
   "metadata": {
    "id": "dBl7Q9AZcLMU"
   },
   "source": [
    "### Problem **2**\n",
    "\n",
    "#### Question Text\n",
    "\n",
    "Write a program that opens the my_name.txt file that was created by the program in problem 1, reads your name from the file, displays the name on the screen, then closes the file.\n",
    "\n",
    "#### High-Level Overview\n",
    "\n",
    "Since I did not do question 1, I created a .txt file with my name on it and placed it in my working directory. I opened the file myname.txt, assigned it to a variable.  Next I read the contents of the file, finally I printed the contents and closed the file.  I ran into an error with this because creating the .txt file to use, I left it open, and did not save it.  After excessive troubleshooting I realized this and corrected the error.\n"
   ]
  },
  {
   "cell_type": "code",
   "execution_count": 55,
   "metadata": {
    "id": "k4iGFPemb26z"
   },
   "outputs": [
    {
     "name": "stdout",
     "output_type": "stream",
     "text": [
      "1) Jacob Smith\n"
     ]
    }
   ],
   "source": [
    "# add your code to this cell\n",
    "# remember to include comments like this one for most of your code\n",
    "# remember to \"Run cell\" once you're done, excecuting your code so the output is displayed below\n",
    "\n",
    "#Created my_name.txt in this folder\n",
    "#Decided to do one project without the with statement to get a feel for it\n",
    "\n",
    "#Open my_name as f and readable\n",
    "f = open('my_name.txt', 'r')\n",
    "\n",
    "#read f\n",
    "name = f.read()\n",
    "\n",
    "#print\n",
    "print (name)\n",
    "\n",
    "#close the file\n",
    "f.close()"
   ]
  },
  {
   "cell_type": "markdown",
   "metadata": {
    "id": "o9xcij9hfq-5"
   },
   "source": [
    "### Problem **7**\n",
    "\n",
    "#### Question Text\n",
    "\n",
    "A file exists on the disk named students.txt. The file contains several records, and each record contains two fields: (1) the student’s name, and (2) the student’s score for the final exam. Write code that deletes the record containing “John Perz” as the student name.\n",
    "\n",
    "#### High-Level Overview\n",
    "\n",
    "I decided to add to my work and learn a bit in the process by creating the file \"students.txt\" within the program.  I ran into several formatting errors along the way.  In the second block of code, I had issues because I did not read the file lines properly, so when I went to do a for loop later the variable was empty so wrote a blank file.  \n",
    "\n",
    "Anyway, the code is simple, but there are a lot of new small details I'll have to spend some time with to become more familliar.  After writing the text file, I opened it and saved the lines to a variable \"lines\" then read and printed it to show that the name John Parz exists.  Next the file is opened in write mode (clearing it) and ran a for loop.  This for loop reads each line looking for \"John Perz\", if the name is not present, the code will put the line back in the document.  If the name is present it gets ignored.  This satisfies the requirement of deleting the name.\n",
    "\n",
    "Finally I printed the file contents showing that the correct name has been deleted."
   ]
  },
  {
   "cell_type": "code",
   "execution_count": 80,
   "metadata": {
    "id": "ubgUdOUTl24X"
   },
   "outputs": [
    {
     "name": "stdout",
     "output_type": "stream",
     "text": [
      "['Jacob Smith, 100%\\n', 'Bill Bob, 78%\\n', 'John Perz, 75%\\n', 'Alex Henderson, 87%\\n', 'Super Man, 68%\\n', 'Josh Josherson, 90%\\n'] \n",
      "\n",
      "Jacob Smith, 100%\n",
      "Bill Bob, 78%\n",
      "Alex Henderson, 87%\n",
      "Super Man, 68%\n",
      "Josh Josherson, 90%\n",
      "\n"
     ]
    }
   ],
   "source": [
    "# add your code to this cell\n",
    "# remember to include comments like this one for most of your code\n",
    "# remember to \"Run cell\" once you're done, excecuting your code so the output is displayed below\n",
    "\n",
    "#Create a file with names and scores on it\n",
    "with open(\"students.txt\", 'w') as score:\n",
    "    score.write(\"Jacob Smith, 100%\\n\")\n",
    "    score.write(\"Bill Bob, 78%\\n\")\n",
    "    score.write(\"John Perz, 75%\\n\")\n",
    "    score.write(\"Alex Henderson, 87%\\n\")\n",
    "    score.write(\"Super Man, 68%\\n\")\n",
    "    score.write(\"Josh Josherson, 90%\\n\")\n",
    "\n",
    "#Open, read, and print the file to show it contains John Perz\n",
    "with open(\"students.txt\", 'r') as score:\n",
    "    #read the lines from the file students.txt, store as variable \"lines\"\n",
    "    lines = score.readlines()\n",
    "    #print the file to show it's containing John Perz\n",
    "    print(lines, \"\\n\")\n",
    "\n",
    "#Open the file in write mode, deleting the file\n",
    "with open(\"students.txt\", 'w') as score:\n",
    "    #Create for loop running through each line in \"lines\", name variable \"line\"\n",
    "    for line in lines:\n",
    "        #Check if \"John Perz\" is in the line, and write the line if the name is not present\n",
    "        if \"John Perz\" not in line:\n",
    "            score.write(line)\n",
    "\n",
    "\n",
    "#open, read and print the file\n",
    "with open(\"students.txt\", 'r') as score:\n",
    "   print(score.read())\n",
    "    \n",
    "    \n"
   ]
  },
  {
   "cell_type": "markdown",
   "metadata": {
    "id": "2b2z_elQf2qP"
   },
   "source": [
    "## Programming Exercises"
   ]
  },
  {
   "cell_type": "markdown",
   "metadata": {
    "id": "klCvdzHvf74V"
   },
   "source": [
    "### Problem **1. File Display**\n",
    " Assume a file containing a series of integers is named numbers.txt and exists on the computer’s disk. Write a program that displays all of the numbers in the file.\n",
    "#### Question Text\n",
    "\n",
    "*Paste in the question text below.*\n",
    "\n",
    "#### High-Level Overview\n",
    "\n",
    "This problem gave me more trouble than any other I have done due to a small error on my part.  When creating the text file to be used by the program, I named it numbers.txt... which windows named numbers.txt.txt.  After correcting this it was a snap.  I created a function named display_numbers set to import a variable.  Next I used a with statement to open the file, after that I used a for loop to print each line individually, using the .strip() method to remove any blank spaces in the line.\n"
   ]
  },
  {
   "cell_type": "code",
   "execution_count": 20,
   "metadata": {
    "id": "iQooA6BWlvx5"
   },
   "outputs": [
    {
     "name": "stdout",
     "output_type": "stream",
     "text": [
      "657\n",
      "23\n",
      "789\n",
      "498\n",
      "54\n",
      "987\n",
      "234\n",
      "4\n",
      "41\n",
      "456\n"
     ]
    }
   ],
   "source": [
    "# add your code to this cell\n",
    "# remember to include comments like this one for most of your code\n",
    "# remember to \"Run cell\" once you're done, excecuting your code so the output is displayed below\n",
    "\n",
    "#created a file that contains a series of integers on local disk called numbers.txt\n",
    "\n",
    "#Create a function that will display numbers in a file\n",
    "def display_numbers(filename):\n",
    "    #Open the imported file, readable mode, and \n",
    "    with open(filename, 'r') as file:\n",
    "        #For loop for each line in file \n",
    "        for line in file:\n",
    "            number = (line.strip())\n",
    "            print (number)\n",
    "\n",
    "display_numbers(\"numbers.txt\")"
   ]
  },
  {
   "cell_type": "markdown",
   "metadata": {
    "id": "VxGugqDyxh_p"
   },
   "source": [
    "### Problem **6. Average of Numbers**\n",
    "\n",
    "#### Question Text\n",
    "\n",
    "Assume a file containing a series of integers is named numbers.txt and exists on the computer’s disk. Write a program that calculates the average of all the numbers stored in the file.\n",
    "\n",
    "#### High-Level Overview\n",
    "\n",
    "This problem was a nice change for me.  I made few(er) mistakes than I have for the rest of this coding set, and could do most of the work from memory.  First I created all of the variables I knew I'd need to do the math.  Next I opened the file numbers.txt as readable.  After that I did a for loop, adding a count to n each time the loop is run, and converted each line's value to a float, and added it to the variable total.  Finally, I did the math to come up with the average and printed the result.\n"
   ]
  },
  {
   "cell_type": "code",
   "execution_count": 57,
   "metadata": {
    "id": "CCUIs3F5xhdd"
   },
   "outputs": [
    {
     "name": "stdout",
     "output_type": "stream",
     "text": [
      "The average is: 374.3\n"
     ]
    }
   ],
   "source": [
    "# add your code to this cell\n",
    "# remember to include comments like this one for most of your code\n",
    "# remember to \"Run cell\" once you're done, excecuting your code so the output is displayed below\n",
    "\n",
    "#Create a variable for average, count, n \n",
    "average = 0\n",
    "total = 0\n",
    "n = 0\n",
    "\n",
    "#open the file \n",
    "with open(\"numbers.txt\", 'r') as file:\n",
    "    #use a for statement to go through each line, converting the number to a float, adding it to Total, and adding a count to n\n",
    "    for line in file:\n",
    "        total += float(line.strip())\n",
    "        n += 1\n",
    "\n",
    "#do the math for average\n",
    "average = (total)/(n)\n",
    "\n",
    "#print the average\n",
    "\n",
    "print(f\"The average is: {average}\")"
   ]
  },
  {
   "cell_type": "markdown",
   "metadata": {
    "id": "kqfebVBKxlKj"
   },
   "source": [
    "### Problem **9. Exception Handling**\n",
    "\n",
    "#### Question Text\n",
    "\n",
    "Modify the program that you wrote for Exercise 6 so it handles the following exceptions:\n",
    "\n",
    "It should handle any IOError exceptions that are raised when the file is opened and data is read from it.\n",
    "\n",
    "It should handle any ValueError exceptions that are raised when the items that are read from the file are converted to a number.\n",
    "\n",
    "#### High-Level Overview\n",
    "\n",
    "In this exercise I added some indentation and two try/except statements.  The first try except statement I used was IOError, and I had an issue in that I did not include all of the parts of the program that needed to be within the exception (being the entire program, almost).  Finally I added a try/except statement surrounding the lines of code that involved reading numbers from the test and converting them into float numbers.\n",
    "\n",
    "I tested this two ways.  First I renamed the file numbers.txt so that the program could not find it, and it triggered the IOError.  Next I entered ranom letters to a line in the text, and this triggered the ValueError exception."
   ]
  },
  {
   "cell_type": "code",
   "execution_count": 62,
   "metadata": {
    "id": "9yuG65pIxkQJ"
   },
   "outputs": [
    {
     "name": "stdout",
     "output_type": "stream",
     "text": [
      "The average is: 374.3\n"
     ]
    }
   ],
   "source": [
    "# add your code to this cell\n",
    "# remember to include comments like this one for most of your code\n",
    "# remember to \"Run cell\" once you're done, excecuting your code so the output is displayed below\n",
    "\n",
    "#Create a variable for average, count, n \n",
    "average = 0\n",
    "total = 0\n",
    "n = 0\n",
    "\n",
    "#Add a try/except statement\n",
    "try:\n",
    "    #open the file \n",
    "    with open(\"numbers.txt\", 'r') as file:\n",
    "        #use a for statement to go through each line, converting the number to an int, adding it to Total, and adding a count to n\n",
    "        for line in file:\n",
    "            #use a try/except statement for value-error\n",
    "            try:\n",
    "                total += float(line.strip())\n",
    "                n += 1\n",
    "            #ValueError that will inform the user that there is a value that can not be converted\n",
    "            except ValueError:\n",
    "                print(f\"Could not convert the following line to a usable number: {line.strip()}\")\n",
    "    #do the math for average\n",
    "    average = (total)/(n)\n",
    "\n",
    "    #print the average\n",
    "\n",
    "    print(f\"The average is: {average}\")\n",
    "    \n",
    "#IOError that will inform the user when there is an issue with the source file\n",
    "except IOError:\n",
    "    print (\"An error occurred while trying to read this file\")"
   ]
  },
  {
   "cell_type": "markdown",
   "metadata": {
    "id": "uMknY49Txpht"
   },
   "source": [
    "### Problem **10. Golf Scores**\n",
    "\n",
    "#### Question Text\n",
    "The Springfork Amateur Golf Club has a tournament every weekend. The club president has asked you to write two programs:\n",
    "\n",
    "A program that will read each player’s name and golf score as keyboard input, then save these as records in a file named golf.txt. (Each record will have a field for the player’s name and a field for the player’s score.)\n",
    "\n",
    "A program that reads the records from the golf.txt file and displays them.\n",
    "\n",
    "#### High-Level Overview\n",
    "\n",
    "*In two to three sentences at minimum, walk through your general approach to the problem and identify any particular issues you had.*\n"
   ]
  },
  {
   "cell_type": "code",
   "execution_count": null,
   "metadata": {
    "id": "UByfwHefxpPH"
   },
   "outputs": [],
   "source": [
    "# add your code to this cell\n",
    "# remember to include comments like this one for most of your code\n",
    "# remember to \"Run cell\" once you're done, excecuting your code so the output is displayed below\n",
    "\n",
    "#10 part 1 (part 2 is below)"
   ]
  },
  {
   "cell_type": "code",
   "execution_count": null,
   "metadata": {},
   "outputs": [],
   "source": [
    "# add your code to this cell\n",
    "# remember to include comments like this one for most of your code\n",
    "# remember to \"Run cell\" once you're done, excecuting your code so the output is displayed below"
   ]
  },
  {
   "cell_type": "markdown",
   "metadata": {
    "id": "NxsN1n6_yXlW"
   },
   "source": [
    "## Helpful Checks\n",
    "\n",
    "1.   Did you comment every line of code with meaningful information that will help others reading your code?\n",
    "2.   Did you use appropriate names for your variables, functions, and/or classes?\n",
    "3.   Did you include a high-level explanation for each solution?\n",
    "4.   Did you run each cell that includes a final solution so the output is saved and easily viewed by others?\n",
    "5.   Are you sharing an editable link (i.e., Share > Anyone with the link > Editor) if using Colaboratory, or did you make more than ten commits if using GitHub?\n",
    "6.   Did you remember to comment on the submissions of two other students?"
   ]
  },
  {
   "cell_type": "code",
   "execution_count": null,
   "metadata": {
    "id": "wxzLHFoJTksu"
   },
   "outputs": [],
   "source": []
  }
 ],
 "metadata": {
  "colab": {
   "include_colab_link": true,
   "provenance": []
  },
  "kernelspec": {
   "display_name": "Python [conda env:base] *",
   "language": "python",
   "name": "conda-base-py"
  },
  "language_info": {
   "codemirror_mode": {
    "name": "ipython",
    "version": 3
   },
   "file_extension": ".py",
   "mimetype": "text/x-python",
   "name": "python",
   "nbconvert_exporter": "python",
   "pygments_lexer": "ipython3",
   "version": "3.12.7"
  }
 },
 "nbformat": 4,
 "nbformat_minor": 4
}
