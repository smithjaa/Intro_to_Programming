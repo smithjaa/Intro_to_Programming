{
 "cells": [
  {
   "cell_type": "markdown",
   "metadata": {
    "colab_type": "text",
    "id": "view-in-github"
   },
   "source": [
    "<a href=\"https://colab.research.google.com/github/smithjaa/Intro_to_Programming/blob/main/ScreenRecordingCodingSet9.ipynb\" target=\"_parent\"><img src=\"https://colab.research.google.com/assets/colab-badge.svg\" alt=\"Open In Colab\"/></a>"
   ]
  },
  {
   "cell_type": "markdown",
   "metadata": {
    "id": "V_9gU-dva4Xx"
   },
   "source": [
    "# Chapter **9** Coding Set\n",
    "\n",
    "\n",
    "Work completed by Jacob Smith.\n",
    "\n",
    "IMPORTANT: Remember to screen record ALL of your work on at least one problem. You must turn off the generative AI code-completion for this problem, as this problem is preparation for our final exam practical. You can turn off generative AI code-completion within Colab by tapping/clicking the settings icon in the upper right, tapping/clicking the AI Assistance section, and then deselecting \"Consented to use generative AI features\" and selecting \"Hide generative AI features\" (these settings may be returned to their previous states once you've completed this problem).\n",
    "\n",
    "If you start to struggle with a problem for an extended period of time, remember you can go comment on two other submissions now (seeing other student work helps), or you can post in our discussion forum for questions, which can also earn you extra credit."
   ]
  },
  {
   "cell_type": "markdown",
   "metadata": {
    "id": "jW9S_3jcOdYt"
   },
   "source": [
    "## Imports\n",
    "\n",
    "**If your program requires additional modules, external resources, or files, use this cell to set them up**"
   ]
  },
  {
   "cell_type": "code",
   "execution_count": null,
   "metadata": {
    "id": "mYW-OioYOu3g"
   },
   "outputs": [],
   "source": [
    "# configure your environment\n",
    "\n",
    "# you can uncomment this code to make use of files stored in your Google Drive\n",
    "# from google.colab import drive\n",
    "# drive.mount('/content/drive')\n",
    "\n",
    "# you can uncomment the following line of code to use the pandas library\n",
    "# import pandas as pd"
   ]
  },
  {
   "cell_type": "markdown",
   "metadata": {
    "id": "2b2z_elQf2qP"
   },
   "source": [
    "## Programming Exercises"
   ]
  },
  {
   "cell_type": "markdown",
   "metadata": {
    "id": "klCvdzHvf74V"
   },
   "source": [
    "### Problem **2 Capital Quiz**\n",
    "\n",
    "#### Question Text\n",
    "\n",
    "*Write a program that creates a dictionary containing the U.S. states as keys, and their capitals as values. (Use the Internet to get a list of the states and their capitals.) The program should then randomly quiz the user by displaying the name of a state and asking the user to enter that state’s capital. The program should keep a count of the number of correct and incorrect responses. (As an alternative to the U.S. states, the program can use the names of countries and their capitals.)*\n",
    "\n",
    "#### High-Level Overview\n",
    "\n",
    "*In two to three sentences at minimum, walk through your general approach to the problem and identify any particular issues you had.*\n"
   ]
  },
  {
   "cell_type": "code",
   "execution_count": 44,
   "metadata": {
    "id": "iQooA6BWlvx5"
   },
   "outputs": [
    {
     "name": "stdout",
     "output_type": "stream",
     "text": [
      "Augusta\n",
      "Welcome to the Capitol Quiz\n"
     ]
    },
    {
     "name": "stdin",
     "output_type": "stream",
     "text": [
      "How many questions would you like 1\n"
     ]
    },
    {
     "ename": "TypeError",
     "evalue": "'float' object is not iterable",
     "output_type": "error",
     "traceback": [
      "\u001b[1;31m---------------------------------------------------------------------------\u001b[0m",
      "\u001b[1;31mTypeError\u001b[0m                                 Traceback (most recent call last)",
      "Cell \u001b[1;32mIn[44], line 42\u001b[0m\n\u001b[0;32m     37\u001b[0m     \u001b[38;5;28;01melse\u001b[39;00m:\n\u001b[0;32m     38\u001b[0m         \u001b[38;5;28mprint\u001b[39m(\u001b[38;5;124mf\u001b[39m\u001b[38;5;124m\"\u001b[39m\u001b[38;5;124mThank you for playing your score was \u001b[39m\u001b[38;5;124m\"\u001b[39m)\n\u001b[1;32m---> 42\u001b[0m main()\n",
      "Cell \u001b[1;32mIn[44], line 29\u001b[0m, in \u001b[0;36mmain\u001b[1;34m()\u001b[0m\n\u001b[0;32m     27\u001b[0m number_questions \u001b[38;5;241m=\u001b[39m \u001b[38;5;28mfloat\u001b[39m(\u001b[38;5;28minput\u001b[39m(\u001b[38;5;124m\"\u001b[39m\u001b[38;5;124mHow many questions would you like\u001b[39m\u001b[38;5;124m\"\u001b[39m))\n\u001b[0;32m     28\u001b[0m \u001b[38;5;66;03m#for loop to go through questions\u001b[39;00m\n\u001b[1;32m---> 29\u001b[0m \u001b[38;5;28;01mfor\u001b[39;00m num \u001b[38;5;129;01min\u001b[39;00m number_questions:\n\u001b[0;32m     30\u001b[0m     \u001b[38;5;66;03m#ask a random question by randomly drawing a dictionary key\u001b[39;00m\n\u001b[0;32m     31\u001b[0m     random_state \u001b[38;5;241m=\u001b[39m random\u001b[38;5;241m.\u001b[39mchoice(\u001b[38;5;28mlist\u001b[39m(states_and_capitals))\n\u001b[0;32m     32\u001b[0m     \u001b[38;5;28mprint\u001b[39m(random_state)\n",
      "\u001b[1;31mTypeError\u001b[0m: 'float' object is not iterable"
     ]
    }
   ],
   "source": [
    "# add your code to this cell\n",
    "# remember to include comments like this one for most of your code\n",
    "# remember to \"Run cell\" once you're done, excecuting your code so the output is displayed below\n",
    "\n",
    "#Import the random module\n",
    "import random\n",
    "\n",
    "#Create Dictionary containing states and capitals\n",
    "states_and_capitals = {\"Alabama\" : \"Montgomery\", \"Alaska\" : \"Juneau\",\"Arizona\" : \"Phoenix\",\"Arkansas\": \"Little Rock\",\"California\" : \"Sacramento\", \"Colorado\" : \"Denver\",\n",
    "                        \"Connecticut\" : \"Hartford\",\"Delaware\" : \"Dover\",\"Florida\" : \"Tallahassee\",\"Georgia\" : \"Atlanta\",\"Hawaii\" : \"Honolulu\",\"Idaho\" : \"Boise\", \n",
    "                       \"Illinois\" : \"Springfield\", \"Indiana\" : \"Indianapolis\", \"Iowa\" : \"Des Moines\", \"Kansas\" : \"Topeka\", \"Kentucky\" : \"Frankfort\", \n",
    "                       \"Louisiana\" : \"Baton Rouge\", \"Maine\" : \"Augusta\", \"Maryland\" : \"Annapolis\", \"Massachusetts\" : \"Boston\", \"Michigan\" : \"Lansing\",\n",
    "                       \"Minnesota\" : \":Saint Paul\", \"Mississippi\" : \"Jackson\", \"Missouri\" : \"Jefferson City\", \"Montana\" : \"Helena\", \"Nebraska\" : \"Lincoln\",  \n",
    "                       \"Nevada\" : \"Carson City\", \"New Hampshire\" : \"Concord\", \"New Jersey\" : \"Trenton\", \"New Mexico\" : \"Santa Fe\", \"New York\" : \"Albany\",\n",
    "                       \"North Carolina\" : \"Raleigh\", \"North Dakota\" : \"Bismarck\", \"Ohio\" : \"Columbus\", \"Oklahoma\" : \"Oklahoma City\", \"Oregon\" : \"Salem\",\n",
    "                       \"Pennsylvania\" : \"Harrisburg\", \"Rhode Island\" : \"Providence\", \"South Carolina\" : \"Columbia\", \"South Dakota\" : \"Pierre\", \"Tennessee\" : \"Nashville\",\n",
    "                       \"Texas\" : \"Austin\", \"Utah\" : \"Salt Lake City\", \"Vermont\" : \"Montpelier\", \"Virginia\" : \"Richmond\", \"Washington\" : \"Olympia\", \"West Virginia\" : \"Charleston\", \n",
    "                       \"Wisconsin\" : \"Madison\", \"Wyoming\" : \"Cheyenne\"}\n",
    "#test to see if formatting is correct... better\n",
    "print (states_and_capitals['Maine'])\n",
    "\n",
    "#Create a main function to welcome user to the quiz, quiz user\n",
    "def main():\n",
    "    #welcome user\n",
    "    print (\"Welcome to the Capitol Quiz\")\n",
    "    #Ask the user if they would like a quiz question\n",
    "    number_questions = float(input(\"How many questions would you like\"))\n",
    "    #for loop to go through questions\n",
    "    for num in number_questions:\n",
    "        #ask a random question by randomly drawing a dictionary key\n",
    "        random_state = random.choice(list(states_and_capitals))\n",
    "        print(random_state)\n",
    "        #input result\n",
    "        #check result\n",
    "        #track correct/incorrect\n",
    "        pass\n",
    "    else:\n",
    "        print(f\"Thank you for playing your score was \")\n",
    "\n",
    "    \n",
    "    \n",
    "main()"
   ]
  },
  {
   "cell_type": "markdown",
   "metadata": {
    "id": "VxGugqDyxh_p"
   },
   "source": [
    "### Problem **?**\n",
    "\n",
    "#### Question Text\n",
    "\n",
    "*Paste in the question text below.*\n",
    "\n",
    "#### High-Level Overview\n",
    "\n",
    "*In two to three sentences at minimum, walk through your general approach to the problem and identify any particular issues you had.*\n"
   ]
  },
  {
   "cell_type": "code",
   "execution_count": null,
   "metadata": {
    "id": "CCUIs3F5xhdd"
   },
   "outputs": [],
   "source": [
    "# add your code to this cell\n",
    "# remember to include comments like this one for most of your code\n",
    "# remember to \"Run cell\" once you're done, excecuting your code so the output is displayed below"
   ]
  },
  {
   "cell_type": "markdown",
   "metadata": {
    "id": "NxsN1n6_yXlW"
   },
   "source": [
    "## Helpful Checks\n",
    "\n",
    "1.   Did you comment every line of code with meaningful information that will help others reading your code?\n",
    "2.   Did you use appropriate names for your variables, functions, and/or classes?\n",
    "3.   Did you include a high-level explanation for each solution?\n",
    "4.   Did you run each cell that includes a final solution so the output is saved and easily viewed by others?\n",
    "5.   Are you sharing an editable link (i.e., Share > Anyone with the link > Editor) if using Colaboratory, or did you make more than ten commits if using GitHub?\n",
    "6.   Did you remember to comment on the submissions of two other students?\n",
    "7.   Did you remember to screen record all of your work for at least one problem while turning off the generative AI features?\n",
    "8.   Did you remember to create a diagram (e.g., UML class diagram, flowchart, or hierarchical diagram) and include the link with your D2L submission?"
   ]
  },
  {
   "cell_type": "code",
   "execution_count": null,
   "metadata": {
    "id": "yRtnTuqDgYhg"
   },
   "outputs": [],
   "source": []
  }
 ],
 "metadata": {
  "colab": {
   "include_colab_link": true,
   "provenance": []
  },
  "kernelspec": {
   "display_name": "Python [conda env:base] *",
   "language": "python",
   "name": "conda-base-py"
  },
  "language_info": {
   "codemirror_mode": {
    "name": "ipython",
    "version": 3
   },
   "file_extension": ".py",
   "mimetype": "text/x-python",
   "name": "python",
   "nbconvert_exporter": "python",
   "pygments_lexer": "ipython3",
   "version": "3.12.7"
  }
 },
 "nbformat": 4,
 "nbformat_minor": 4
}
