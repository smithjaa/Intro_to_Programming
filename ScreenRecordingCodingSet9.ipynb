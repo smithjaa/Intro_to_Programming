{
 "cells": [
  {
   "cell_type": "markdown",
   "metadata": {
    "colab_type": "text",
    "id": "view-in-github"
   },
   "source": [
    "<a href=\"https://colab.research.google.com/github/smithjaa/Intro_to_Programming/blob/main/ScreenRecordingCodingSet9.ipynb\" target=\"_parent\"><img src=\"https://colab.research.google.com/assets/colab-badge.svg\" alt=\"Open In Colab\"/></a>"
   ]
  },
  {
   "cell_type": "markdown",
   "metadata": {
    "id": "V_9gU-dva4Xx"
   },
   "source": [
    "# Chapter **9** Coding Set\n",
    "\n",
    "\n",
    "Work completed by Jacob Smith.\n",
    "\n",
    "IMPORTANT: Remember to screen record ALL of your work on at least one problem. You must turn off the generative AI code-completion for this problem, as this problem is preparation for our final exam practical. You can turn off generative AI code-completion within Colab by tapping/clicking the settings icon in the upper right, tapping/clicking the AI Assistance section, and then deselecting \"Consented to use generative AI features\" and selecting \"Hide generative AI features\" (these settings may be returned to their previous states once you've completed this problem).\n",
    "\n",
    "If you start to struggle with a problem for an extended period of time, remember you can go comment on two other submissions now (seeing other student work helps), or you can post in our discussion forum for questions, which can also earn you extra credit."
   ]
  },
  {
   "cell_type": "markdown",
   "metadata": {
    "id": "jW9S_3jcOdYt"
   },
   "source": [
    "## Imports\n",
    "\n",
    "**If your program requires additional modules, external resources, or files, use this cell to set them up**"
   ]
  },
  {
   "cell_type": "code",
   "execution_count": null,
   "metadata": {
    "id": "mYW-OioYOu3g"
   },
   "outputs": [],
   "source": [
    "# configure your environment\n",
    "\n",
    "# you can uncomment this code to make use of files stored in your Google Drive\n",
    "# from google.colab import drive\n",
    "# drive.mount('/content/drive')\n",
    "\n",
    "# you can uncomment the following line of code to use the pandas library\n",
    "# import pandas as pd"
   ]
  },
  {
   "cell_type": "markdown",
   "metadata": {
    "id": "2b2z_elQf2qP"
   },
   "source": [
    "## Programming Exercises"
   ]
  },
  {
   "cell_type": "markdown",
   "metadata": {
    "id": "klCvdzHvf74V"
   },
   "source": [
    "### Problem **2 Capital Quiz**\n",
    "\n",
    "#### Question Text\n",
    "\n",
    "Write a program that creates a dictionary containing the U.S. states as keys, and their capitals as values. (Use the Internet to get a list of the states and their capitals.) The program should then randomly quiz the user by displaying the name of a state and asking the user to enter that state’s capital. The program should keep a count of the number of correct and incorrect responses. (As an alternative to the U.S. states, the program can use the names of countries and their capitals.)\n",
    "\n",
    "#### High-Level Overview\n",
    "\n",
    "This was actually my second attempt at doing the problem.  The first time I used chatgpt to create my capital/state list and I wasn't sure if that was allowed so started over.  I also really struggled with writing this in general, so took some time to get some practice.  That said, to create this I made a dictionary of states as keys and capitals as values.  Next I created a main function welcoming the user, and turned the keys from the dictionary into a list of states.\n",
    "\n",
    "Next I asked the user how many questions they would like, and ran that through a for loop.  In the for loop I used the random function to choose a state from the state list and assign a variable to capital.  I asked a question referencing the state, and checked the answer against the capital variable.  I tallied the correct and incorrect answers and when it was complete I displayed all of them.\n",
    "\n",
    "The biggest issues I had doing this was in leaving things in the for loop that shouldn't have been.  Such as the tally counters (which reset to 0 on every iteration) and also the final print statement.  I wish I had chosen a different problem, but who knows they all may have been just as challenging for me.  Anyway, good learning experience.\n"
   ]
  },
  {
   "cell_type": "code",
   "execution_count": 31,
   "metadata": {
    "id": "iQooA6BWlvx5"
   },
   "outputs": [
    {
     "name": "stdout",
     "output_type": "stream",
     "text": [
      "Welcome to the U.S. State Capital Quiz!\n"
     ]
    },
    {
     "name": "stdin",
     "output_type": "stream",
     "text": [
      "How many questions would you like in your quiz? 3\n",
      "What is the capital of Utah Salt Lake City\n"
     ]
    },
    {
     "name": "stdout",
     "output_type": "stream",
     "text": [
      "That is the correct capital!\n"
     ]
    },
    {
     "name": "stdin",
     "output_type": "stream",
     "text": [
      "What is the capital of Arizona Phoenix\n"
     ]
    },
    {
     "name": "stdout",
     "output_type": "stream",
     "text": [
      "That is the correct capital!\n"
     ]
    },
    {
     "name": "stdin",
     "output_type": "stream",
     "text": [
      "What is the capital of North Carolina Lansing\n"
     ]
    },
    {
     "name": "stdout",
     "output_type": "stream",
     "text": [
      "That is the incorrect capital!\n",
      "Your quiz is complete, you had 2 correct answers, and 1 incorrect answers\n"
     ]
    }
   ],
   "source": [
    "### add your code to this cell\n",
    "# remember to include comments like this one for most of your code\n",
    "# remember to \"Run cell\" once you're done, excecuting your code so the output is displayed below\n",
    "\n",
    "\n",
    "#import random for random choice (note: random.choice... i think)\n",
    "import random\n",
    "\n",
    "#Create Dictionary containing all U.S. States and capitals\n",
    "\n",
    "states_capitals = {\"Alabama\" : \"Montgomery\", \"Alaska\" : \"Juneau\", \"Arizona\" : \"Phoenix\", \"Arkansas\" : \"Little Rock\", \"California\" :\t\"Sacramento\",\n",
    "                   \"Colorado\" : \"Denver\", \"Connecticut\" : \"Hartford\", \"Delaware\" : \"Dover\", \"Florida\" :\t\"Tallahassee\", \"Georgia\" : \"Atlanta\",\n",
    "                   \"Hawaii\" : \"Honolulu\", \"Idaho\" : \"Boise\", \"Illinois\" : \"Springfield\", \"Indiana\" : \"Indianapolis\", \"Iowa\" : \"Des Moines\",\n",
    "                   \"Kansas\" : \"Topeka\", \"Kentucky\" : \"Frankfort\", \"Louisiana\" :\t\"Baton Rouge\", \"Maine\" : \"Augusta\", \"Maryland\" : \"Annapolis\",\n",
    "                   \"Massachusetts\" : \"Boston\", \"Michigan\" : \"Lansing\", \"Minnesota\" : \"Saint Paul\", \"Mississippi\" : \"Jackson\",\n",
    "                   \"Missouri\" : \"Jefferson City\", \"Montana\" : \"Helena\", \"Nebraska\" : \"Lincoln\", \"Nevada\" : \"Carson City\", \"New Hampshire\" : \"Concord\",\n",
    "                   \"New Jersey\" : \"Trenton\", \"New Mexico\" : \"Santa Fe\", \"New York\" : \"Albany\", \"North Carolina\" : \"Raleigh\", \"North Dakota\" : \"Bismarck\",\n",
    "                   \"Ohio\" : \"Columbus\", \"Oklahoma\" : \"Oklahoma City\", \"Oregon\" : \"Salem\", \"Pennsylvania\" : \"Harrisburg\", \"Rhode Island\" : \"Providence\",\n",
    "                   \"South Carolina\" : \"Columbia\", \"South Dakota\" : \"Pierre\", \"Tennessee\" : \"Nashville\", \"Texas\" : \"Austin\", \"Utah\"\t: \"Salt Lake City\",\n",
    "                   \"Vermont\" : \"Montpelier\", \"Virginia\" : \"Richmond\", \"Washington\" : \"Olympia\", \"West Virginia\" : \"Charleston\", \"Wisconsin\" : \"Madison\",\n",
    "                   \"Wyoming\" : \"Cheyenne\"}\n",
    "\n",
    "#Create Main function, welcoming user, asking how many questions they would like, performing quiz\n",
    "def main():\n",
    "    #Welcome msg\n",
    "    print(\"Welcome to the U.S. State Capital Quiz!\")\n",
    "    #input number of questions user would like\n",
    "    number_questions = int(input(\"How many questions would you like in your quiz?\"))\n",
    "\n",
    "    #create a list of states, converted from keys in the dictionary list\n",
    "    states_list = list(states_capitals.keys())\n",
    "\n",
    "    #Create variable for correct/incorrect\n",
    "    correct = 0\n",
    "    incorrect = 0\n",
    "\n",
    "    #Ask the questions, in a loop\n",
    "    for num in range(number_questions):\n",
    "        \n",
    "        #choose a state with random, assign to state variable\n",
    "        state = random.choice(states_list)\n",
    "        #Assign capital a value for test based on key value of state\n",
    "        capital = states_capitals [state]\n",
    "\n",
    "        #ask the question\n",
    "        answer = input(f\"What is the capital of {state}\")\n",
    "\n",
    "        #check the answer to see if correct, change all to lower case to avoid capitalization errors, adding .strip to remove any spaces\n",
    "        if answer.lower().strip() == capital.lower().strip():\n",
    "            print(\"That is the correct capital!\")\n",
    "            #Add to correct tally\n",
    "            correct += 1\n",
    "        else:\n",
    "            #Add to incorrect talley\n",
    "            print(\"That is the incorrect capital!\")\n",
    "            incorrect += 1\n",
    "\n",
    "    #complete the quiz tally correct and incorrect answers\n",
    "    print(f\"Your quiz is complete, you had {correct} correct answers, and {incorrect} incorrect answers\")\n",
    "       \n",
    "    \n",
    "main()\n"
   ]
  },
  {
   "cell_type": "markdown",
   "metadata": {
    "id": "VxGugqDyxh_p"
   },
   "source": [
    "### Problem **?**\n",
    "\n",
    "#### Question Text\n",
    "\n",
    "*Paste in the question text below.*\n",
    "\n",
    "#### High-Level Overview\n",
    "\n",
    "*In two to three sentences at minimum, walk through your general approach to the problem and identify any particular issues you had.*\n"
   ]
  },
  {
   "cell_type": "code",
   "execution_count": null,
   "metadata": {
    "id": "CCUIs3F5xhdd"
   },
   "outputs": [],
   "source": [
    "# add your code to this cell\n",
    "# remember to include comments like this one for most of your code\n",
    "# remember to \"Run cell\" once you're done, excecuting your code so the output is displayed below"
   ]
  },
  {
   "cell_type": "markdown",
   "metadata": {
    "id": "NxsN1n6_yXlW"
   },
   "source": [
    "## Helpful Checks\n",
    "\n",
    "1.   Did you comment every line of code with meaningful information that will help others reading your code?\n",
    "2.   Did you use appropriate names for your variables, functions, and/or classes?\n",
    "3.   Did you include a high-level explanation for each solution?\n",
    "4.   Did you run each cell that includes a final solution so the output is saved and easily viewed by others?\n",
    "5.   Are you sharing an editable link (i.e., Share > Anyone with the link > Editor) if using Colaboratory, or did you make more than ten commits if using GitHub?\n",
    "6.   Did you remember to comment on the submissions of two other students?\n",
    "7.   Did you remember to screen record all of your work for at least one problem while turning off the generative AI features?\n",
    "8.   Did you remember to create a diagram (e.g., UML class diagram, flowchart, or hierarchical diagram) and include the link with your D2L submission?"
   ]
  },
  {
   "cell_type": "code",
   "execution_count": null,
   "metadata": {
    "id": "yRtnTuqDgYhg"
   },
   "outputs": [],
   "source": []
  }
 ],
 "metadata": {
  "colab": {
   "include_colab_link": true,
   "provenance": []
  },
  "kernelspec": {
   "display_name": "Python [conda env:base] *",
   "language": "python",
   "name": "conda-base-py"
  },
  "language_info": {
   "codemirror_mode": {
    "name": "ipython",
    "version": 3
   },
   "file_extension": ".py",
   "mimetype": "text/x-python",
   "name": "python",
   "nbconvert_exporter": "python",
   "pygments_lexer": "ipython3",
   "version": "3.12.7"
  }
 },
 "nbformat": 4,
 "nbformat_minor": 4
}
