{
 "cells": [
  {
   "cell_type": "markdown",
   "metadata": {
    "colab_type": "text",
    "id": "view-in-github"
   },
   "source": [
    "<a href=\"https://colab.research.google.com/github/smithjaa/Intro_to_Programming/blob/main/JacobSCodingSet3.ipynb\" target=\"_parent\"><img src=\"https://colab.research.google.com/assets/colab-badge.svg\" alt=\"Open In Colab\"/></a>"
   ]
  },
  {
   "cell_type": "markdown",
   "metadata": {
    "id": "V_9gU-dva4Xx"
   },
   "source": [
    "# Chapter 3 Coding Set\n",
    "\n",
    "**Remember to save a copy of this template BEFORE YOU START WORKING :)**\n",
    "\n",
    "Work completed by Jacob Smith.\n",
    "\n",
    "If you start to struggle with a problem for an extended period of time, remember you can go comment on two other submissions now (seeing other student work helps), or you can post in our discussion forum for questions, which can also earn you extra credit."
   ]
  },
  {
   "cell_type": "markdown",
   "metadata": {
    "id": "jW9S_3jcOdYt"
   },
   "source": [
    "## Imports\n",
    "\n",
    "**If your program requires additional modules, external resources, or files, use this cell to set them up**"
   ]
  },
  {
   "cell_type": "code",
   "execution_count": null,
   "metadata": {
    "id": "mYW-OioYOu3g"
   },
   "outputs": [],
   "source": [
    "# configure your environment\n",
    "\n",
    "# you can uncomment this code to make use of files stored in your Google Drive\n",
    "# from google.colab import drive\n",
    "# drive.mount('/content/drive')\n",
    "\n",
    "# you can uncomment the following line of code to use the pandas library\n",
    "# import pandas as pd"
   ]
  },
  {
   "cell_type": "markdown",
   "metadata": {
    "id": "VH4eGQyub8yQ"
   },
   "source": [
    "## Algorithm Workbench"
   ]
  },
  {
   "cell_type": "markdown",
   "metadata": {
    "id": "dBl7Q9AZcLMU"
   },
   "source": [
    "### Problem 4\n",
    "\n",
    "#### Question Text\n",
    "\n",
    "The following code contains several nested if-else statements. Unfortunately, it was written without proper alignment and indentation. Rewrite the code and use the proper conventions of alignment and indentation.\n",
    "\n",
    "#### High-Level Overview\n",
    "\n",
    "I added a base score value for testing the code.  Next I added values to A_score through D_score for testing.  After that, I made aligned the code properly so that it was effective.\n"
   ]
  },
  {
   "cell_type": "code",
   "execution_count": 12,
   "metadata": {
    "id": "k4iGFPemb26z"
   },
   "outputs": [
    {
     "name": "stdout",
     "output_type": "stream",
     "text": [
      "Your grade is F.\n"
     ]
    }
   ],
   "source": [
    "# add your code to this cell\n",
    "# remember to include comments like this one for most of your code\n",
    "# remember to \"Run cell\" once you're done, excecuting your code so the output is displayed below\n",
    "\n",
    "#Assign values to score\n",
    "score =42\n",
    "\n",
    "#Assign values to letter grades for testing code\n",
    "A_score = 91\n",
    "B_score = 81\n",
    "C_score = 71\n",
    "D_score = 61\n",
    "\n",
    "#correcting this section only using indentation\n",
    "if score >= A_score:\n",
    "    print('Your grade is A.')\n",
    "else:\n",
    "    if score >= B_score:\n",
    "        print('Your grade is B.')\n",
    "    else:\n",
    "        if score >= C_score:\n",
    "            print('Your grade is C.')\n",
    "        else:\n",
    "            if score >= D_score:\n",
    "                print('Your grade is D.')\n",
    "            else:\n",
    "                print('Your grade is F.')\n"
   ]
  },
  {
   "cell_type": "markdown",
   "metadata": {
    "id": "o9xcij9hfq-5"
   },
   "source": [
    "### Problem 5\n",
    "\n",
    "#### Question Text\n",
    "\n",
    "Write nested decision structures that perform the following: If amount1 is greater than 10 and amount2 is less than 100, display the greater of amount1 and amount2.\n",
    "\n",
    "#### High-Level Overview\n",
    "\n",
    "First I gave lines for values for the two variables, next I started the nested if statement.  I determined if the innitial query was met, then determined which value was greater with two statements, and printed the result with an f string.  I decided to add a print statement for both when the two values were equal and when the numbers did not meet the question's criteria."
   ]
  },
  {
   "cell_type": "code",
   "execution_count": 35,
   "metadata": {
    "id": "ubgUdOUTl24X"
   },
   "outputs": [
    {
     "name": "stdout",
     "output_type": "stream",
     "text": [
      "81 is greater than 80\n"
     ]
    }
   ],
   "source": [
    "# add your code to this cell\n",
    "# remember to include comments like this one for most of your code\n",
    "# remember to \"Run cell\" once you're done, excecuting your code so the output is displayed below\n",
    "\n",
    "#Variables for amount1 and amount 2\n",
    "amount1 = 80\n",
    "amount2 = 81\n",
    "\n",
    "#Determine if amount1 is greater than 10, and that amount2 is less than 100\n",
    "if amount1 > 10 and amount2 < 100:\n",
    "#Determine if amount1 is greater than amount2 and print result\n",
    "    if amount1 > amount2:\n",
    "        print (f\"{amount1} is greater than {amount2}\")\n",
    "    elif amount1 < amount2:\n",
    "        print (f\"{amount2} is greater than {amount1}\")\n",
    "#Added statement for when the two values are equal\n",
    "    else:\n",
    "        print (\"The two values were equal\")\n",
    "#else statement for when innitial conditions are not met\n",
    "else:\n",
    "    print (\"Your numbers do not meet the criteria\")"
   ]
  },
  {
   "cell_type": "markdown",
   "metadata": {
    "id": "2b2z_elQf2qP"
   },
   "source": [
    "## Programming Exercises"
   ]
  },
  {
   "cell_type": "markdown",
   "metadata": {
    "id": "klCvdzHvf74V"
   },
   "source": [
    "### Problem 1\n",
    "\n",
    "#### Question Text\n",
    "\n",
    "1. Day of the Week\n",
    "Write a program that asks the user for a number in the range of 1 through 7. The program should display the corresponding day of the week, where 1 = Monday, 2 = Tuesday, 3 = Wednesday, 4 = Thursday, 5 = Friday, 6 = Saturday, and 7 = Sunday. The program should display an error message if the user enters a number that is outside the range of 1 through 7.\n",
    "\n",
    "#### High-Level Overview\n",
    "\n",
    "I made a welcome user and input for the day of the week.  This actually cost me some time because I initially forgot to turn the input into an integer.  Next I used if and elif statements to convert the numbers to days.  Finally I used the elif statement to print the error Message.\n"
   ]
  },
  {
   "cell_type": "code",
   "execution_count": 57,
   "metadata": {
    "id": "iQooA6BWlvx5"
   },
   "outputs": [
    {
     "name": "stdout",
     "output_type": "stream",
     "text": [
      "Welcome to the Day of the Week Machine!\n"
     ]
    },
    {
     "name": "stdin",
     "output_type": "stream",
     "text": [
      "Please enter the number you would like converted to a weekday 6\n"
     ]
    },
    {
     "name": "stdout",
     "output_type": "stream",
     "text": [
      "Your day is Saturday.\n"
     ]
    }
   ],
   "source": [
    "# add your code to this cell\n",
    "# remember to include comments like this one for most of your code\n",
    "# remember to \"Run cell\" once you're done, excecuting your code so the output is displayed below\n",
    "\n",
    "#Welcome the user and print a request for input\n",
    "print (\"Welcome to the Day of the Week Machine!\")\n",
    "dayofweek = int(input(\"Please enter the number you would like converted to a weekday\"))\n",
    "\n",
    "#Use if, elif, else to convert the number to a day or return an error.\n",
    "if dayofweek == 1:\n",
    "    print(\"Your day is Monday.\")\n",
    "elif dayofweek == 2:\n",
    "    print(\"Your day is Tuesday.\")\n",
    "elif dayofweek == 3:\n",
    "    print(\"Your day is Wednesday.\")\n",
    "elif dayofweek == 4:\n",
    "    print(\"Your day is Thursday.\")\n",
    "elif dayofweek == 5:\n",
    "    print(\"Your day is Friday.\")\n",
    "elif dayofweek == 6:\n",
    "    print(\"Your day is Saturday.\")\n",
    "elif dayofweek == 7:\n",
    "    print(\"Your day is Sunday.\")\n",
    "else:\n",
    "    print (\"You have chosen a number outside of the range (1-7)\")\n"
   ]
  },
  {
   "cell_type": "markdown",
   "metadata": {
    "id": "VxGugqDyxh_p"
   },
   "source": [
    "### Problem 5\n",
    "\n",
    "#### Question Text\n",
    "\n",
    "Mass and Weight\n",
    "Scientists measure an object’s mass in kilograms and its weight in newtons. If you know the amount of mass of an object in kilograms, you can calculate its weight in newtons with the following formula:\n",
    "\n",
    "𝑤𝑒𝑖𝑔ℎ𝑡=𝑚𝑎𝑠𝑠×9.8\n",
    "\n",
    "Write a program that asks the user to enter an object’s mass, then calculates its weight. If the object weighs more than 500 newtons, display a message indicating that it is too heavy. If the object weighs less than 100 newtons, display a message indicating that it is too light.\n",
    "\n",
    "#### High-Level Overview\n",
    "\n",
    "I added a welcome message and input, making sure to turn the input string into an integer so we can work with it.  Next there is an if statement for more than 500 disqualifying it, and less than 100 disqualifying it.  Finally I made an else statement for printing the weight if it was not too heavy or light.  I made an error in that I forgot the \":\" on the final else statement, but otherwise, it went smoothly."
   ]
  },
  {
   "cell_type": "code",
   "execution_count": 22,
   "metadata": {
    "id": "CCUIs3F5xhdd"
   },
   "outputs": [
    {
     "name": "stdout",
     "output_type": "stream",
     "text": [
      "Welcome to the newton weight criticizer!\n"
     ]
    },
    {
     "name": "stdin",
     "output_type": "stream",
     "text": [
      "Please enter your object's mass in kilograms: 18\n"
     ]
    },
    {
     "name": "stdout",
     "output_type": "stream",
     "text": [
      "Your object weighs 176.4 newtons.\n"
     ]
    }
   ],
   "source": [
    "# add your code to this cell\n",
    "# remember to include comments like this one for most of your code\n",
    "# remember to \"Run cell\" once you're done, excecuting your code so the output is displayed below\n",
    "\n",
    "#Print Welcome Message and input a users mass in kilograms, making sure to convert the string to an int.\n",
    "print(\"Welcome to the newton weight criticizer!\")\n",
    "objectmass = int(input(\"Please enter your object's mass in kilograms:\"))\n",
    "#Do the math\n",
    "objectweight = objectmass * 9.8\n",
    "\n",
    "if objectweight > 500:\n",
    "    print(\"Your object is too heavy\")\n",
    "elif objectweight < 100:\n",
    "    print(\"Your object is too light\")\n",
    "else:\n",
    "    print(f\"Your object weighs {objectweight} newtons.\")\n"
   ]
  },
  {
   "cell_type": "markdown",
   "metadata": {
    "id": "kqfebVBKxlKj"
   },
   "source": [
    "### Problem 15\n",
    "\n",
    "#### Question Text\n",
    "\n",
    "Time Calculator\n",
    "\n",
    "Write a program that asks the user to enter a number of seconds and works as follows:\n",
    "\n",
    "There are 60 seconds in a minute. If the number of seconds entered by the user is greater than or equal to 60, the program should convert the number of seconds to minutes and seconds.\n",
    "\n",
    "There are 3,600 seconds in an hour. If the number of seconds entered by the user is greater than or equal to 3,600, the program should convert the number of seconds to hours, minutes, and seconds.\n",
    "\n",
    "There are 86,400 seconds in a day. If the number of seconds entered by the user is greater than or equal to 86,400, the program should convert the number of seconds to days, hours, minutes, and seconds.\n",
    "\n",
    "#### High-Level Overview\n",
    "\n",
    "First I welcomed the user and asked them for a value.  Next I had to determine the values that would match up with each criteria by using boolean operators.  This all went well.  Next I got to the process determining the days, which went fine, but I realized I had to figure out remaining seconds to print the hours, minutes, and seconds.  I ended up using the modulo operator to determine the remaining seconds.  Finally I did the remaining division (using // instead of /, to floor the number and drop any remainder).  The rest of the code was just repeating the first process, but smaller and smaller until I was only calculating seconds.\n"
   ]
  },
  {
   "cell_type": "code",
   "execution_count": 15,
   "metadata": {
    "id": "9yuG65pIxkQJ"
   },
   "outputs": [
    {
     "name": "stdout",
     "output_type": "stream",
     "text": [
      "Welcome to the time calculator!\n"
     ]
    },
    {
     "name": "stdin",
     "output_type": "stream",
     "text": [
      "Please enter a value in seconds: 193564\n"
     ]
    },
    {
     "name": "stdout",
     "output_type": "stream",
     "text": [
      "Your calculated time is 2 days, 5 hours, 46 minutes, and 4 seconds.\n"
     ]
    }
   ],
   "source": [
    "# add your code to this cell\n",
    "# remember to include comments like this one for most of your code\n",
    "# remember to \"Run cell\" once you're done, excecuting your code so the output is displayed below\n",
    "\n",
    "#Welcome the user, then ask for a second value to assign to a variable, making sure that value is an integer.\n",
    "print (\"Welcome to the time calculator!\")\n",
    "seconds = float(input(\"Please enter a value in seconds:\"))\n",
    "\n",
    "#Determine if time value is greater than or equal to 86,400.  If it is, then perform calculations to convert to days, hours, minutes and seconds.\n",
    "if seconds >= 86400:\n",
    "#Divide seconds by 86400 to determine the days, using floor division to drop the remainder and change to an integer\n",
    "    days = int(seconds // 86400)\n",
    "#Assign the remaining seconds back to seconds back to time variable\n",
    "    seconds = (seconds % 86400)\n",
    "#Divide seconds by 3,600 to determine the hours using floor division. Then use modulo to determine remaining seconds.\n",
    "    hours = int(seconds//3600)\n",
    "    seconds = (seconds % 3600)\n",
    "#Divide seconds by 60 to determine the remaining minutes.  Then use modulo to determine remaining seconds.\n",
    "    minutes = int(seconds//60)\n",
    "    seconds = int(seconds % 60)\n",
    "#Print the result of days, hours, minutes, seconds using an f-string.\n",
    "    print (f\"Your calculated time is {days} days, {hours} hours, {minutes} minutes, and {seconds} seconds.\")\n",
    "#Repeat the process above, starting with hours rather than days. Using boolean operators to narrow seconds to hours.\n",
    "elif seconds < 86400 and seconds >= 3600:\n",
    "    hours = int(seconds//3600)\n",
    "    seconds = (seconds % 3600)\n",
    "    minutes = int(seconds//60)\n",
    "    seconds = int(seconds % 60)\n",
    "    print (f\"Your calculated time is {hours} hours, {minutes} minutes, and {seconds} seconds.\")\n",
    "#Repeat above, narrowing further to just minutes and seconds.\n",
    "elif seconds < 3600 and seconds >= 60:\n",
    "    minutes = int(seconds//60)\n",
    "    seconds = int(seconds % 60)\n",
    "    print (f\"Your calculated time is {minutes} minutes and {seconds} seconds.\")\n",
    "#Repeat above, narrowing to just seconds.\n",
    "elif seconds < 60:\n",
    "    seconds = int(seconds % 60)\n",
    "    print (f\"Your calculated time is {seconds} seconds.\")"
   ]
  },
  {
   "cell_type": "markdown",
   "metadata": {
    "id": "uMknY49Txpht"
   },
   "source": [
    "### Problem 17\n",
    "\n",
    "#### Question Text\n",
    "\n",
    "Figure 3-19 shows a simplified flowchart for troubleshooting a bad Wi-Fi connection. Use the flowchart to create a program that leads a person through the steps of fixing a bad Wi-Fi connection. Here is an example of the program’s output:\n",
    "\n",
    "Reboot the computer and try to connect.\n",
    " Did that fix the problem? no [Enter]\n",
    " Reboot the router and try to connect.\n",
    " Did that fix the problem? yes [Enter]\n",
    " \n",
    "#### High-Level Overview\n",
    "\n",
    "*In two to three sentences at minimum, walk through your general approach to the problem and identify any particular issues you had.*\n"
   ]
  },
  {
   "cell_type": "code",
   "execution_count": 49,
   "metadata": {
    "id": "UByfwHefxpPH"
   },
   "outputs": [
    {
     "name": "stdout",
     "output_type": "stream",
     "text": [
      "Reboot the computer and try to connect.\n"
     ]
    },
    {
     "name": "stdin",
     "output_type": "stream",
     "text": [
      "Did that fix the problem? no\n"
     ]
    },
    {
     "name": "stdout",
     "output_type": "stream",
     "text": [
      "Reboot the router and try to connect.\n"
     ]
    },
    {
     "name": "stdin",
     "output_type": "stream",
     "text": [
      "Did that fix the problem? no\n"
     ]
    },
    {
     "name": "stdout",
     "output_type": "stream",
     "text": [
      "Make sure the cables between the router & modem are plugged in firmly\n"
     ]
    },
    {
     "name": "stdin",
     "output_type": "stream",
     "text": [
      "Did that fix the problem? no\n"
     ]
    },
    {
     "name": "stdout",
     "output_type": "stream",
     "text": [
      "no\n"
     ]
    }
   ],
   "source": [
    "# add your code to this cell\n",
    "# remember to include comments like this one for most of your code\n",
    "# remember to \"Run cell\" once you're done, excecuting your code so the output is displayed below\n",
    "\n",
    "\n",
    "#Print the first statement and request.\n",
    "print(\"Reboot the computer and try to connect.\")\n",
    "\n",
    "fixed = input(\"Did that fix the problem?\")\n",
    "#Determine if things were fixed using boolean operators and if statements.\n",
    "if fixed == \"yes\":\n",
    "    print(\"Congrats, I hope we were helpful in resolving your issues\")\n",
    "elif fixed == \"no\":\n",
    "#Ask the second request statement   \n",
    "    print(\"Reboot the router and try to connect.\")\n",
    "#Ask if the problem was fixed again, changing the variable \"fixed\".\n",
    "    fixed = input(\"Did that fix the problem?\")\n",
    "    if fixed == \"yes\":\n",
    "        print(\"Congrats, I hope we were helpful in resolving your issues\")\n",
    "    elif fixed == \"no\":\n",
    "#Ask the third request statement\n",
    "        print(\"Make sure the cables between the router & modem are plugged in firmly\")\n",
    "#Ask if the problem was fixed again, changing the variable \"fixed\".\n",
    "        fixed = input(\"Did that fix the problem?\")\n",
    "        if fixed == \"yes\":\n",
    "            print(\"Congrats, I hope we were helpful in resolving your issues\")\n",
    "        elif fixed == \"no\":\n",
    "#Ask the fourth request statement           \n",
    "            print\n",
    "        \n",
    "        \n",
    "else:\n",
    "    print('Improper response, please use \"yes\" or \"no\" in the future.')\n",
    "    \n",
    "print (fixed)\n"
   ]
  },
  {
   "cell_type": "code",
   "execution_count": 31,
   "metadata": {},
   "outputs": [
    {
     "ename": "SyntaxError",
     "evalue": "unterminated string literal (detected at line 1) (1204625224.py, line 1)",
     "output_type": "error",
     "traceback": [
      "\u001b[1;36m  Cell \u001b[1;32mIn[31], line 1\u001b[1;36m\u001b[0m\n\u001b[1;33m    input(\"Did that fix the problem?)\u001b[0m\n\u001b[1;37m          ^\u001b[0m\n\u001b[1;31mSyntaxError\u001b[0m\u001b[1;31m:\u001b[0m unterminated string literal (detected at line 1)\n"
     ]
    }
   ],
   "source": [
    "input(\"Did that fix the problem?)"
   ]
  },
  {
   "cell_type": "markdown",
   "metadata": {
    "id": "NxsN1n6_yXlW"
   },
   "source": [
    "## Helpful Checks\n",
    "\n",
    "1.   Did you comment every line of code with meaningful information that will help others reading your code?\n",
    "2.   Did you use appropriate names for your variables, functions, and/or classes?\n",
    "3.   Did you include a high-level explanation for each solution?\n",
    "4.   Did you run each cell that includes a final solution so the output is saved and easily viewed by others?\n",
    "5.   Are you sharing an editable link (i.e., Share > Anyone with the link > Editor) if using Colaboratory, or did you make more than ten commits if using GitHub?\n",
    "6.   Did you remember to comment on the submissions of two other students?"
   ]
  },
  {
   "cell_type": "code",
   "execution_count": null,
   "metadata": {
    "id": "wxzLHFoJTksu"
   },
   "outputs": [],
   "source": []
  }
 ],
 "metadata": {
  "colab": {
   "include_colab_link": true,
   "provenance": []
  },
  "kernelspec": {
   "display_name": "Python [conda env:base] *",
   "language": "python",
   "name": "conda-base-py"
  },
  "language_info": {
   "codemirror_mode": {
    "name": "ipython",
    "version": 3
   },
   "file_extension": ".py",
   "mimetype": "text/x-python",
   "name": "python",
   "nbconvert_exporter": "python",
   "pygments_lexer": "ipython3",
   "version": "3.12.7"
  }
 },
 "nbformat": 4,
 "nbformat_minor": 4
}
